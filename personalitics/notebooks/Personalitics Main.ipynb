{
 "cells": [
  {
   "cell_type": "markdown",
   "metadata": {},
   "source": [
    "<h1> Personalitics [MBTI Classifier]</h1>"
   ]
  },
  {
   "cell_type": "markdown",
   "metadata": {},
   "source": [
    "# 1. Project Overview"
   ]
  },
  {
   "cell_type": "markdown",
   "metadata": {},
   "source": [
    "Personalitics is a text analytics project that aims to know if it's possible to classify a person based on his/her social media posts. To create an analytical model, this project will use a pre-labeled web scraped data from <i>16Personalities' Discussion Forum</i>. \n",
    "<br>\n",
    "\n",
    "> Credits: 16personalities.com\n",
    "\n",
    "<b> What is 16Personalities? </b>\n",
    "<br>\n",
    "\n",
    "\n",
    "16Personalities is a web platform that helps people know more about their personality type. They are using the Myers–Briggs Type Indicator (MBTI) model on their personality type test to evaluate an individual. They have a discussion forum which allows their members to ask questions and discuss a particular topic.\n",
    "<br>\n",
    "\n",
    "<b> MBTI Overview: </b>\n",
    "\n",
    "MBTI is an introspective self-report questionnaire indicating differing psychological preferences in how people perceive the world and make decisions. MBTI divides everyone into 16 distinct personality types across 4 axis:\n",
    "\n",
    "*  Introversion (I) – Extroversion (E)\n",
    "*  Intuition (N) – Sensing (S)\n",
    "*  Thinking (T) – Feeling (F)\n",
    "*  Judging (J) – Perceiving (P)"
   ]
  },
  {
   "cell_type": "markdown",
   "metadata": {},
   "source": [
    "## 1.1 Sources/Useful Links"
   ]
  },
  {
   "cell_type": "markdown",
   "metadata": {},
   "source": [
    "<b>Sources:</b> <br>\n",
    "https://en.wikipedia.org/wiki/Myers%E2%80%93Briggs_Type_Indicator\n",
    "\n",
    "<b>Useful Links:</b><br>\n",
    "https://www.myersbriggs.org/my-mbti-personality-type/mbti-basics/ <br>\n",
    "https://www.16personalities.com/articles/our-theory"
   ]
  },
  {
   "cell_type": "markdown",
   "metadata": {},
   "source": [
    "## 1.2 Problem Statement"
   ]
  },
  {
   "cell_type": "markdown",
   "metadata": {},
   "source": [
    "*  Identify what is the MBTI of a post owner from 16Personalities' Discussion Forum.\n",
    "*  This could be very useful for various organizations, especially on their HR analytics / Marketing teams. \n",
    "<i>ie.</i> Help them develop a prior knowledge on their Job Applicants by researching Job Applicants' social media posts. Or help them taylor cohorts for their marketing campaigns."
   ]
  },
  {
   "cell_type": "markdown",
   "metadata": {},
   "source": [
    "## 1.3 Objective(s)"
   ]
  },
  {
   "cell_type": "markdown",
   "metadata": {},
   "source": [
    "* The main objective of this project is to provide a probability that a post belongs to a particular personality type (among the 16 personalities)."
   ]
  },
  {
   "cell_type": "markdown",
   "metadata": {},
   "source": [
    "# 2. Machine Learning Problem"
   ]
  },
  {
   "cell_type": "markdown",
   "metadata": {},
   "source": [
    "## 2.1 Data"
   ]
  },
  {
   "cell_type": "markdown",
   "metadata": {},
   "source": [
    "### 2.1.1 Data Overview"
   ]
  },
  {
   "cell_type": "markdown",
   "metadata": {},
   "source": [
    "<b> Data Gathering: </b> <br>\n",
    "<p> \n",
    "- The data was gathered from Personalitycafe's Forum, 16personalities' Forum, and Kaggle. I collected each of the dataset thru web scraping, except for the dataset from Kaggle. <br><br>\n",
    "- Datasets:  <br>\n",
    "1. data_discussion_16personalities.csv [Size: N mb]<br>\n",
    "2. data_personalitycafe.csv [Size: N mb]<br>\n",
    "3. data_pub_16personalities.csv. [Size: N mb]<br><br>\n",
    "\n",
    "Note: Although there are various features on each dataset, I decided to use only the text data to normalize the feature set and be able to test it on my use case. <br><br>\n",
    "<b> Data Dictionary: </b> <br>\n",
    "    xxxxx"
   ]
  },
  {
   "cell_type": "markdown",
   "metadata": {},
   "source": [
    "## 2.2 Mapping to a Machine Learning Problem"
   ]
  },
  {
   "cell_type": "markdown",
   "metadata": {},
   "source": [
    "### 2.2.1 Type of Machine Learning Problem"
   ]
  },
  {
   "cell_type": "markdown",
   "metadata": {},
   "source": [
    "This is a multiclass classification problem because we are going to to classify a post either of the 16 personalities."
   ]
  },
  {
   "cell_type": "markdown",
   "metadata": {},
   "source": [
    "### 2.2.2 Performance Metric"
   ]
  },
  {
   "cell_type": "markdown",
   "metadata": {},
   "source": [
    "<b>Metric(s):</b><br>\n",
    "* Log-loss\n",
    "* F1 Score \n",
    "\n",
    "<p>We'll use Log Loss to see the probability of a post belonging to a category. (We will see later why I chose F1 Score as a metric.)</p>"
   ]
  },
  {
   "cell_type": "markdown",
   "metadata": {},
   "source": [
    "## 2.3 Train and Test Set Configuration"
   ]
  },
  {
   "cell_type": "markdown",
   "metadata": {},
   "source": [
    "We are going to randomly split the data into 70:30 ratio."
   ]
  },
  {
   "cell_type": "markdown",
   "metadata": {},
   "source": [
    "## 3. Exploratory Data Analysis"
   ]
  },
  {
   "cell_type": "code",
   "execution_count": 32,
   "metadata": {},
   "outputs": [],
   "source": [
    "# Loading the required modules\n",
    "import re\n",
    "from datetime import datetime\n",
    "from matplotlib import pyplot as plt\n",
    "import matplotlib.patches as mpatches\n",
    "import pandas as pd\n",
    "import numpy as np\n",
    "import seaborn as sns\n"
   ]
  },
  {
   "cell_type": "markdown",
   "metadata": {},
   "source": [
    "### 3.0.1 Loading the Datasets"
   ]
  },
  {
   "cell_type": "code",
   "execution_count": 548,
   "metadata": {},
   "outputs": [],
   "source": [
    "df_16p_disc = pd.read_csv('../output/aggregated/data_discussion_16personalities.csv')\n",
    "df_16p_pub = pd.read_csv('../output/aggregated/data_pub_16personalities.csv')\n",
    "df_16p_disc = df_16p_disc.rename({'sub-answerBody': 'comment', 'sub-type': 'type'}, axis=1)\n",
    "df_16p_pub = df_16p_pub.rename({'child_text': 'comment', 'user_type': 'type'}, axis=1)\n",
    "df_ps_cafe = pd.read_csv('../output/aggregated/data_personalitycafe.csv')\n",
    "df_ps_cafe = df_ps_cafe.rename({'child_text': 'comment', 'user_type': 'type'}, axis=1)\n",
    "df = pd.concat([df_16p_disc, df_16p_pub, df_ps_cafe])"
   ]
  },
  {
   "cell_type": "code",
   "execution_count": 556,
   "metadata": {},
   "outputs": [
    {
     "data": {
      "text/html": [
       "<div>\n",
       "<style scoped>\n",
       "    .dataframe tbody tr th:only-of-type {\n",
       "        vertical-align: middle;\n",
       "    }\n",
       "\n",
       "    .dataframe tbody tr th {\n",
       "        vertical-align: top;\n",
       "    }\n",
       "\n",
       "    .dataframe thead th {\n",
       "        text-align: right;\n",
       "    }\n",
       "</style>\n",
       "<table border=\"1\" class=\"dataframe\">\n",
       "  <thead>\n",
       "    <tr style=\"text-align: right;\">\n",
       "      <th></th>\n",
       "      <th>comment</th>\n",
       "      <th>type</th>\n",
       "    </tr>\n",
       "  </thead>\n",
       "  <tbody>\n",
       "    <tr>\n",
       "      <th>0</th>\n",
       "      <td>I wanna write a little story; because reading ...</td>\n",
       "      <td>INFP</td>\n",
       "    </tr>\n",
       "    <tr>\n",
       "      <th>1</th>\n",
       "      <td>caly, goddess of love wrote:my friend is gonna...</td>\n",
       "      <td>INTP</td>\n",
       "    </tr>\n",
       "    <tr>\n",
       "      <th>2</th>\n",
       "      <td>1. Fix the error\\r\\n2. Ideal weight for medica...</td>\n",
       "      <td>INFP</td>\n",
       "    </tr>\n",
       "    <tr>\n",
       "      <th>3</th>\n",
       "      <td>There are an equal number of pros and cons, to...</td>\n",
       "      <td>INTJ</td>\n",
       "    </tr>\n",
       "    <tr>\n",
       "      <th>4</th>\n",
       "      <td>INTJ: The Three-Eyed-Raven (Game of Thrones)\\r...</td>\n",
       "      <td>ISTJ</td>\n",
       "    </tr>\n",
       "  </tbody>\n",
       "</table>\n",
       "</div>"
      ],
      "text/plain": [
       "                                             comment  type\n",
       "0  I wanna write a little story; because reading ...  INFP\n",
       "1  caly, goddess of love wrote:my friend is gonna...  INTP\n",
       "2  1. Fix the error\\r\\n2. Ideal weight for medica...  INFP\n",
       "3  There are an equal number of pros and cons, to...  INTJ\n",
       "4  INTJ: The Three-Eyed-Raven (Game of Thrones)\\r...  ISTJ"
      ]
     },
     "execution_count": 556,
     "metadata": {},
     "output_type": "execute_result"
    }
   ],
   "source": [
    "# Show a subset of our dataset\n",
    "df.head()"
   ]
  },
  {
   "cell_type": "code",
   "execution_count": 557,
   "metadata": {},
   "outputs": [
    {
     "data": {
      "text/plain": [
       "comment    9\n",
       "type       0\n",
       "dtype: int64"
      ]
     },
     "execution_count": 557,
     "metadata": {},
     "output_type": "execute_result"
    }
   ],
   "source": [
    "# How many NULL values do we have?\n",
    "df.isna().sum()"
   ]
  },
  {
   "cell_type": "code",
   "execution_count": 558,
   "metadata": {},
   "outputs": [
    {
     "data": {
      "text/html": [
       "<div>\n",
       "<style scoped>\n",
       "    .dataframe tbody tr th:only-of-type {\n",
       "        vertical-align: middle;\n",
       "    }\n",
       "\n",
       "    .dataframe tbody tr th {\n",
       "        vertical-align: top;\n",
       "    }\n",
       "\n",
       "    .dataframe thead th {\n",
       "        text-align: right;\n",
       "    }\n",
       "</style>\n",
       "<table border=\"1\" class=\"dataframe\">\n",
       "  <thead>\n",
       "    <tr style=\"text-align: right;\">\n",
       "      <th></th>\n",
       "      <th>comment</th>\n",
       "      <th>type</th>\n",
       "    </tr>\n",
       "  </thead>\n",
       "  <tbody>\n",
       "    <tr>\n",
       "      <th>count</th>\n",
       "      <td>34470</td>\n",
       "      <td>34479</td>\n",
       "    </tr>\n",
       "    <tr>\n",
       "      <th>unique</th>\n",
       "      <td>34290</td>\n",
       "      <td>16</td>\n",
       "    </tr>\n",
       "    <tr>\n",
       "      <th>top</th>\n",
       "      <td></td>\n",
       "      <td>INFP</td>\n",
       "    </tr>\n",
       "    <tr>\n",
       "      <th>freq</th>\n",
       "      <td>11</td>\n",
       "      <td>7484</td>\n",
       "    </tr>\n",
       "  </tbody>\n",
       "</table>\n",
       "</div>"
      ],
      "text/plain": [
       "       comment   type\n",
       "count    34470  34479\n",
       "unique   34290     16\n",
       "top              INFP\n",
       "freq        11   7484"
      ]
     },
     "execution_count": 558,
     "metadata": {},
     "output_type": "execute_result"
    }
   ],
   "source": [
    "# Show the high level statistics of our dataset\n",
    "df.describe()"
   ]
  },
  {
   "cell_type": "code",
   "execution_count": 562,
   "metadata": {},
   "outputs": [
    {
     "name": "stdout",
     "output_type": "stream",
     "text": [
      "Unique Values of the target column: ['INFP', 'INTP', 'INTJ', 'ISTJ', 'ENTP', 'ENFJ', 'ENFP', 'INFJ', 'ENTJ', 'ISFP', 'ISTP', 'ESFJ', 'ISFJ', 'ESFP', 'ESTJ', 'ESTP']\n"
     ]
    }
   ],
   "source": [
    "# Show the unique values on our target column\n",
    "print('Unique Values of the target column:', df['type'].unique().tolist())"
   ]
  },
  {
   "cell_type": "markdown",
   "metadata": {},
   "source": [
    "## 3.1  Target Variable Analysis"
   ]
  },
  {
   "cell_type": "markdown",
   "metadata": {},
   "source": [
    "### 3.1.1 Check the Target Column's Distribution"
   ]
  },
  {
   "cell_type": "code",
   "execution_count": 564,
   "metadata": {},
   "outputs": [
    {
     "data": {
      "image/png": "[encoded data removed]",
      "text/plain": [
       "<Figure size 792x360 with 1 Axes>"
      ]
     },
     "metadata": {
      "needs_background": "light"
     },
     "output_type": "display_data"
    }
   ],
   "source": [
    "tmp_data_16p_dis = pd.DataFrame(df['type'].value_counts().reset_index().rename({'index': 'type', 'type': 'freq.'}, axis=1)).sort_values(by='type')\n",
    "cmap = sns.color_palette(\"Accent\", n_colors=16) \n",
    "cmap = dict(zip(df['type'].values, cmap))\n",
    "plt.figure(figsize=(11, 5))\n",
    "plt.title('Distribution of Personality Types', fontsize=14)\n",
    "sns.barplot(data=tmp_data_16p_dis, x='type', y='freq.')\n",
    "plt.ylabel('')\n",
    "plt.xlabel('Type', fontweight='bold')\n",
    "plt.show()"
   ]
  },
  {
   "cell_type": "markdown",
   "metadata": {},
   "source": [
    "<b>Observation(s):<b> <br>\n",
    "*  Our dataset was suffering from class imbalance issue.\n",
    "*  Majority of the datapoints belongs to INFP, followed by INTJ.\n",
    "*  Among Extraverts, ENFP has the most number of datapoints."
   ]
  },
  {
   "cell_type": "code",
   "execution_count": 565,
   "metadata": {},
   "outputs": [],
   "source": [
    "type_global_distrib = {'ISFJ': 13.8, 'ESFJ': 12.3, 'ISTJ': 11.6, 'ISFP': 8.8,\n",
    "                       'ESTJ': 8.7, 'ESFP': 8.5, 'ENFP': 8.1, 'ISTP': 5.4, \n",
    "                       'INFP': 4.4, 'ESTP': 4.3, 'INTP': 3.3, 'ENTP': 3.2, \n",
    "                       'ENFJ': 2.5, 'INTJ': 2.1, 'ENTJ': 1.8, 'INFJ': 1.5}\n",
    "\n",
    "# Creating a DataFrame for the Global Data Representation\n",
    "type_global_distrib_val = list(map(lambda x: x/100, type_global_distrib.values()))\n",
    "type_global_distrib_col = type_global_distrib.keys()\n",
    "global_type = pd.DataFrame([type_global_distrib_col, type_global_distrib_val]).T\n",
    "global_type.columns = ['type', 'freq.']\n",
    "global_type = global_type.sort_values(by='type')\n",
    "global_type['freq.'] = global_type['freq.'] * tmp_data_16p_dis['freq.'].sum()"
   ]
  },
  {
   "cell_type": "markdown",
   "metadata": {},
   "source": [
    "### 3.1.2 Comparing our Dataset Distribution to the Global Data"
   ]
  },
  {
   "cell_type": "markdown",
   "metadata": {},
   "source": [
    "Since MBTI itself is an active research area, there are lots of available resources of this domain that can be found on the internet. Because of that, we have a downloaded data of the Global Representation of 16 personality types that we can compare to our Dataset. This will enable use to develop a prior knowledge about the problem that we are trying to solve.\n",
    "\n",
    "> Credits: <a href=\"https://www.careerplanner.com/MB2/TypeInPopulation.cfm\">Career Planner</a>"
   ]
  },
  {
   "cell_type": "code",
   "execution_count": 566,
   "metadata": {},
   "outputs": [
    {
     "data": {
      "image/png": "[encoded data removed]",
      "text/plain": [
       "<Figure size 792x360 with 1 Axes>"
      ]
     },
     "metadata": {
      "needs_background": "light"
     },
     "output_type": "display_data"
    }
   ],
   "source": [
    "green_patch = mpatches.Patch(color='yellowgreen', label='Our Data', alpha=0.8)\n",
    "blue_patch = mpatches.Patch(color='royalblue', label='Global Representation', alpha=0.7)\n",
    "overlap_patch = mpatches.Patch(color='olivedrab', label='Overlapped', alpha=0.77)\n",
    "\n",
    "plt.figure(figsize=(11, 5))\n",
    "plt.title('MBTI Distribution Comparison', fontsize=14)\n",
    "sns.barplot(data=global_type, x='type', y='freq.', color='royalblue', alpha=0.8, label='Global Representation')\n",
    "sns.barplot(data=tmp_data_16p_dis, x='type', y='freq.', color='yellowgreen', alpha=0.7, label='Our Data')\n",
    "plt.legend(handles=[green_patch, blue_patch, overlap_patch])\n",
    "plt.xlabel('Type', fontweight='bold')\n",
    "plt.ylabel('')\n",
    "plt.show()"
   ]
  },
  {
   "cell_type": "markdown",
   "metadata": {},
   "source": [
    "<b>Observation(s):<b>\n",
    "*  The distribution of our data does not follow the distribution of the global data representation.\n",
    "*  Lots of Intuitive Introverts was present in our data. I think social media is their main medium for \"socializing\" and for reflecting their thoughts/opinion (or an excuse to physical contact?). \n",
    "*  In contrast, a mix of Sensor (Extravert/Introverts) is less frequent in our dataset. I think this is because of their Sensor nature which makes them busy in other things like physical/outdoor activities.    "
   ]
  },
  {
   "cell_type": "markdown",
   "metadata": {},
   "source": [
    "### 3.1.3 Slicing the Target Column"
   ]
  },
  {
   "cell_type": "markdown",
   "metadata": {},
   "source": [
    "Let us find out if using other representation of our target column will help us ease the class imbalance. ie. \n",
    "<br> Aggregating into the 4 personality aspects: \n",
    "\n",
    "\n",
    "A.) Mind (Introvert or Extravert?)<br>\n",
    "B.) Energy (Sensing or Intuition?)<br>\n",
    "C.) Nature (Thinking or Feeling?)<br>\n",
    "D.) Tactics (Perception or Judging?)<br>\n",
    "\n",
    "\n",
    "If you haven't read the theory in the link provided at Section 1.1 (Sources/Useful Links), please do so to understand more about the aforementioned terminologies."
   ]
  },
  {
   "cell_type": "code",
   "execution_count": 567,
   "metadata": {
    "scrolled": true
   },
   "outputs": [],
   "source": [
    "df['I-E'] = df['type'].str.contains('I').astype(int)\n",
    "df['N-S'] = df['type'].str.contains('N').astype(int)\n",
    "df['T-F'] = df['type'].str.contains('T').astype(int)\n",
    "df['J-P'] = df['type'].str.contains('J').astype(int)"
   ]
  },
  {
   "cell_type": "code",
   "execution_count": 568,
   "metadata": {},
   "outputs": [
    {
     "data": {
      "image/png": "[encoded data removed]",
      "text/plain": [
       "<Figure size 720x360 with 1 Axes>"
      ]
     },
     "metadata": {
      "needs_background": "light"
     },
     "output_type": "display_data"
    }
   ],
   "source": [
    "tmp_data1 = pd.DataFrame(df['I-E'].value_counts().reset_index().rename({'I-E': 'freq.'}, axis=1))\n",
    "tmp_data2 = pd.DataFrame(df['N-S'].value_counts().reset_index().rename({'N-S': 'freq.'}, axis=1))\n",
    "tmp_data3 = pd.DataFrame(df['T-F'].value_counts().reset_index().rename({'T-F': 'freq.'}, axis=1))\n",
    "tmp_data4 = pd.DataFrame(df['J-P'].value_counts().reset_index().rename({'J-P': 'freq.'}, axis=1))\n",
    "\n",
    "bar_width = 0.3\n",
    "spacer_ls = np.arange(0.1, stop=0.5, step=0.3)\n",
    "plt.figure(figsize=(10, 5))\n",
    "\n",
    "plt.title('Distribution of Types per MBTI Axis', fontsize=14, fontweight='bold')\n",
    "plt.bar(spacer_ls, tmp_data1['freq.'], color=['cornflowerblue'], width=bar_width, edgecolor='white', label='var1')\n",
    "plt.bar(spacer_ls+0.8, tmp_data2['freq.'], color='mediumseagreen', width=bar_width, edgecolor='white', label='var2')\n",
    "plt.bar(spacer_ls+1.6, tmp_data3['freq.'], color='lightsalmon', width=bar_width, edgecolor='white', label='var3')\n",
    "plt.bar(spacer_ls+2.4, tmp_data4['freq.'], color='mediumslateblue', width=bar_width, edgecolor='white', label='var4')\n",
    "\n",
    "plt.xlabel('Type', fontweight='bold')\n",
    "plt.xticks([spacer_ls[0], spacer_ls[1], (spacer_ls[0]+0.8), (spacer_ls[1]+0.8),\n",
    "            (spacer_ls[0]+1.6), (spacer_ls[1]+1.6), (spacer_ls[0]+2.4), (spacer_ls[1]+2.4)],\n",
    "           ['I', 'E', 'N', 'S', 'T', 'F', 'J', 'P'])\n",
    " \n",
    "plt.legend(['I-E', 'N-S', 'T-F',  'J-P'])\n",
    "plt.show()"
   ]
  },
  {
   "cell_type": "markdown",
   "metadata": {},
   "source": [
    "<b>Observation(s):<b><br>\n",
    "*  Although, the distribution for T-F axis and J-P axis is slightly different, the distribution for I-E axis and N-S axis is very different which demands our attention. We will fix this issue later, after the feature extraction stage.\n",
    "*  This is much better than the previous distribution of types. Before, we need to deal with 16 imbalanced classes, now, we only need to addressed 8 imbalanced classes."
   ]
  },
  {
   "cell_type": "markdown",
   "metadata": {},
   "source": [
    "### 3.1.4 Check the Correlation between the 4 types"
   ]
  },
  {
   "cell_type": "markdown",
   "metadata": {},
   "source": [
    "We will check the correlation between the 4 major axis of MBTI before we can use it.\n",
    "Correlation in our independent variables can be a problem during the modeling phase because it will be difficult for our model to estimate the relationship between our dependent variables and independent variables independently. \n",
    "<br>\n",
    "\n",
    "ie. As the probability of a person being an Introvert increases, the probability of him being a Thinker decreases. We can say that there is a negative correlation between the two variables, and it will be hard for our model to estimate how introvert a person is, versus how thinker a person is, <i>independently</i>."
   ]
  },
  {
   "cell_type": "code",
   "execution_count": 582,
   "metadata": {},
   "outputs": [
    {
     "data": {
      "image/png": "[encoded data removed]",
      "text/plain": [
       "<Figure size 720x576 with 2 Axes>"
      ]
     },
     "metadata": {
      "needs_background": "light"
     },
     "output_type": "display_data"
    }
   ],
   "source": [
    "plt.figure(figsize=(10, 8))\n",
    "plt.title('Correlation Between the 4 Types', fontsize=14, fontweight='bold')\n",
    "corr = df[['I-E', 'N-S', 'T-F',  'J-P']].corr()\n",
    "sns.heatmap(data=corr, annot=True, linewidths=1, linecolor='black',\n",
    "            cmap=sns.light_palette(\"green\"))\n",
    "plt.show()"
   ]
  },
  {
   "cell_type": "markdown",
   "metadata": {},
   "source": [
    "<b>Observation(s):<b>\n",
    "*  The correlation between the 4 types is close to zero, which means there is a very little correlation between those variables, and this is good."
   ]
  },
  {
   "cell_type": "markdown",
   "metadata": {},
   "source": [
    "## 3.2 Feature Analysis"
   ]
  },
  {
   "cell_type": "markdown",
   "metadata": {},
   "source": [
    "### 3.2.1 Text Analysis"
   ]
  },
  {
   "cell_type": "markdown",
   "metadata": {},
   "source": [
    "### 3.2.2 Feature Extraction"
   ]
  },
  {
   "cell_type": "markdown",
   "metadata": {},
   "source": [
    "Given that we are going to use a feature in the form of text data, we can first extract the features from the text data and then analyze it later. \n",
    "\n",
    "<br>\n",
    "Following is the list of my plan on how I will attack the feature extraction phase:<br>\n",
    "\n",
    "1.) \n",
    "<br>2.)"
   ]
  },
  {
   "cell_type": "code",
   "execution_count": 2,
   "metadata": {},
   "outputs": [
    {
     "name": "stderr",
     "output_type": "stream",
     "text": [
      "C:\\ProgramData\\Anaconda3\\lib\\site-packages\\IPython\\core\\interactiveshell.py:2785: DtypeWarning: Columns (7) have mixed types.Specify dtype option on import or set low_memory=False.\n",
      "  interactivity=interactivity, compiler=compiler, result=result)\n"
     ]
    }
   ],
   "source": [
    "df_16p_disc = pd.read_csv('../output/comment_discussion.csv')"
   ]
  },
  {
   "cell_type": "code",
   "execution_count": 8,
   "metadata": {},
   "outputs": [],
   "source": [
    "df_16p_disc = df_16p_disc[['sub-profileUrl', 'sub-answerBody', 'sub-type', 'sub-approvedAtNice']]\n",
    "df_16p_disc = df_16p_disc.drop(axis=1, index=df_16p_disc[df_16p_disc['sub-answerBody'].isna()].index)\n",
    "df_16p_disc['sub-type'] = df_16p_disc['sub-type'].fillna('Anonymous')\n",
    "# df_16p_disc['sub-approvedAtNice'] = pd.to_timedelta(pd.to_datetime(df_16p_disc['sub-approvedAtNice'], utc=True).apply(lambda x: datetime.strftime(x, '%H:%M:%S')))"
   ]
  },
  {
   "cell_type": "code",
   "execution_count": 229,
   "metadata": {},
   "outputs": [],
   "source": [
    "temp_df = df_16p_disc.groupby(['sub-profileUrl', 'sub-type']).agg({'sub-answerBody': '|||'.join,\n",
    "'sub-approvedAtNice': lambda x: x.median()}).reset_index()"
   ]
  },
  {
   "cell_type": "code",
   "execution_count": 50,
   "metadata": {},
   "outputs": [
    {
     "data": {
      "text/html": [
       "<div>\n",
       "<style scoped>\n",
       "    .dataframe tbody tr th:only-of-type {\n",
       "        vertical-align: middle;\n",
       "    }\n",
       "\n",
       "    .dataframe tbody tr th {\n",
       "        vertical-align: top;\n",
       "    }\n",
       "\n",
       "    .dataframe thead th {\n",
       "        text-align: right;\n",
       "    }\n",
       "</style>\n",
       "<table border=\"1\" class=\"dataframe\">\n",
       "  <thead>\n",
       "    <tr style=\"text-align: right;\">\n",
       "      <th></th>\n",
       "      <th>sub-profileUrl</th>\n",
       "      <th>sub-answerBody</th>\n",
       "      <th>sub-type</th>\n",
       "      <th>sub-approvedAtNice</th>\n",
       "    </tr>\n",
       "  </thead>\n",
       "  <tbody>\n",
       "    <tr>\n",
       "      <th>403051</th>\n",
       "      <td>00694a4b6c6de</td>\n",
       "      <td>Favorite Book/Movie/TV Show: Doctor Who, The W...</td>\n",
       "      <td>ENFJ</td>\n",
       "      <td>14:42:00</td>\n",
       "    </tr>\n",
       "    <tr>\n",
       "      <th>414785</th>\n",
       "      <td>00694a4b6c6de</td>\n",
       "      <td>This is my first day, but I am hoping to chang...</td>\n",
       "      <td>ENFJ</td>\n",
       "      <td>02:55:00</td>\n",
       "    </tr>\n",
       "  </tbody>\n",
       "</table>\n",
       "</div>"
      ],
      "text/plain": [
       "       sub-profileUrl                                     sub-answerBody  \\\n",
       "403051  00694a4b6c6de  Favorite Book/Movie/TV Show: Doctor Who, The W...   \n",
       "414785  00694a4b6c6de  This is my first day, but I am hoping to chang...   \n",
       "\n",
       "       sub-type sub-approvedAtNice  \n",
       "403051     ENFJ           14:42:00  \n",
       "414785     ENFJ           02:55:00  "
      ]
     },
     "execution_count": 50,
     "metadata": {},
     "output_type": "execute_result"
    }
   ],
   "source": [
    "df_16p_disc[(df_16p_disc['sub-profileUrl'] == '00694a4b6c6de')]"
   ]
  },
  {
   "cell_type": "code",
   "execution_count": 179,
   "metadata": {},
   "outputs": [],
   "source": [
    "# df_16p_disc['x'] = pd.to_datetime(df_16p_disc['sub-approvedAtNice'])"
   ]
  },
  {
   "cell_type": "code",
   "execution_count": 199,
   "metadata": {},
   "outputs": [
    {
     "data": {
      "text/plain": [
       "<matplotlib.axes._subplots.AxesSubplot at 0x29d3053c828>"
      ]
     },
     "execution_count": 199,
     "metadata": {},
     "output_type": "execute_result"
    },
    {
     "data": {
      "image/png": "[encoded data removed]",
      "text/plain": [
       "<Figure size 1152x360 with 1 Axes>"
      ]
     },
     "metadata": {
      "needs_background": "light"
     },
     "output_type": "display_data"
    }
   ],
   "source": [
    "z = df_16p_disc[df_16p_disc['sub-type'] == 'INTJ']\n",
    "plt.figure(figsize=(16, 5))\n",
    "z['sub-approvedAtNice'].groupby([z['sub-approvedAtNice'].dt.seconds//3600]).count().plot(kind='bar')"
   ]
  },
  {
   "cell_type": "code",
   "execution_count": 203,
   "metadata": {},
   "outputs": [],
   "source": [
    "temp_df['H'] = temp_df['sub-approvedAtNice'].dt.seconds//3600"
   ]
  },
  {
   "cell_type": "code",
   "execution_count": 214,
   "metadata": {},
   "outputs": [
    {
     "data": {
      "text/plain": [
       "<matplotlib.axes._subplots.AxesSubplot at 0x29d313f8dd8>"
      ]
     },
     "execution_count": 214,
     "metadata": {},
     "output_type": "execute_result"
    },
    {
     "data": {
      "image/png": "[encoded data removed]",
      "text/plain": [
       "<Figure size 432x288 with 1 Axes>"
      ]
     },
     "metadata": {
      "needs_background": "light"
     },
     "output_type": "display_data"
    }
   ],
   "source": [
    "temp_df.where(temp_df['sub-type']=='INTP').groupby('H').count()['sub-type'].plot(kind='bar')"
   ]
  },
  {
   "cell_type": "code",
   "execution_count": 236,
   "metadata": {},
   "outputs": [
    {
     "name": "stderr",
     "output_type": "stream",
     "text": [
      "C:\\ProgramData\\Anaconda3\\lib\\site-packages\\scipy\\stats\\stats.py:1713: FutureWarning: Using a non-tuple sequence for multidimensional indexing is deprecated; use `arr[tuple(seq)]` instead of `arr[seq]`. In the future this will be interpreted as an array index, `arr[np.array(seq)]`, which will result either in an error or a different result.\n",
      "  return np.add.reduce(sorted[indexer] * weights, axis=axis) / sumval\n"
     ]
    },
    {
     "data": {
      "text/plain": [
       "<matplotlib.axes._subplots.AxesSubplot at 0x29cedbde7b8>"
      ]
     },
     "execution_count": 236,
     "metadata": {},
     "output_type": "execute_result"
    },
    {
     "data": {
      "image/png": "[encoded data removed]",
      "text/plain": [
       "<Figure size 432x288 with 1 Axes>"
      ]
     },
     "metadata": {
      "needs_background": "light"
     },
     "output_type": "display_data"
    }
   ],
   "source": [
    "x = temp_df.copy()\n",
    "x['H'] = x['sub-approvedAtNice'].dt.seconds//3600\n",
    "sns.distplot(x.loc[x['sub-type'] == 'INFP', 'H'])\n",
    "sns.distplot(x.loc[x['sub-type'] == 'ESTJ','H'])"
   ]
  },
  {
   "cell_type": "code",
   "execution_count": 239,
   "metadata": {},
   "outputs": [
    {
     "data": {
      "text/plain": [
       "493.551804396807"
      ]
     },
     "execution_count": 239,
     "metadata": {},
     "output_type": "execute_result"
    }
   ],
   "source": [
    "df_16p_disc['sub-answerBody'].apply(lambda x: len(x)).mean()"
   ]
  },
  {
   "cell_type": "code",
   "execution_count": 242,
   "metadata": {},
   "outputs": [
    {
     "data": {
      "text/plain": [
       "327743"
      ]
     },
     "execution_count": 242,
     "metadata": {},
     "output_type": "execute_result"
    }
   ],
   "source": [
    "df_16p_disc['sub-answerBody'].apply(lambda x: len(x)).argmax()"
   ]
  },
  {
   "cell_type": "code",
   "execution_count": 3,
   "metadata": {},
   "outputs": [],
   "source": [
    "import utils, re\n",
    "\n",
    "def replace_alias(string):\n",
    "    return re.sub('\\*', ' ', string).strip()\n",
    "\n",
    "def remove_html_tags(string):\n",
    "    return re.sub('<.+?>', ' ', string).strip()\n",
    "\n",
    "def decontracted(string):\n",
    "    # https://stackoverflow.com/a/47091490/4084039\n",
    "\n",
    "    # specific\n",
    "    phrase = re.sub(r\"won't\", \"will not\", string)\n",
    "    phrase = re.sub(r\"can\\'t\", \"can not\", phrase)\n",
    "\n",
    "    # general\n",
    "    phrase = re.sub(r\"n\\'t\", \" not\", phrase)\n",
    "    phrase = re.sub(r\"\\'re\", \" are\", phrase)\n",
    "    phrase = re.sub(r\"\\'s\", \" is\", phrase)\n",
    "    phrase = re.sub(r\"\\'d\", \" would\", phrase)\n",
    "    phrase = re.sub(r\"\\'ll\", \" will\", phrase)\n",
    "    phrase = re.sub(r\"\\'t\", \" not\", phrase)\n",
    "    phrase = re.sub(r\"\\'ve\", \" have\", phrase)\n",
    "    phrase = re.sub(r\"\\'m\", \" am\", phrase)\n",
    "    return phrase\n",
    "\n",
    "def replace_emoji(samp):\n",
    "    samp = samp.lower().replace(r':)', '[smile-emoji]')\n",
    "    samp = samp.lower().replace(r'◠‿◠✿', '[smile-emoji]')\n",
    "    samp = samp.lower().replace(':p', '[tongue-out-emoji]')\n",
    "    samp = samp.lower().replace(':d', '[big-smile-emoji]')\n",
    "    return samp"
   ]
  },
  {
   "cell_type": "code",
   "execution_count": 4,
   "metadata": {},
   "outputs": [],
   "source": [
    "import string\n",
    "import nltk\n",
    "from nltk.corpus import stopwords\n",
    "STOPWORDS = stopwords.words()\n",
    "STOPWORDS.remove('not')"
   ]
  },
  {
   "cell_type": "code",
   "execution_count": null,
   "metadata": {},
   "outputs": [],
   "source": [
    "# TODO: Replace emoji before striping html elements\n",
    "df_16p_disc['sub-answerBody'] = df_16p_disc['sub-answerBody'].apply(remove_html_tags)\n",
    "df_16p_disc['sub-answerBody'] = df_16p_disc['sub-answerBody'].apply(replace_alias)\n",
    "df_16p_disc['sub-answerBody'] = df_16p_disc['sub-answerBody'].apply(decontracted)\n",
    "df_16p_disc['sub-answerBody'] = df_16p_disc['sub-answerBody'].apply(replace_emoji)\n",
    "df_16p_disc['sub-answerBody'] = df_16p_disc['sub-answerBody'].apply(lambda x: ' '.join([word.lower() for word in nltk.word_tokenize(x) if word.isalpha()]))\n",
    "df_16p_disc['sub-answerBody'] = df_16p_disc['sub-answerBody'].apply(lambda x: ' '.join([w for w in x.split() if w not in STOPWORDS]))"
   ]
  },
  {
   "cell_type": "code",
   "execution_count": 3,
   "metadata": {},
   "outputs": [
    {
     "data": {
      "text/plain": [
       "4630"
      ]
     },
     "execution_count": 3,
     "metadata": {},
     "output_type": "execute_result"
    }
   ],
   "source": [
    "len(\"'http://www.youtube.com/watch?v=qsXHcwe3krw|||http://41.media.tumblr.com/tumblr_lfouy03PMA1qa1rooo1_500.jpg|||enfp and intj moments https://www.youtube.com/watch?v=iz7lE1g4XM4 sportscenter not top ten plays https://www.youtube.com/watch?v=uCdfze1etec pranks|||What has been the most life-changing experience in your life?|||http://www.youtube.com/watch?v=vXZeYwwRDw8 http://www.youtube.com/watch?v=u8ejam5DP3E On repeat for most of today.|||May the PerC Experience immerse you.|||The last thing my INFJ friend posted on his facebook before committing suicide the next day. Rest in peace~ http://vimeo.com/22842206|||Hello ENFJ7. Sorry to hear of your distress. It's only natural for a relationship to not be perfection all the time in every moment of existence. Try to figure the hard times as times of growth, as...|||84389 84390 http://wallpaperpassion.com/upload/23700/friendship-boy-and-girl-wallpaper.jpg http://assets.dornob.com/wp-content/uploads/2010/04/round-home-design.jpg ...|||Welcome and stuff.|||http://playeressence.com/wp-content/uploads/2013/08/RED-red-the-pokemon-master-32560474-450-338.jpg Game. Set. Match.|||Prozac, wellbrutin, at least thirty minutes of moving your legs (and I don't mean moving them while sitting in your same desk chair), weed in moderation (maybe try edibles as a healthier alternative...|||Basically come up with three items you've determined that each type (or whichever types you want to do) would more than likely use, given each types' cognitive functions and whatnot, when left by...|||All things in moderation. Sims is indeed a video game, and a good one at that. Note: a good one at that is somewhat subjective in that I am not completely promoting the death of any given Sim...|||Dear ENFP: What were your favorite video games growing up and what are your now, current favorite video games? :cool:|||https://www.youtube.com/watch?v=QyPqT8umzmY|||It appears to be too late. :sad:|||There's someone out there for everyone.|||Wait... I thought confidence was a good thing.|||I just cherish the time of solitude b/c i revel within my inner world more whereas most other time i'd be workin... just enjoy the me time while you can. Don't worry, people will always be around to...|||Yo entp ladies... if you're into a complimentary personality,well, hey.|||... when your main social outlet is xbox live conversations and even then you verbally fatigue quickly.|||http://www.youtube.com/watch?v=gDhy7rdfm14 I really dig the part from 1:46 to 2:50|||http://www.youtube.com/watch?v=msqXffgh7b8|||Banned because this thread requires it of me.|||Get high in backyard, roast and eat marshmellows in backyard while conversing over something intellectual, followed by massages and kisses.|||http://www.youtube.com/watch?v=Mw7eoU3BMbE|||http://www.youtube.com/watch?v=4V2uYORhQOk|||http://www.youtube.com/watch?v=SlVmgFQQ0TI|||Banned for too many b's in that sentence. How could you! Think of the B!|||Banned for watching movies in the corner with the dunces.|||Banned because Health class clearly taught you nothing about peer pressure.|||Banned for a whole host of reasons!|||http://www.youtube.com/watch?v=IRcrv41hgz4|||1) Two baby deer on left and right munching on a beetle in the middle. 2) Using their own blood, two cavemen diary today's latest happenings on their designated cave diary wall. 3) I see it as...|||a pokemon world an infj society everyone becomes an optimist|||49142|||http://www.youtube.com/watch?v=ZRCEq_JFeFM|||http://discovermagazine.com/2012/jul-aug/20-things-you-didnt-know-about-deserts/desert.jpg|||http://oyster.ignimgs.com/mediawiki/apis.ign.com/pokemon-silver-version/d/dd/Ditto.gif|||http://www.serebii.net/potw-dp/Scizor.jpg|||Not all artists are artists because they draw. It's the idea that counts in forming something of your own... like a signature.|||Welcome to the robot ranks, person who downed my self-esteem cuz I'm not an avid signature artist like herself. :proud:|||Banned for taking all the room under my bed. Ya gotta learn to share with the roaches.|||http://www.youtube.com/watch?v=w8IgImn57aQ|||Banned for being too much of a thundering, grumbling kind of storm... yep.|||Ahh... old high school music I haven't heard in ages. http://www.youtube.com/watch?v=dcCRUPCdB1w|||I failed a public speaking class a few years ago and I've sort of learned what I could do better were I to be in that position again. A big part of my failure was just overloading myself with too...|||I like this person's mentality. He's a confirmed INTJ by the way. http://www.youtube.com/watch?v=hGKLI-GEc6M|||Move to the Denver area and start a new life for myself.'\")"
   ]
  },
  {
   "cell_type": "code",
   "execution_count": null,
   "metadata": {},
   "outputs": [],
   "source": []
  }
 ],
 "metadata": {
  "kernelspec": {
   "display_name": "Python 3",
   "language": "python",
   "name": "python3"
  },
  "language_info": {
   "codemirror_mode": {
    "name": "ipython",
    "version": 3
   },
   "file_extension": ".py",
   "mimetype": "text/x-python",
   "name": "python",
   "nbconvert_exporter": "python",
   "pygments_lexer": "ipython3",
   "version": "3.7.0"
  }
 },
 "nbformat": 4,
 "nbformat_minor": 2
}
