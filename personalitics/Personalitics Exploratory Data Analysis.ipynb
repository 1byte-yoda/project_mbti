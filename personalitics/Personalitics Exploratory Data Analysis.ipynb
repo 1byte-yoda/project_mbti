{
 "cells": [
  {
   "cell_type": "code",
   "execution_count": 63,
   "metadata": {},
   "outputs": [],
   "source": [
    "import pandas as pd\n",
    "import sqlite3\n",
    "import re"
   ]
  },
  {
   "cell_type": "code",
   "execution_count": 108,
   "metadata": {},
   "outputs": [],
   "source": [
    "con = sqlite3.connect(r'C:\\Users\\Razer\\Desktop\\project_mbti\\personalitics\\output\\project_mbti.db')"
   ]
  },
  {
   "cell_type": "code",
   "execution_count": 109,
   "metadata": {},
   "outputs": [],
   "source": [
    "df = pd.read_sql('SELECT * FROM personalitics', con)"
   ]
  },
  {
   "cell_type": "code",
   "execution_count": 110,
   "metadata": {},
   "outputs": [
    {
     "data": {
      "text/plain": [
       "(68688, 12)"
      ]
     },
     "execution_count": 110,
     "metadata": {},
     "output_type": "execute_result"
    }
   ],
   "source": [
    "df.shape"
   ]
  },
  {
   "cell_type": "code",
   "execution_count": 111,
   "metadata": {},
   "outputs": [
    {
     "data": {
      "text/html": [
       "<div>\n",
       "<style scoped>\n",
       "    .dataframe tbody tr th:only-of-type {\n",
       "        vertical-align: middle;\n",
       "    }\n",
       "\n",
       "    .dataframe tbody tr th {\n",
       "        vertical-align: top;\n",
       "    }\n",
       "\n",
       "    .dataframe thead th {\n",
       "        text-align: right;\n",
       "    }\n",
       "</style>\n",
       "<table border=\"1\" class=\"dataframe\">\n",
       "  <thead>\n",
       "    <tr style=\"text-align: right;\">\n",
       "      <th></th>\n",
       "      <th>id</th>\n",
       "      <th>topic</th>\n",
       "      <th>user_id</th>\n",
       "      <th>user_type</th>\n",
       "      <th>parent_text</th>\n",
       "      <th>child_text</th>\n",
       "      <th>date</th>\n",
       "      <th>source</th>\n",
       "      <th>project</th>\n",
       "      <th>spider</th>\n",
       "      <th>server</th>\n",
       "      <th>created_at</th>\n",
       "    </tr>\n",
       "  </thead>\n",
       "  <tbody>\n",
       "    <tr>\n",
       "      <th>0</th>\n",
       "      <td>1</td>\n",
       "      <td>[ISTJ] The ISTJ Rant/Rave Thread</td>\n",
       "      <td>Caius20</td>\n",
       "      <td>ISTJ - The Duty Fulfillers</td>\n",
       "      <td></td>\n",
       "      <td>What pisses you off? Say it here. We could all...</td>\n",
       "      <td>01-22-2011 09:34 PM</td>\n",
       "      <td>https://www.personalitycafe.com/istj-forum-dut...</td>\n",
       "      <td>personalitics</td>\n",
       "      <td>personalitycafe</td>\n",
       "      <td>DESKTOP-76C1ENE</td>\n",
       "      <td>2020-05-18 20:40:46.148711</td>\n",
       "    </tr>\n",
       "    <tr>\n",
       "      <th>1</th>\n",
       "      <td>2</td>\n",
       "      <td>[ISTJ] Remembering things</td>\n",
       "      <td>Yardiff Bey</td>\n",
       "      <td>ISTJ</td>\n",
       "      <td>start with a discussion of the psychological. ...</td>\n",
       "      <td>A few days back I posted in Random about passw...</td>\n",
       "      <td>12-21-2017 11:26 AM</td>\n",
       "      <td>https://www.personalitycafe.com/istj-forum-dut...</td>\n",
       "      <td>personalitics</td>\n",
       "      <td>personalitycafe</td>\n",
       "      <td>DESKTOP-76C1ENE</td>\n",
       "      <td>2020-05-18 20:40:46.338115</td>\n",
       "    </tr>\n",
       "    <tr>\n",
       "      <th>2</th>\n",
       "      <td>3</td>\n",
       "      <td>[ISTJ] ISTJ - Si  Te</td>\n",
       "      <td>HIX</td>\n",
       "      <td>Unknown</td>\n",
       "      <td></td>\n",
       "      <td>How are Si - Te ISTJs different compared to th...</td>\n",
       "      <td>02-21-2020 02:30 PM</td>\n",
       "      <td>https://www.personalitycafe.com/istj-forum-dut...</td>\n",
       "      <td>personalitics</td>\n",
       "      <td>personalitycafe</td>\n",
       "      <td>DESKTOP-76C1ENE</td>\n",
       "      <td>2020-05-18 20:40:46.491417</td>\n",
       "    </tr>\n",
       "    <tr>\n",
       "      <th>3</th>\n",
       "      <td>4</td>\n",
       "      <td>[ISTJ] What ringtone do you have programmed in...</td>\n",
       "      <td>niss</td>\n",
       "      <td>Unknown</td>\n",
       "      <td></td>\n",
       "      <td>Do you go with the basic that came with the ph...</td>\n",
       "      <td>09-30-2010 12:24 PM</td>\n",
       "      <td>https://www.personalitycafe.com/istj-forum-dut...</td>\n",
       "      <td>personalitics</td>\n",
       "      <td>personalitycafe</td>\n",
       "      <td>DESKTOP-76C1ENE</td>\n",
       "      <td>2020-05-18 20:40:46.653821</td>\n",
       "    </tr>\n",
       "    <tr>\n",
       "      <th>4</th>\n",
       "      <td>5</td>\n",
       "      <td>[ISTJ] On Religion</td>\n",
       "      <td>Metal Rat</td>\n",
       "      <td></td>\n",
       "      <td></td>\n",
       "      <td>At least as vitally important, to the function...</td>\n",
       "      <td>02-13-2020 06:38 AM</td>\n",
       "      <td>https://www.personalitycafe.com/istj-forum-dut...</td>\n",
       "      <td>personalitics</td>\n",
       "      <td>personalitycafe</td>\n",
       "      <td>DESKTOP-76C1ENE</td>\n",
       "      <td>2020-05-18 20:40:46.774882</td>\n",
       "    </tr>\n",
       "  </tbody>\n",
       "</table>\n",
       "</div>"
      ],
      "text/plain": [
       "   id                                              topic      user_id  \\\n",
       "0   1                   [ISTJ] The ISTJ Rant/Rave Thread      Caius20   \n",
       "1   2                          [ISTJ] Remembering things  Yardiff Bey   \n",
       "2   3                               [ISTJ] ISTJ - Si  Te          HIX   \n",
       "3   4  [ISTJ] What ringtone do you have programmed in...         niss   \n",
       "4   5                                 [ISTJ] On Religion    Metal Rat   \n",
       "\n",
       "                    user_type  \\\n",
       "0  ISTJ - The Duty Fulfillers   \n",
       "1                        ISTJ   \n",
       "2                     Unknown   \n",
       "3                     Unknown   \n",
       "4                               \n",
       "\n",
       "                                         parent_text  \\\n",
       "0                                                      \n",
       "1  start with a discussion of the psychological. ...   \n",
       "2                                                      \n",
       "3                                                      \n",
       "4                                                      \n",
       "\n",
       "                                          child_text                 date  \\\n",
       "0  What pisses you off? Say it here. We could all...  01-22-2011 09:34 PM   \n",
       "1  A few days back I posted in Random about passw...  12-21-2017 11:26 AM   \n",
       "2  How are Si - Te ISTJs different compared to th...  02-21-2020 02:30 PM   \n",
       "3  Do you go with the basic that came with the ph...  09-30-2010 12:24 PM   \n",
       "4  At least as vitally important, to the function...  02-13-2020 06:38 AM   \n",
       "\n",
       "                                              source        project  \\\n",
       "0  https://www.personalitycafe.com/istj-forum-dut...  personalitics   \n",
       "1  https://www.personalitycafe.com/istj-forum-dut...  personalitics   \n",
       "2  https://www.personalitycafe.com/istj-forum-dut...  personalitics   \n",
       "3  https://www.personalitycafe.com/istj-forum-dut...  personalitics   \n",
       "4  https://www.personalitycafe.com/istj-forum-dut...  personalitics   \n",
       "\n",
       "            spider           server                  created_at  \n",
       "0  personalitycafe  DESKTOP-76C1ENE  2020-05-18 20:40:46.148711  \n",
       "1  personalitycafe  DESKTOP-76C1ENE  2020-05-18 20:40:46.338115  \n",
       "2  personalitycafe  DESKTOP-76C1ENE  2020-05-18 20:40:46.491417  \n",
       "3  personalitycafe  DESKTOP-76C1ENE  2020-05-18 20:40:46.653821  \n",
       "4  personalitycafe  DESKTOP-76C1ENE  2020-05-18 20:40:46.774882  "
      ]
     },
     "execution_count": 111,
     "metadata": {},
     "output_type": "execute_result"
    }
   ],
   "source": [
    "df.head()"
   ]
  },
  {
   "cell_type": "code",
   "execution_count": 112,
   "metadata": {},
   "outputs": [],
   "source": [
    "types = ['INTJ', 'INTP', 'ENTJ', 'ENTP', 'INFJ', 'INFP', 'ENFJ',\n",
    "         'ENFP', 'ISTJ', 'ISTP', 'ESFP', 'ESTP', 'ISFJ', 'ISFP',\n",
    "         'ESFJ', 'ESFP']\n",
    "def parse_type(x):\n",
    "    if x == '':\n",
    "        return 'Unknown'\n",
    "    x = x.split(' ')[0]\n",
    "    return x"
   ]
  },
  {
   "cell_type": "code",
   "execution_count": 113,
   "metadata": {},
   "outputs": [],
   "source": [
    "df['user_type'] = df['user_type'].apply(parse_type)"
   ]
  },
  {
   "cell_type": "code",
   "execution_count": 114,
   "metadata": {},
   "outputs": [
    {
     "data": {
      "text/plain": [
       "INFP       43947\n",
       "Unknown     8870\n",
       "INFJ        3837\n",
       "ENFP        2320\n",
       "INTP        2224\n",
       "INTJ        1807\n",
       "ISFP        1494\n",
       "ENTP         883\n",
       "ENFJ         766\n",
       "ISFJ         571\n",
       "ENTJ         471\n",
       "ISTJ         462\n",
       "ISTP         429\n",
       "ESTP         229\n",
       "ESTJ         171\n",
       "ESFJ         105\n",
       "ESFP         102\n",
       "Name: user_type, dtype: int64"
      ]
     },
     "execution_count": 114,
     "metadata": {},
     "output_type": "execute_result"
    }
   ],
   "source": [
    "df['user_type'].value_counts()"
   ]
  },
  {
   "cell_type": "code",
   "execution_count": 116,
   "metadata": {},
   "outputs": [],
   "source": [
    "df2 = pd.read_csv(r'C:\\Users\\Razer\\Desktop\\project_mbti\\personalitics\\output\\out.csv')"
   ]
  },
  {
   "cell_type": "code",
   "execution_count": 118,
   "metadata": {},
   "outputs": [
    {
     "data": {
      "text/plain": [
       "Turbulent Mediator (INFP-T)        512\n",
       "Turbulent Advocate (INFJ-T)        340\n",
       "Turbulent Logician (INTP-T)        293\n",
       "Assertive Architect (INTJ-A)       290\n",
       "Turbulent Architect (INTJ-T)       272\n",
       "Turbulent Campaigner (ENFP-T)      225\n",
       "Assertive Logician (INTP-A)        176\n",
       "Assertive Advocate (INFJ-A)        138\n",
       "Assertive Campaigner (ENFP-A)       80\n",
       "Assertive Mediator (INFP-A)         66\n",
       "Turbulent Debater (ENTP-T)          56\n",
       "Turbulent Adventurer (ISFP-T)       55\n",
       "Turbulent Protagonist (ENFJ-T)      54\n",
       "Assertive Debater (ENTP-A)          53\n",
       "Turbulent Defender (ISFJ-T)         50\n",
       "Assertive Protagonist (ENFJ-A)      48\n",
       "Assertive Commander (ENTJ-A)        47\n",
       "Assertive Entertainer (ESFP-A)      40\n",
       "Assertive Virtuoso (ISTP-A)         34\n",
       "Turbulent Commander (ENTJ-T)        30\n",
       "Assertive Adventurer (ISFP-A)       29\n",
       "Turbulent Entertainer (ESFP-T)      27\n",
       "Turbulent Virtuoso (ISTP-T)         27\n",
       "Turbulent Consul (ESFJ-T)           18\n",
       "Assertive Logistician (ISTJ-A)      11\n",
       "Assertive Defender (ISFJ-A)         11\n",
       "Assertive Consul (ESFJ-A)           11\n",
       "Turbulent Logistician (ISTJ-T)       8\n",
       "Turbulent Executive (ESTJ-T)         8\n",
       "Assertive Entrepreneur (ESTP-A)      6\n",
       "Assertive Executive (ESTJ-A)         5\n",
       "Turbulent Entrepreneur (ESTP-T)      3\n",
       "user_type                            1\n",
       "Name: user_type, dtype: int64"
      ]
     },
     "execution_count": 118,
     "metadata": {},
     "output_type": "execute_result"
    }
   ],
   "source": [
    "df2['user_type'].value_counts()"
   ]
  },
  {
   "cell_type": "code",
   "execution_count": null,
   "metadata": {},
   "outputs": [],
   "source": []
  }
 ],
 "metadata": {
  "kernelspec": {
   "display_name": "Python 3",
   "language": "python",
   "name": "python3"
  },
  "language_info": {
   "codemirror_mode": {
    "name": "ipython",
    "version": 3
   },
   "file_extension": ".py",
   "mimetype": "text/x-python",
   "name": "python",
   "nbconvert_exporter": "python",
   "pygments_lexer": "ipython3",
   "version": "3.7.0"
  }
 },
 "nbformat": 4,
 "nbformat_minor": 2
}
