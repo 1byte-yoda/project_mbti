{
  "nbformat": 4,
  "nbformat_minor": 0,
  "metadata": {
    "kernelspec": {
      "display_name": "Python 3",
      "language": "python",
      "name": "python3"
    },
    "language_info": {
      "codemirror_mode": {
        "name": "ipython",
        "version": 3
      },
      "file_extension": ".py",
      "mimetype": "text/x-python",
      "name": "python",
      "nbconvert_exporter": "python",
      "pygments_lexer": "ipython3",
      "version": "3.7.4"
    },
    "colab": {
      "name": "Personalitics Main.ipynb",
      "provenance": [],
      "collapsed_sections": [],
      "include_colab_link": true
    },
    "accelerator": "GPU"
  },
  "cells": [
    {
      "cell_type": "markdown",
      "metadata": {
        "id": "view-in-github",
        "colab_type": "text"
      },
      "source": [
        "<a href=\"https://colab.research.google.com/github/PHMark/project_mbti/blob/master/Personalitics_Main.ipynb\" target=\"_parent\"><img src=\"https://colab.research.google.com/assets/colab-badge.svg\" alt=\"Open In Colab\"/></a>"
      ]
    },
    {
      "cell_type": "markdown",
      "metadata": {
        "id": "p9ekoupr7ony",
        "colab_type": "text"
      },
      "source": [
        "<h1> Personalitics [MBTI Classifier]</h1>"
      ]
    },
    {
      "cell_type": "markdown",
      "metadata": {
        "id": "FAm_1rPQ7onz",
        "colab_type": "text"
      },
      "source": [
        "# 1. Project Overview"
      ]
    },
    {
      "cell_type": "markdown",
      "metadata": {
        "id": "BsmBQ47G7onz",
        "colab_type": "text"
      },
      "source": [
        "Personalitics is a text analytics project that aims to know if it's possible to classify a person based on his/her social media posts. To create an analytical model, this project will use a pre-labeled web scraped data from <i>16Personalities' Discussion Forum</i>. \n",
        "<br>\n",
        "\n",
        "> Credits: 16personalities.com\n",
        "\n",
        "<b> What is 16Personalities? </b>\n",
        "<br>\n",
        "\n",
        "\n",
        "16Personalities is a web platform that helps people know more about their personality type. They are using the Myers–Briggs Type Indicator (MBTI) model on their personality type test to evaluate an individual. They have a discussion forum which allows their members to ask questions and discuss a particular topic.\n",
        "<br>\n",
        "\n",
        "<b> MBTI Overview: </b>\n",
        "\n",
        "MBTI is an introspective self-report questionnaire indicating differing psychological preferences in how people perceive the world and make decisions. MBTI divides everyone into 16 distinct personality types across 4 axis:\n",
        "\n",
        "*  Introversion (I) – Extroversion (E)\n",
        "*  Intuition (N) – Sensing (S)\n",
        "*  Thinking (T) – Feeling (F)\n",
        "*  Judging (J) – Perceiving (P)"
      ]
    },
    {
      "cell_type": "markdown",
      "metadata": {
        "id": "utuee0N57on0",
        "colab_type": "text"
      },
      "source": [
        "## 1.1 Sources/Useful Links"
      ]
    },
    {
      "cell_type": "markdown",
      "metadata": {
        "id": "tgWJI_Od7on0",
        "colab_type": "text"
      },
      "source": [
        "<b>Sources:</b> <br>\n",
        "https://en.wikipedia.org/wiki/Myers%E2%80%93Briggs_Type_Indicator\n",
        "\n",
        "<b>Useful Links:</b><br>\n",
        "https://www.myersbriggs.org/my-mbti-personality-type/mbti-basics/ <br>\n",
        "https://www.16personalities.com/articles/our-theory"
      ]
    },
    {
      "cell_type": "markdown",
      "metadata": {
        "id": "Nuyq-c027on1",
        "colab_type": "text"
      },
      "source": [
        "## 1.2 Problem Statement"
      ]
    },
    {
      "cell_type": "markdown",
      "metadata": {
        "id": "CJ_ES1Db7on1",
        "colab_type": "text"
      },
      "source": [
        "*  Identify what is the MBTI of a post owner from 16Personalities' Discussion Forum.\n",
        "*  This could be very useful for various organizations, especially on their HR analytics / Marketing teams. \n",
        "<i>ie.</i> Help them develop a prior knowledge on their Job Applicants by researching Job Applicants' social media posts. Or help them taylor cohorts for their marketing campaigns."
      ]
    },
    {
      "cell_type": "markdown",
      "metadata": {
        "id": "Va2QYhyO7on1",
        "colab_type": "text"
      },
      "source": [
        "## 1.3 Objective(s)"
      ]
    },
    {
      "cell_type": "markdown",
      "metadata": {
        "id": "iytnwiq47on2",
        "colab_type": "text"
      },
      "source": [
        "* The main objective of this project is to provide a probability that a post belongs to a particular personality type (among the 16 personalities)."
      ]
    },
    {
      "cell_type": "markdown",
      "metadata": {
        "id": "v9oVTABc7on2",
        "colab_type": "text"
      },
      "source": [
        "# 2. Machine Learning Problem"
      ]
    },
    {
      "cell_type": "markdown",
      "metadata": {
        "id": "AD1tvJLk7on3",
        "colab_type": "text"
      },
      "source": [
        "## 2.1 Data"
      ]
    },
    {
      "cell_type": "markdown",
      "metadata": {
        "id": "rHOdNlvp7on3",
        "colab_type": "text"
      },
      "source": [
        "### 2.1.1 Data Overview"
      ]
    },
    {
      "cell_type": "markdown",
      "metadata": {
        "id": "47EWNgf_7on4",
        "colab_type": "text"
      },
      "source": [
        "<b> Data Gathering: </b> <br>\n",
        "<p> \n",
        "- The data was gathered from Personalitycafe's Forum, 16personalities' Forum, and Kaggle. I collected each of the dataset thru web scraping, except for the dataset from Kaggle. <br><br>\n",
        "- Datasets:  <br>\n",
        "1. data_discussion_16personalities.csv [Size: N mb]<br>\n",
        "2. data_personalitycafe.csv [Size: N mb]<br>\n",
        "3. data_pub_16personalities.csv. [Size: N mb]<br><br>\n",
        "\n",
        "Note: Although there are various features on each dataset, I decided to use only the text data to normalize the feature set and be able to test it on my use case. <br><br>\n",
        "<b> Data Dictionary: </b> <br>\n",
        "    xxxxx"
      ]
    },
    {
      "cell_type": "markdown",
      "metadata": {
        "id": "AUPqIGk07on4",
        "colab_type": "text"
      },
      "source": [
        "## 2.2 Mapping to a Machine Learning Problem"
      ]
    },
    {
      "cell_type": "markdown",
      "metadata": {
        "id": "2QdHDQM37on4",
        "colab_type": "text"
      },
      "source": [
        "### 2.2.1 Type of Machine Learning Problem"
      ]
    },
    {
      "cell_type": "markdown",
      "metadata": {
        "id": "lyN48yxj7on5",
        "colab_type": "text"
      },
      "source": [
        "This is a multiclass classification problem because we are going to to classify a post either of the 16 personalities."
      ]
    },
    {
      "cell_type": "markdown",
      "metadata": {
        "id": "Tgg_Qw-t7on5",
        "colab_type": "text"
      },
      "source": [
        "### 2.2.2 Performance Metric"
      ]
    },
    {
      "cell_type": "markdown",
      "metadata": {
        "id": "DKf____d7on6",
        "colab_type": "text"
      },
      "source": [
        "<b>Metric(s):</b><br>\n",
        "* Log-loss\n",
        "* F1 Score \n",
        "\n",
        "<p>We'll use Log Loss to see the probability of a post belonging to a category. (We will see later why I chose F1 Score as a metric.)</p>"
      ]
    },
    {
      "cell_type": "markdown",
      "metadata": {
        "id": "gIG6lA4A7on6",
        "colab_type": "text"
      },
      "source": [
        "## 2.3 Train and Test Set Configuration"
      ]
    },
    {
      "cell_type": "markdown",
      "metadata": {
        "id": "CJMUh54F7on7",
        "colab_type": "text"
      },
      "source": [
        "We are going to randomly split the data into 70:30 ratio."
      ]
    },
    {
      "cell_type": "markdown",
      "metadata": {
        "id": "MFCt6Lo17on7",
        "colab_type": "text"
      },
      "source": [
        "## 3. Exploratory Data Analysis"
      ]
    },
    {
      "cell_type": "code",
      "metadata": {
        "id": "EWbdYd8Jcbaf",
        "colab_type": "code",
        "colab": {}
      },
      "source": [
        "!pip install --upgrade plotly\n",
        "!pip install emojis"
      ],
      "execution_count": 0,
      "outputs": []
    },
    {
      "cell_type": "code",
      "metadata": {
        "id": "y7iEJ9pc7on7",
        "colab_type": "code",
        "outputId": "a37e460c-bed4-4603-dce9-b64ed4987b0f",
        "colab": {
          "base_uri": "https://localhost:8080/",
          "height": 88
        }
      },
      "source": [
        "# Loading the required modules\n",
        "import re\n",
        "import plotly.express as px\n",
        "from datetime import datetime\n",
        "from matplotlib import pyplot as plt\n",
        "import matplotlib.patches as mpatches\n",
        "import pandas as pd\n",
        "import numpy as np\n",
        "import seaborn as sns\n",
        "from sklearn.model_selection import train_test_split\n",
        "from sklearn.feature_extraction.text import CountVectorizer\n",
        "import nltk\n",
        "import json\n",
        "nltk.download('stopwords')\n",
        "from nltk.corpus import stopwords\n",
        "import plotly.express as px\n",
        "from tqdm import tqdm\n",
        "\n",
        "OUTPUT_DIR = r'drive/My Drive/ML Projects/Personalitics/output/'\n",
        "stopwords = set(stopwords.words('english'))\n",
        "emojis = json.loads(open(OUTPUT_DIR + 'emoji_pack.json').read())\n",
        "try:\n",
        "  stopwords.remove('not')\n",
        "  stopwords.add('will')\n",
        "except:\n",
        "  pass\n",
        "print((stopwords))"
      ],
      "execution_count": 204,
      "outputs": [
        {
          "output_type": "stream",
          "text": [
            "[nltk_data] Downloading package stopwords to /root/nltk_data...\n",
            "[nltk_data]   Package stopwords is already up-to-date!\n",
            "{'between', 'over', 'were', \"hasn't\", 'during', 'hasn', 'he', 'above', \"aren't\", 'shouldn', 'weren', 'few', 'have', \"mustn't\", 'those', 'ourselves', 'while', 'just', \"you'll\", 'his', 'of', 'what', 'am', 'can', 'couldn', 'we', \"won't\", \"don't\", 'you', 'it', 'did', 'but', 'isn', 'below', 'd', 'through', \"wasn't\", 'she', 'more', \"you're\", 'yours', 'against', 'which', \"should've\", 'a', 'don', 'some', 're', \"you've\", 'ma', 'doesn', 'i', 'down', 'who', \"wouldn't\", 'having', 'now', 'these', 'both', 'only', 'after', 'himself', 'herself', 'them', 'been', 'does', 'then', 'nor', 'itself', 'no', 'as', 'y', \"needn't\", 'its', 'are', 'than', 'all', 'off', 'into', 'him', 'there', 'doing', 'being', 'wouldn', \"haven't\", 'in', 'out', \"you'd\", 'the', 'yourselves', 'with', 'up', 'each', 'from', 'because', 'shan', 'on', \"shouldn't\", 'yourself', 'hers', 'had', 'they', 'if', 'about', 'be', 'your', 'ours', 'theirs', \"hadn't\", 'mustn', \"weren't\", 't', 'me', 'll', 'aren', 'again', \"didn't\", 'haven', 'wasn', 'to', 'do', \"shan't\", 'when', 'where', 'for', 'any', 'ain', 'm', 'her', 'has', 'until', 'is', 'own', \"that'll\", 'once', \"isn't\", 'that', \"mightn't\", 'will', 'was', 'didn', 'other', \"doesn't\", 'an', 'too', 'needn', 'themselves', 'by', 'at', 'and', 've', 'won', 'so', 'should', \"she's\", 'how', 'very', 'under', 'o', 'most', 'this', 'myself', 'why', 's', 'same', 'hadn', 'whom', 'or', 'their', \"it's\", \"couldn't\", 'such', 'further', 'mightn', 'before', 'our', 'here', 'my'}\n"
          ],
          "name": "stdout"
        }
      ]
    },
    {
      "cell_type": "markdown",
      "metadata": {
        "id": "oq8IcPie7on-",
        "colab_type": "text"
      },
      "source": [
        "### 3.0.1 Loading the Datasets"
      ]
    },
    {
      "cell_type": "code",
      "metadata": {
        "id": "tj5IeaDm7on_",
        "colab_type": "code",
        "colab": {}
      },
      "source": [
        "# Read all DataFrames from csv files\n",
        "df_16p_disc = pd.read_csv(OUTPUT_DIR + 'aggregated/data_discussion_16personalities.csv')\n",
        "df_16p_pub = pd.read_csv(OUTPUT_DIR + 'aggregated/data_pub_16personalities.csv')\n",
        "df_ps_cafe = pd.read_csv(OUTPUT_DIR + 'aggregated/data_personalitycafe.csv')\n",
        "\n",
        "# Rename columns using a defined standard\n",
        "df_16p_disc = df_16p_disc.rename({'sub-answerBody': 'comment', 'sub-type': 'type', 'sub-approvedAtNice': 'median_dow', 'sub-dow': 'median_hour'}, axis=1)\n",
        "df_16p_pub = df_16p_pub.rename({'child_text': 'comment', 'user_type': 'type', 'date': 'median_hour', 'dow': 'median_dow'}, axis=1)\n",
        "df_ps_cafe = df_ps_cafe.rename({'child_text': 'comment', 'user_type': 'type', 'date': 'median_hour', 'dow': 'median_dow'}, axis=1)\n",
        "\n",
        "# Drop unnecessary columns\n",
        "df_16p_pub.drop(columns=['user_id', 'median_hour', 'median_dow'], inplace=True, axis=1)\n",
        "df_16p_disc.drop(columns=['sub-profileUrl', 'median_hour', 'median_dow'], inplace=True, axis=1)\n",
        "df_ps_cafe.drop(columns=['user_id', 'median_hour', 'median_dow'], inplace=True, axis=1)\n",
        "\n",
        "# Reorder the columns of each DataFrame\n",
        "new_order = ['type', 'comment']\n",
        "df_16p_disc = df_16p_disc[new_order]\n",
        "df_16p_pub = df_16p_pub[new_order]\n",
        "df_ps_cafe = df_ps_cafe[new_order]\n",
        "\n",
        "df = pd.concat([df_16p_disc, df_16p_pub, df_ps_cafe])\n",
        "\n",
        "# Flush out unnecessary variables\n",
        "df_16p_disc = None\n",
        "df_16p_pub = None\n",
        "df_ps_cafe = None\n",
        "del df_16p_disc\n",
        "del df_16p_pub\n",
        "del df_ps_cafe"
      ],
      "execution_count": 0,
      "outputs": []
    },
    {
      "cell_type": "code",
      "metadata": {
        "id": "J3rDEzi895RQ",
        "colab_type": "code",
        "outputId": "c77f389a-a19d-4c72-b0f5-9f93a359237b",
        "colab": {
          "base_uri": "https://localhost:8080/",
          "height": 51
        }
      },
      "source": [
        "# Print the dimensions of df\n",
        "print('Number of Rows: {}\\nNumber of Columns: {}'.format(*df.shape))"
      ],
      "execution_count": 0,
      "outputs": [
        {
          "output_type": "stream",
          "text": [
            "Number of Rows: 39063\n",
            "Number of Columns: 2\n"
          ],
          "name": "stdout"
        }
      ]
    },
    {
      "cell_type": "code",
      "metadata": {
        "id": "RNsK3iI67ooB",
        "colab_type": "code",
        "outputId": "b738a093-b172-4d7a-a1dc-b87fbd9d7b99",
        "colab": {
          "base_uri": "https://localhost:8080/",
          "height": 204
        }
      },
      "source": [
        "# Show a subset of our dataset\n",
        "df.head()"
      ],
      "execution_count": 0,
      "outputs": [
        {
          "output_type": "execute_result",
          "data": {
            "text/html": [
              "<div>\n",
              "<style scoped>\n",
              "    .dataframe tbody tr th:only-of-type {\n",
              "        vertical-align: middle;\n",
              "    }\n",
              "\n",
              "    .dataframe tbody tr th {\n",
              "        vertical-align: top;\n",
              "    }\n",
              "\n",
              "    .dataframe thead th {\n",
              "        text-align: right;\n",
              "    }\n",
              "</style>\n",
              "<table border=\"1\" class=\"dataframe\">\n",
              "  <thead>\n",
              "    <tr style=\"text-align: right;\">\n",
              "      <th></th>\n",
              "      <th>type</th>\n",
              "      <th>comment</th>\n",
              "    </tr>\n",
              "  </thead>\n",
              "  <tbody>\n",
              "    <tr>\n",
              "      <th>0</th>\n",
              "      <td>ESFP</td>\n",
              "      <td>The secretive guy wrote: There's a thread just...</td>\n",
              "    </tr>\n",
              "    <tr>\n",
              "      <th>1</th>\n",
              "      <td>INFP</td>\n",
              "      <td>I wanna write a little story; because reading ...</td>\n",
              "    </tr>\n",
              "    <tr>\n",
              "      <th>2</th>\n",
              "      <td>INTP</td>\n",
              "      <td>caly, goddess of love wrote: my friend is gonn...</td>\n",
              "    </tr>\n",
              "    <tr>\n",
              "      <th>3</th>\n",
              "      <td>INFP</td>\n",
              "      <td>I would focus on myself, and continue to be fr...</td>\n",
              "    </tr>\n",
              "    <tr>\n",
              "      <th>4</th>\n",
              "      <td>INTJ</td>\n",
              "      <td>There are an equal number of pros and cons, to...</td>\n",
              "    </tr>\n",
              "  </tbody>\n",
              "</table>\n",
              "</div>"
            ],
            "text/plain": [
              "   type                                            comment\n",
              "0  ESFP  The secretive guy wrote: There's a thread just...\n",
              "1  INFP  I wanna write a little story; because reading ...\n",
              "2  INTP  caly, goddess of love wrote: my friend is gonn...\n",
              "3  INFP  I would focus on myself, and continue to be fr...\n",
              "4  INTJ  There are an equal number of pros and cons, to..."
            ]
          },
          "metadata": {
            "tags": []
          },
          "execution_count": 380
        }
      ]
    },
    {
      "cell_type": "code",
      "metadata": {
        "id": "VNJWIS8o7ooF",
        "colab_type": "code",
        "outputId": "ed863485-10c6-4578-9087-9c3dd05b3d7d",
        "colab": {
          "base_uri": "https://localhost:8080/",
          "height": 68
        }
      },
      "source": [
        "# How many NULL values do we have?\n",
        "df.isna().sum()"
      ],
      "execution_count": 0,
      "outputs": [
        {
          "output_type": "execute_result",
          "data": {
            "text/plain": [
              "type       0\n",
              "comment    5\n",
              "dtype: int64"
            ]
          },
          "metadata": {
            "tags": []
          },
          "execution_count": 381
        }
      ]
    },
    {
      "cell_type": "code",
      "metadata": {
        "id": "zD1JasGE7ooI",
        "colab_type": "code",
        "outputId": "5042c171-019f-4378-8f4e-25bb0231168c",
        "colab": {
          "base_uri": "https://localhost:8080/",
          "height": 173
        }
      },
      "source": [
        "# Show the high level statistics of our dataset\n",
        "df.describe()"
      ],
      "execution_count": 0,
      "outputs": [
        {
          "output_type": "execute_result",
          "data": {
            "text/html": [
              "<div>\n",
              "<style scoped>\n",
              "    .dataframe tbody tr th:only-of-type {\n",
              "        vertical-align: middle;\n",
              "    }\n",
              "\n",
              "    .dataframe tbody tr th {\n",
              "        vertical-align: top;\n",
              "    }\n",
              "\n",
              "    .dataframe thead th {\n",
              "        text-align: right;\n",
              "    }\n",
              "</style>\n",
              "<table border=\"1\" class=\"dataframe\">\n",
              "  <thead>\n",
              "    <tr style=\"text-align: right;\">\n",
              "      <th></th>\n",
              "      <th>type</th>\n",
              "      <th>comment</th>\n",
              "    </tr>\n",
              "  </thead>\n",
              "  <tbody>\n",
              "    <tr>\n",
              "      <th>count</th>\n",
              "      <td>39063</td>\n",
              "      <td>39058</td>\n",
              "    </tr>\n",
              "    <tr>\n",
              "      <th>unique</th>\n",
              "      <td>16</td>\n",
              "      <td>38885</td>\n",
              "    </tr>\n",
              "    <tr>\n",
              "      <th>top</th>\n",
              "      <td>INFP</td>\n",
              "      <td>Hi</td>\n",
              "    </tr>\n",
              "    <tr>\n",
              "      <th>freq</th>\n",
              "      <td>8272</td>\n",
              "      <td>6</td>\n",
              "    </tr>\n",
              "  </tbody>\n",
              "</table>\n",
              "</div>"
            ],
            "text/plain": [
              "         type comment\n",
              "count   39063   39058\n",
              "unique     16   38885\n",
              "top      INFP      Hi\n",
              "freq     8272       6"
            ]
          },
          "metadata": {
            "tags": []
          },
          "execution_count": 382
        }
      ]
    },
    {
      "cell_type": "code",
      "metadata": {
        "id": "VxSvxx7J7ooK",
        "colab_type": "code",
        "outputId": "67871fbc-f588-43c9-ab3e-f867e13c0cd9",
        "colab": {
          "base_uri": "https://localhost:8080/",
          "height": 54
        }
      },
      "source": [
        "# Show the unique values on our target column\n",
        "print('Unique Values of the target column:', df['type'].unique().tolist())"
      ],
      "execution_count": 0,
      "outputs": [
        {
          "output_type": "stream",
          "text": [
            "Unique Values of the target column: ['ESFP', 'INFP', 'INTP', 'INTJ', 'ISTJ', 'ENTP', 'INFJ', 'ENFJ', 'ENFP', 'ENTJ', 'ISFP', 'ISFJ', 'ISTP', 'ESTP', 'ESFJ', 'ESTJ']\n"
          ],
          "name": "stdout"
        }
      ]
    },
    {
      "cell_type": "code",
      "metadata": {
        "id": "N3uM4WhMBqm6",
        "colab_type": "code",
        "outputId": "8ad7c81f-3621-42c7-9b7e-7a46c9108f8a",
        "colab": {
          "base_uri": "https://localhost:8080/",
          "height": 1000
        }
      },
      "source": [
        "# Print a comment sample\n",
        "print('SAMPLE #1:', df['comment'].sample(1).iloc[0])\n",
        "print()\n",
        "print('SAMPLE #2:', df['comment'].sample(1).iloc[0])\n",
        "print()\n",
        "print('SAMPLE #3:', df['comment'].sample(1).iloc[0])"
      ],
      "execution_count": 0,
      "outputs": [
        {
          "output_type": "stream",
          "text": [
            "SAMPLE #1: Yes. Always a build-up of anxiety in the queue, but the best rush during all those really scary bits :). And a great feeling afterwards!|||I've had some really useful answers on this forum before when I first submitted a 'what type am I?' post - but which was mainly in answer to doubts over whether I was a T or an F. The more I've come to understand about myself, the more I appreciate and accept I'm an F. But lately I've wondered more about whether I'm a Perceiver or Judger. And what I want to know is whether or not I'm reading my actual personality or the one I adopt to deal with what's around me. \n",
            "What I've tentatively concluded is that I'm either a stressed-out ISFP or a lazy/depressed ISFJ. Hopefully you'll see what I mean.\n",
            "Going to write out why I have cause to think either:ISFP - Fi/Se- truest-sounding personality profile. What particularly resonates - appreciation of aesthetics (esp. sights and music) and dislike of conflict. \n",
            "- am at my happiest when just plain enjoying myself in the moment and feeling completely free\n",
            "- value system is very personal - I'll express my values, but not expect others to follow them\n",
            "- I like to be personally organised, but don't like to organise others. (And struggle to organise myself!). The Js I know are so much more disciplined than I am. \n",
            "- resent power-structures and the need to be loyal for the sake of it. Yearn to not have to respect them. ISFJ - Si/Fe- profile resonates when describing the sense to duty to others and consequentially being very put-upon/overloaded. The sense of duty feels to me like a coping mechanism to avoid conflict and disapproval - that point is vital\n",
            "- Not as fashionable or freely pleasure-seeking or adventurous as Se suggests - tend to be more reserved/withdrawn/scared(?)/feel restricted for that\n",
            "- often dwell on the past (Si?) as a way of explaining my current behaviour\n",
            "- I like others to feel good and play a role in that (Fe?) - v. much in line with my first point - as much as it gives me pleasure to do so, it partly feels like a duty that to some extent I resent and find tiring.\n",
            "If I'm a P, then it seems I'm an very dutiful one - and possibly as a result of a fair amount of stress and unhappiness. If I'm a J, then I seem to be a lazy one - possibly as a result of often feeling in a depressed state.\n",
            "Would really like to understand this - and thanks in advance for anyone who can help. \n",
            "Lastly - have tested as 4w5. Second most likely type was 6 - so I presume 6w5? (Apologies - I'm not fully familiar with the enneagram test yet.)\n",
            "Thanks again.|||Thanks Bluebird. Your point about Fi and doing whatever it is you want is very familiar. And take your point about Se. \n",
            "Definitely not an ISTJ! Any sense of duty always carries a LOT of resentment, and is often neglected. And that would mean Te is my secondary function, which in no way it is. What I'm trying to get to is whether the duty is a stress-response or a previously misunderstood part of my personality. Seems more and more like the former!|||See above for what I said about Te... definitely doesn't fit. Apparently Te being my inferior function = failing to draw logical conclusions and act on them, which fits very well.\n",
            "on Q2 - point taken that Se can manifest itself in several ways. There are several aspects of my behaviour that feel Se. It's just the profiles and stereotypes that make me feel like I'm supposed to some wild action-man to qualify as using Se!\n",
            "Q3 - I have a question on that - based on the diagrams I've seen, as someone who's Fi dominant, doesn't that entail an element of Fe?|||This is fascinating!! On the basis of that, I am a slam-dunk ISFP. The only thing I remember vividly from childhood that wasn't listed for IFPs was being absorbed for hours and hours in anything playful. True for a lot of kids, sure, but not all. The IFP description is very, very accurate, but the ISJ one is a long way off. \n",
            "Really interesting and useful. Thanks again!|||Interesting!\n",
            "First - fully identify with having been raised to be pleasant and say please and thank you. To a great extent, that's why I do so. And above all - it's really annoying when others don't. As much as anything, that feels like a manifestation of Fi, and I act according to those principles. I think there might still be a small element of Fe - I do take pleasure in making others feel good; I just strongly resent it when it's out of duty. \n",
            "Your Ti point is really interesting. When I first had doubts over whether I was T or F, what bothered me is that being slightly F over T mean that not only would the thinking function become extraverted, it would also be my inferior function. Do you see what I mean? I definitely feel like I use Ti a lot (and certainly more than Te). As strong as my value system is, I constantly use logic when making decisions in my head. \n",
            "Enneatypes - very new to them, but I mentioned what I tested as at the start of this thread. I tested as 4w5, with the second most likely type being 6 - which I presume would be 6w5? But do tell me more.|||I posted something on the 'What's my type' board, but never heard anything back. Don't know if inappropriate to cross-post (tell me if it is), but thought I'd copy out the questionnaire from one of the sticky threads and put my answers here as well. \n",
            "My first post was along the lines that although I test as ISTP, the profile for an ISFP describes me far better, and I'd like to understand why. The second post was my answers to the questionnaire, which I've reproduced here. Any thoughts on whether I really am ISFP (or something else) would be much appreciated. I might then follow up with my questions on the ISTP/ISFP confusion. \n",
            "Thanks in advance.\n",
            "-------\n",
            "0. Is there anything that may affect the way you answer the questions?    For example, a stressful time, mental illness, medications, special  life   circumstances? Other useful information includes sex, age, and  current   state of mind.\n",
            "Generally stressed and unhappy, though often outwardly cheerful. Stress  and unhappiness a result of a nasty childhood, during which I was often  denied choices that should have been mine to make. Often stressed out by  pressure at work - domineering types 'invading' my personal 'space'. On  fluoxetine. Male, 31. Despite what I've just put, my outlook at the  minute is probably more positive than it's been for a good while. \n",
            "1. Click on this link. Look at the random photo for about 30 seconds.  Copy and paste it here, and write about your impression of it.\n",
            "Can't post links or images, so you can see the picture here: flickr-dot-com - photos/gm_coates/7320192752/\n",
            "First - was anxious clicking the link in case a picture came up of  something I don't like - e.g. a massive spider. Thought I'd mention  that. \n",
            "Was disappointed by the picture - was hoping for something a lot more  interesting and thought-provoking. Didn't look at it for 30 seconds, as  requested - just didn't seem worth it. Don't like the crudeness of the  ground/background, would prefer something smoother. I like the shade of  blue, but something about it against the brown doesn't work - not a good  mix of colours. (Imagine those colours in a shirt-tie combo - urgh.)  Found myself annoyed by the use of depth of field - although the ground  being mainly out of focus works nicely to focus the eye on the bird,  it's too clunky - the top and bottom thirds are completely OOF, the  middle third is perfectly IF. Prefer something more gradual. \n",
            "On second glance, it's just a picture of a bird! Nothing more than that!  It's composed with purely that in mind, rather than with the intention  to show something more interesting. Lazy. \n",
            "2. You are with a group of people in a car, heading to a different town     to see your favourite band/artist/musician. Suddenly, the car breaks     down for an unknown reason in the middle of nowhere. What are your     initial thoughts? What are your outward reactions?\n",
            "First thought - panic at missing out on the experience. Being there for  the event is everything. Experiences like that should be perfect - would  even ruin things to arrive late. But definitely that over fear of the  situation itself. \n",
            "Outward reaction - try to calmly figure out how we can get help. Would  probably use humour to relieve a bit of tension and fear. Would think of  the practical ways we can get help - calling out a mechanic, calling  someone for advice, etc. Would be optimistic things will work themselves  out.\n",
            "3. You somehow make it to the concert. The driver wants to go to the     afterparty that was announced (and assure you they won't drink so  they    can drive back later). How do you feel about this party? What do  you    do?\n",
            "Sounds good to me. The afterparty sounds more intimate - a more relaxed  atmosphere than the concert itself. Fewer people, lots of laughing.  Wouldn't want to stick around if it's a massive crowd. If that was the  case, would have a strong preference for getting back to my home, which  is a more comforting environment. Would feel a bit bad for the driver  that they can't have a couple of drinks and join in properly. \n",
            "4. On the drive back, your friends are talking. A friend makes a claim    that clashes with your  current beliefs. What is your inward reaction?    What do you outwardly  say?\n",
            "Initially, probably quite a bit of inner anger. Especially if the claim  is made with a lot of confidence/arrogance. If it's put out there as a  suggestion, then that sparks an interesting debate. But if it's more  assertive, then I'd seeth a bit at the thought of someone seeing things  in a certain way that is clearly wrong to me. Outwardly, don't want to  let it lie, so would very nervously challenge what they say. But with a  great deal of anxiety over whether I can adequately state my case, and  probably feeling slightly resigned to not being able to change the other  person's mind. \n",
            "5. What would you do if you actually saw/experienced something that     clashes with your  previous beliefs, experiences, and habits?\n",
            "This is more difficult to answer. Initially, would feel resentment and  dislike towards that person. Would find it hard to challenge them  though. Would, over time, probably end up maintaining a slightly  passive-aggressive distance from them, but would still try to get along  with them. But resentment would likely remain. \n",
            "6. What are some of your most important values? How did you come about determining them? How can they change?\n",
            "Sounds fluffy, but enjoyment of life is the most important thing. What  this more specifically means is the freedom to do what everyone wants to  do, and let no man ever get in the way of that. Respecting each others'  desires and intentions, providing they don't cause harm to others.  Think this has come about from a) the strength of emotion I experience  when I feel I'm independently enjoying myself; and b) the extent to  which I've been denied this right in the past. How they can change - I'm  not sure. I'd be open to persuasion if specific facts pointed,  scientifically, to other things that are paramount for increasing  everyone's enjoyment of life. \n",
            "7. a) What about your personality most distinguishes you from everyone     else? b) If you could change one thing about you personality, what   would   it be? Why?\n",
            "a) The need to frequently be alone. I'm the guy who's perfectly content  to be at home alone on a Saturday night (and I used to feel guilty about  that, but not really anymore - although I do still worry what people  make of that sort of habit). Secondly, my sense of humour - I tend to  crack more jokes than others. Humour has a place in every situation.  Tend to have a very dark and silly sense of humour. Insulting someone is  a deep compliment from me. \n",
            "b) Be less afraid of danger, of rejection, of not enjoying myself. I've  got a strong inner desire to be more spontaneous and adventurous, but  this is held in check by fear of what could happen. When I'm old, I'd  love to look back and remember travelling the world - but right now, I  wouldn't go travelling out of fear. Similarly, I'd love to change my  'dependence' on home comforts. It's just a part of me that is how I am,  but that I really don't like.\n",
            "8. How do you treat hunches or gut feelings? In what situations are they most often triggered?\n",
            "Struggle to relate with this. When I do have gut feelings (e.g. how I  feel about a prominent public figure), I'm usually inclined to consider  why they arise and provide some sort of evidence for them. Or then  entertain the idea that those gut feelings arise from a breakdown in  logic. They're triggered mainly by things that arouse a strong sense of  like/dislike in me. \n",
            "9. a) What activities energize you most? b) What activities drain you most? Why?\n",
            "a) performance, especially with the band I play with. Get really high on  giving everyone a good time. Winning their approval is a pleasant  side-effect of this. And the fact of making great music is greatly  energising. Second, I love understanding things that help us improve  human happiness but really figuring out what's *true* about us. Best  example are books that explain, with reference to specific experiments,  why we behave the way we do. What then excites me is the potential for  this to be practically applied to make things better for everyone. \n",
            "b) Anything involving routine and structure being imposed on me. This  could involve certain tasks at work. But also social situations where I  need to make polite conversation with my extended family. Very very  tiring. \n",
            "10. What do you repress about your outward behavior or internal thought process when around others? Why?\n",
            "I avoid saying or doing things that could lead to rejection or conflict.  As for why - in the past, I've often had strong figures making things  difficult for me when I've been in conflict with others, hence it now  feels easiest to just avoid that conflict. And I do value harmony. But I  deeply resent that being imposed on me - it has to come about because  things work out for everyone, and not against anyone's will. \n",
            "_______\n",
            "I found writing that quite therapeutic. Think those questions have  helped me sum myself up pretty well. All comments and further questions  are very very welcome!|||Thanks paper lillies. Not too familiar with the enneagram model but will look it up. \n",
            "In the meantime, would really appreciate any comments on my MBTI based on my answers above. \n",
            "Thanks.|||Fully agree that everyone has values and makes value judgments - which doesn't help with accurate profiling. In terms of reacting... it's a mixture. If someone says something I don't like, I FEEL very angry, but want to counter with logic rather than persuasion and feelings. When I speak myself, I'm more comfortable expressing thoughts, but enjoy talking about how I feel about things - especially when it's something I enjoy. (Though, inwardly at least, I like to justify what I like with logic.) Exactly that. I was always the kid asking 'why?'. Constantly need to understand things and draw logically coherent conclusions. Thanks for that observation - it rings very true. I constantly analyze my gut feelings. \n",
            "And yet, I still feel like more of an ISFP, given I can be prone to inward emotion and am not as detached as I'd like. What I put in my answer to Question 0 bothers me - given that past events have strongly affected me, and do so to this day, I find myself worried that I'm a natural ISTP who's been corrupted into an ISFP by virtue of a) having been subjected to more emotion (and made to feel more emotion) than is reasonable; and b) having had to care too much about others. I feel much better when I feel somewhat cold-hearted and ruthless - it feels like it's me at my best. Hence all my questions!\n",
            "Thanks again for your thoughts. \n",
            "If anyone else sees this, would really appreciate any comments - esp. in relation to my answers to the questionnaire above.|||Thanks for the replies. \n",
            "Agree that it can't be an exact science. It's a useful framework to help me understand my true nature though. \n",
            "And as for being 'ruthless' - that's too strong a word. Would never intend to step on others or do them harm; I just don't like this feeling of having a constant sense of duty to others and worrying about how they feel. Great example - I specifically replied to this post in order to refute the suggestion of being 'ruthless' - you and I will never meet, yet it bothered me that someone out there had inferred I had an undesirable characteristic. Crazy, isn't it? I'd feel far happier if I didn't have to worry about that - but am willing to entertain the idea that worrying about this sort of thing is just how I am. But hopefully that clarifies why I'm happier feeling detached. \n",
            "Thanks again!|||Thanks for the two answers above, really useful observations. Especially the point quoted, which reveals quite a stark T/F difference. \n",
            "I guess my one quibble is whether or not difficult life circumstances have left me needing to pay more attention to feelings (others' and my own) than I 'naturally' would want to. Truth is, though, that I never really get away from addressing people's feelings, and as the breakdown answer revealed, that can often have a good side - i.e. wanting to cheer people up and make them laugh (rather than make people feel better - that comes less naturally). And some of the non-feeling related aspects of the ISFP profile are very familiar to me. Think I can settle on that type :). \n",
            "Thanks again!|||Thanks for the two answers above, really useful observations. Especially the point quoted, which reveals quite a stark T/F difference. \n",
            "I guess my one quibble is whether or not difficult life circumstances have left me needing to pay more attention to feelings (others' and my own) than I 'naturally' would want to. Truth is, though, that I never really get away from addressing people's feelings, and as the breakdown answer revealed, that can often have a good side - i.e. wanting to cheer people up and make them laugh (rather than make people feel better - that comes less naturally). And some of the non-feeling related aspects of the ISFP profile are very familiar to me. Think I can settle on that type :). \n",
            "Thanks again!\n",
            "\n",
            "SAMPLE #2: Hey I haven't seen you in a year it's been forever!\r\n",
            "\r\n",
            "New year's pun\n",
            "\n",
            "SAMPLE #3: Doing something that makes me happy, and being content in life. Thats success for me|||Hi, my name is Wish, and I just joined. I love nature, and animals, things that are full of wonder and beauty, and going on adventures. I do whatever I want and don't care what others think. I live in the moment, and never think about the future. I never kill anything, and get devistated when anything dies. It's nice to meet all of you :)|||I'm Leo, but I think I act more like Picies or LIbra|||I'm very bad at it. I can only when I know the person very well.|||My need to be controled and have direction,  my continued worrying about not being myself, how I keep my emotions bottled up until I snap, my negitivity towards the world and humanity especially.|||I sometimes don't know if there's even any good ones. The thing I hate most is how little they care about everything elses lives. They will kill anything just to make life a little bit better for themselves.|||People leaving the door to my room open\n",
            "Having my hair not covering my arms\n",
            "middle school/high school drama|||The only person I've ever dated is an INFP|||My dogs made me smile today|||Finishing a poster for school with just using colorful sharpies|||Starting Ukulele class and being good at playing the ukulele|||Pink at the moment, but it changes depending on my mood :)|||My family trying to get me to persue a job that I know I'll be miserable in because I'm good at it\n",
            "Teachers who need everything to be done their go way, and wont let me do my own way\n",
            "People who think people should live a certain way because thats how they live\n",
            "Racism, sexism, homophobia, classism ect.\n",
            "People killing other creatures because they minorly inconvience them and feel no remorse about it. \n",
            "Being normal, and the expectation that everyone needs to fit in and not be themselves|||I'm not sure but FLuttershy from my little pony friendship is magic maybe?|||That makes sense|||I heard that Bob Dylan is.|||Kids in Hats_n.jpgThats me and my siblings. I'm the one with the brown hair and the racoon hat. My sister in INTJ and my brother is ENFP|||You always want to explore the world around you\n",
            "You love spending time with animals.\n",
            "People call you irrational\n",
            "You spend time in the forest because you love the beauty feeling of it.\n",
            "You can never decide what you favorite color is, it changes depending on your mood.|||Whenever you visit a new place you have to explore it.|||When you can never explain to other people why you like things. \r\n",
            "When you don't have very many friends but the ones you have your extremely close to. \r\n",
            "When you don't think about what life will bring, you just let life happen.\n"
          ],
          "name": "stdout"
        }
      ]
    },
    {
      "cell_type": "code",
      "metadata": {
        "id": "XGLM0FLt0BPI",
        "colab_type": "code",
        "colab": {}
      },
      "source": [
        "# Removing the row of the null comments\n",
        "df = df[~df['comment'].isna()]"
      ],
      "execution_count": 0,
      "outputs": []
    },
    {
      "cell_type": "markdown",
      "metadata": {
        "id": "CQl-hi9Ht53P",
        "colab_type": "text"
      },
      "source": [
        "<b> Observations: <b> <br>\n",
        "*  There are 5 null values in our comment column. \n",
        "*  There are 39,063 unique data points, which means 39,063 unique users.\n",
        "*  Comment column needs some cleaning. For instance, there are some non-alphabetical words occuring in the comments. \n",
        "*  In Sample Comment #1, there are lots of mentioned personality types and lots of Capitalized words. We will see more of the text data later in the feature analysis part."
      ]
    },
    {
      "cell_type": "markdown",
      "metadata": {
        "id": "uU-r2SwU7ooM",
        "colab_type": "text"
      },
      "source": [
        "## 3.1  Target Variable Analysis"
      ]
    },
    {
      "cell_type": "markdown",
      "metadata": {
        "id": "a37J2Dg07ooN",
        "colab_type": "text"
      },
      "source": [
        "### 3.1.1 Check the Target Column's Distribution"
      ]
    },
    {
      "cell_type": "code",
      "metadata": {
        "id": "pKb4OlSQ7ooN",
        "colab_type": "code",
        "outputId": "128c39b0-c012-4fb5-9787-3661206e3360",
        "colab": {
          "base_uri": "https://localhost:8080/",
          "height": 351
        }
      },
      "source": [
        "tmp_data_16p_dis = pd.DataFrame(df['type'].value_counts().reset_index().rename({'index': 'type', 'type': 'freq.'}, axis=1)).sort_values(by='type')\n",
        "cmap = sns.color_palette(\"Accent\", n_colors=16) \n",
        "cmap = dict(zip(df['type'].values, cmap))\n",
        "plt.figure(figsize=(11, 5))\n",
        "plt.title('Distribution of Personality Types', fontsize=14)\n",
        "sns.barplot(data=tmp_data_16p_dis, x='type', y='freq.')\n",
        "plt.ylabel('')\n",
        "plt.xlabel('Type', fontweight='bold')\n",
        "plt.show()"
      ],
      "execution_count": 0,
      "outputs": [
        {
          "output_type": "display_data",
          "data": {
            "image/png": "[encoded data removed]",
            "text/plain": [
              "<Figure size 792x360 with 1 Axes>"
            ]
          },
          "metadata": {
            "tags": [],
            "needs_background": "light"
          }
        }
      ]
    },
    {
      "cell_type": "markdown",
      "metadata": {
        "id": "dmR8IlDp7ooR",
        "colab_type": "text"
      },
      "source": [
        "<b>Observation(s):<b> <br>\n",
        "*  Our dataset was suffering from class imbalance issue.\n",
        "*  Majority of the datapoints belongs to INFP, followed by INTJ.\n",
        "*  Among Extraverts, ENFP has the most number of datapoints."
      ]
    },
    {
      "cell_type": "code",
      "metadata": {
        "id": "T40-iWUq7ooR",
        "colab_type": "code",
        "colab": {}
      },
      "source": [
        "type_global_distrib = {'ISFJ': 13.8, 'ESFJ': 12.3, 'ISTJ': 11.6, 'ISFP': 8.8,\n",
        "                       'ESTJ': 8.7, 'ESFP': 8.5, 'ENFP': 8.1, 'ISTP': 5.4, \n",
        "                       'INFP': 4.4, 'ESTP': 4.3, 'INTP': 3.3, 'ENTP': 3.2, \n",
        "                       'ENFJ': 2.5, 'INTJ': 2.1, 'ENTJ': 1.8, 'INFJ': 1.5}\n",
        "\n",
        "# Creating a DataFrame for the Global Data Representation\n",
        "type_global_distrib_val = list(map(lambda x: x/100, type_global_distrib.values()))\n",
        "type_global_distrib_col = type_global_distrib.keys()\n",
        "global_type = pd.DataFrame([type_global_distrib_col, type_global_distrib_val]).T\n",
        "global_type.columns = ['type', 'freq.']\n",
        "global_type = global_type.sort_values(by='type')\n",
        "global_type['freq.'] = global_type['freq.'] * tmp_data_16p_dis['freq.'].sum()"
      ],
      "execution_count": 0,
      "outputs": []
    },
    {
      "cell_type": "markdown",
      "metadata": {
        "id": "UEY8JhG-7ooU",
        "colab_type": "text"
      },
      "source": [
        "### 3.1.2 Comparing our Dataset Distribution to the Global Data"
      ]
    },
    {
      "cell_type": "markdown",
      "metadata": {
        "id": "0olU-6mY7ooU",
        "colab_type": "text"
      },
      "source": [
        "Since MBTI itself is an active research area, there are lots of available resources of this domain that can be found on the internet. Because of that, we have a downloaded data of the Global Representation of 16 personality types that we can compare to our Dataset. \n",
        "\n",
        "> Credits: <a href=\"https://www.careerplanner.com/MB2/TypeInPopulation.cfm\">Career Planner</a>"
      ]
    },
    {
      "cell_type": "code",
      "metadata": {
        "id": "sSqg9yNV7ooU",
        "colab_type": "code",
        "outputId": "93352883-3875-4e0d-f584-cc4557582845",
        "colab": {
          "base_uri": "https://localhost:8080/",
          "height": 351
        }
      },
      "source": [
        "green_patch = mpatches.Patch(color='yellowgreen', label='Our Data', alpha=0.8)\n",
        "blue_patch = mpatches.Patch(color='royalblue', label='Global Representation', alpha=0.7)\n",
        "overlap_patch = mpatches.Patch(color='olivedrab', label='Overlapped', alpha=0.77)\n",
        "\n",
        "plt.figure(figsize=(11, 5))\n",
        "plt.title('MBTI Distribution Comparison', fontsize=14)\n",
        "sns.barplot(data=global_type, x='type', y='freq.', color='royalblue', alpha=0.8, label='Global Representation')\n",
        "sns.barplot(data=tmp_data_16p_dis, x='type', y='freq.', color='yellowgreen', alpha=0.7, label='Our Data')\n",
        "plt.legend(handles=[green_patch, blue_patch, overlap_patch])\n",
        "plt.xlabel('Type', fontweight='bold')\n",
        "plt.ylabel('')\n",
        "plt.show()"
      ],
      "execution_count": 0,
      "outputs": [
        {
          "output_type": "display_data",
          "data": {
            "image/png": "[encoded data removed]",
            "text/plain": [
              "<Figure size 792x360 with 1 Axes>"
            ]
          },
          "metadata": {
            "tags": [],
            "needs_background": "light"
          }
        }
      ]
    },
    {
      "cell_type": "markdown",
      "metadata": {
        "id": "zMjDyn-67ooa",
        "colab_type": "text"
      },
      "source": [
        "<b>Observation(s):<b>\n",
        "*  The distribution of our data does not follow the distribution of the global data representation.\n",
        "*  Lots of Intuitives was over represented in our dataset, especially introverts. I think this is because social media is their main medium for \"socializing\" and for reflecting their thoughts/opinion. \n",
        "*  In contrast, Sensors was less represented in our dataset. I think this is because of their Sensor nature which makes them busy in other things like physical/outdoor activities.    "
      ]
    },
    {
      "cell_type": "markdown",
      "metadata": {
        "id": "y_U-sM6I7ooa",
        "colab_type": "text"
      },
      "source": [
        "### 3.1.3 Slicing the Target Column"
      ]
    },
    {
      "cell_type": "markdown",
      "metadata": {
        "id": "CWyrm_LB7ooa",
        "colab_type": "text"
      },
      "source": [
        "Let us find out if using other representation of our target column will help us ease the class imbalance problem. ie. \n",
        "<br> Slicing the target variable into the 4 personality aspects namely: \n",
        "\n",
        "\n",
        "A.) Mind (Introvert or Extravert?)<br>\n",
        "B.) Energy (Sensing or Intuition?)<br>\n",
        "C.) Nature (Thinking or Feeling?)<br>\n",
        "D.) Tactics (Perception or Judging?)<br>\n",
        "\n",
        "\n",
        "If you haven't read the theory in the link provided at Section 1.1 (Sources/Useful Links), please do so to understand more about the aforementioned terminologies. In any case, let's see what the distribution looks like for these 4 types."
      ]
    },
    {
      "cell_type": "code",
      "metadata": {
        "scrolled": true,
        "id": "Mh2x5_QD7oob",
        "colab_type": "code",
        "colab": {}
      },
      "source": [
        "# Create a new column for each personality aspect\n",
        "df['I-E'] = df['type'].str.contains('I').astype(int)\n",
        "df['N-S'] = df['type'].str.contains('N').astype(int)\n",
        "df['T-F'] = df['type'].str.contains('T').astype(int)\n",
        "df['J-P'] = df['type'].str.contains('J').astype(int)"
      ],
      "execution_count": 0,
      "outputs": []
    },
    {
      "cell_type": "code",
      "metadata": {
        "id": "GvUkerPj7ood",
        "colab_type": "code",
        "outputId": "ad385180-fbc1-41ec-f783-822fc2533ff1",
        "colab": {
          "base_uri": "https://localhost:8080/",
          "height": 351
        }
      },
      "source": [
        "tmp_data1 = pd.DataFrame(df['I-E'].value_counts().reset_index().rename({'I-E': 'freq.'}, axis=1))\n",
        "tmp_data2 = pd.DataFrame(df['N-S'].value_counts().reset_index().rename({'N-S': 'freq.'}, axis=1))\n",
        "tmp_data3 = pd.DataFrame(df['T-F'].value_counts().reset_index().rename({'T-F': 'freq.'}, axis=1))\n",
        "tmp_data4 = pd.DataFrame(df['J-P'].value_counts().reset_index().rename({'J-P': 'freq.'}, axis=1))\n",
        "\n",
        "bar_width = 0.3\n",
        "spacer_ls = np.arange(0.1, stop=0.5, step=0.3)\n",
        "plt.figure(figsize=(10, 5))\n",
        "\n",
        "plt.title('Distribution of Types per MBTI Axis', fontsize=14, fontweight='bold')\n",
        "plt.bar(spacer_ls, tmp_data1['freq.'], color='#9ee09e', width=bar_width, edgecolor='white', label='var1')\n",
        "plt.bar(spacer_ls+0.8, tmp_data2['freq.'], color='#ffdfba', width=bar_width, edgecolor='white', label='var2')\n",
        "plt.bar(spacer_ls+1.6, tmp_data3['freq.'], color='#97a2ff', width=bar_width, edgecolor='white', label='var3')\n",
        "plt.bar(spacer_ls+2.4, tmp_data4['freq.'], color='#ffb3ba', width=bar_width, edgecolor='white', label='var4')\n",
        "\n",
        "plt.xlabel('Type', fontweight='bold')\n",
        "plt.xticks([spacer_ls[0], spacer_ls[1], (spacer_ls[0]+0.8), (spacer_ls[1]+0.8),\n",
        "            (spacer_ls[0]+1.6), (spacer_ls[1]+1.6), (spacer_ls[0]+2.4), (spacer_ls[1]+2.4)],\n",
        "           ['I', 'E', 'N', 'S', 'T', 'F', 'J', 'P'])\n",
        " \n",
        "plt.legend(['I-E', 'N-S', 'T-F',  'J-P'])\n",
        "plt.show()"
      ],
      "execution_count": 0,
      "outputs": [
        {
          "output_type": "display_data",
          "data": {
            "image/png": "[encoded data removed]",
            "text/plain": [
              "<Figure size 720x360 with 1 Axes>"
            ]
          },
          "metadata": {
            "tags": [],
            "needs_background": "light"
          }
        }
      ]
    },
    {
      "cell_type": "markdown",
      "metadata": {
        "id": "R2HzoQe97oof",
        "colab_type": "text"
      },
      "source": [
        "<b>Observation(s):<b><br>\n",
        "*  Although, the distribution for T-F axis and J-P axis is slightly different, the distribution for I-E axis and N-S axis is very different which demands our attention. We will fix this issue later, after the feature extraction stage.\n",
        "*  This is much better than the previous distribution of types. Before, we need to deal with 16 imbalanced classes, now, we only need to addressed 4 imbalanced binary classes."
      ]
    },
    {
      "cell_type": "markdown",
      "metadata": {
        "id": "sWfAsQ8D7oog",
        "colab_type": "text"
      },
      "source": [
        "### 3.1.4 Check the Correlation between the 4 types"
      ]
    },
    {
      "cell_type": "markdown",
      "metadata": {
        "id": "aqP9EZWg7oog",
        "colab_type": "text"
      },
      "source": [
        "We will check the correlation between the 4 major axes of MBTI before we can use it.\n",
        "Correlation in our independent variables can be a problem during the modeling phase because it will be difficult for our model to estimate the relationship between our dependent variables and independent variables, <i>independently</i>. \n",
        "<br>\n",
        "\n",
        "ie. As the probability of a person being an Introvert increases, the probability of him being a Thinker decreases. We can say that there is a negative correlation between the two variables, and it will be hard for our model to estimate how introvert a person is, versus how thinker a person is, <i>independently</i>."
      ]
    },
    {
      "cell_type": "code",
      "metadata": {
        "id": "FQwsHd8G7oog",
        "colab_type": "code",
        "outputId": "2dc76e21-c210-4ea8-ce23-bfe15e53444c",
        "colab": {
          "base_uri": "https://localhost:8080/",
          "height": 500
        }
      },
      "source": [
        "plt.figure(figsize=(10, 8))\n",
        "plt.title('Correlation Between the 4 Types', fontsize=14, fontweight='bold')\n",
        "corr = df[['I-E', 'N-S', 'T-F',  'J-P']].corr()\n",
        "sns.heatmap(data=corr, annot=True, linewidths=1, linecolor='black',\n",
        "            cmap=sns.light_palette(\"green\"))\n",
        "plt.show()"
      ],
      "execution_count": 0,
      "outputs": [
        {
          "output_type": "display_data",
          "data": {
            "image/png": "[encoded data removed]",
            "text/plain": [
              "<Figure size 720x576 with 2 Axes>"
            ]
          },
          "metadata": {
            "tags": [],
            "needs_background": "light"
          }
        }
      ]
    },
    {
      "cell_type": "markdown",
      "metadata": {
        "id": "2aVnFBkK7ooi",
        "colab_type": "text"
      },
      "source": [
        "<b>Observation(s):<b>\n",
        "*  The correlation between the 4 types is close to zero, which means there is a very little correlation between those variables, and that is good."
      ]
    },
    {
      "cell_type": "markdown",
      "metadata": {
        "id": "VNPIWsBi-Jhy",
        "colab_type": "text"
      },
      "source": [
        "### 3.1.5 Checking the Correlation between the 4 types v2"
      ]
    },
    {
      "cell_type": "markdown",
      "metadata": {
        "id": "QYV7iHog-TWv",
        "colab_type": "text"
      },
      "source": [
        "Just for the sake of my curiosity I will take a glimpse in the distribution of the cognitive functions that are assigned on each type.\n",
        "<br>\n",
        "<br>\n",
        "Cognitive Function is the derivative of the 4 personality aspects.Each personality type has their unique set of cognitive function, each of which is under the dominant, auxiliary, tertiary, or inferior function. \n",
        "<br>\n",
        "\n",
        "The list below are the possible values for each function:\n",
        "\n",
        "A.)  Ni- Perspective (of long range outcome or big picture vision)\n",
        "\n",
        "B.)  Ne-Exploration (of ideas)\n",
        "\n",
        "C.)  Ti-Accuracy (by pin pointing flaws/deep analysis)\n",
        "\n",
        "D.)  Te- Effectiveness (by organizing and planning tasks and getting them done)\n",
        "\n",
        "E.)  Si- Memory (of past sensory data or tradition)\n",
        "\n",
        "F.)  Se- Sensation (by absorbing immediate reality with 5 senses)\n",
        "\n",
        "G.)  Fi- Authenticity (based on personal values, ethics and sense of beauty)\n",
        "\n",
        "H.)  Fe- Harmony (by thinking about what is appropriate to say or do in a social setup which benefits almost everyone)\n",
        "\n",
        "> Credits: https://www.quora.com/What-is-each-MBTI-cognitive-function-good-for"
      ]
    },
    {
      "cell_type": "code",
      "metadata": {
        "id": "cGKpZMX91hcj",
        "colab_type": "code",
        "colab": {}
      },
      "source": [
        "x = '''INTP = Ti > Ne > Si > Fe\n",
        "ISTP = Ti > Se > Ni > Fe\n",
        "ENTP = Ne > Ti > Fe > Si\n",
        "ENFP = Ne > Fi > Te > Si\n",
        "ISFP = Fi > Se > Ni > Te\n",
        "INFP = Fi > Ne > Si > Te\n",
        "INTJ = Ni > Te > Fi > Se\n",
        "INFJ = Ni > Fe > Ti > Se\n",
        "ESTJ = Te > Si > Ne > Fi\n",
        "ENTJ = Te > Ni > Se > Fi\n",
        "ESFJ = Fe > Si > Ne > Ti\n",
        "ENFJ = Fe > Ni > Se > Ti\n",
        "ISTJ = Si > Te > Fi > Ne\n",
        "ISFJ = Si > Fe > Ti > Ne\n",
        "ESTP = Se > Ti > Fe > Ni\n",
        "ESFP = Se > Fi > Te > Ni'''\n",
        "\n",
        "type_json = {}\n",
        "function_order = ['dominant', 'auxiliary', 'tertiary', 'inferior']\n",
        "function_one_hot = {'ti': 1, 'ni': 1, 'si': 1, 'fi': 1,\n",
        "                    'te': 0, 'ne': 0, 'se': 0, 'fe': 0}\n",
        "for types in x.split('\\n'):\n",
        "  p_type = types.split('=')[0].strip()\n",
        "  functions = tuple(map(str.strip, types.split('=')[1].lower().split('>')))\n",
        "  type_json[p_type] = dict(zip(function_order, functions))\n",
        "\n",
        "def get_functions(t):\n",
        "  f_dict = type_json[t]\n",
        "  one_hot_vector = []\n",
        "  for i in function_order:\n",
        "    one_hot_mapper = f_dict[i]\n",
        "    one_hot_vector.append(function_one_hot[one_hot_mapper])\n",
        "  return pd.Series(list(f_dict.values()))\n",
        "\n",
        "df[['dominant', 'auxiliary', 'tertiary', 'inferior']] = df['type'].apply(get_functions)"
      ],
      "execution_count": 0,
      "outputs": []
    },
    {
      "cell_type": "code",
      "metadata": {
        "id": "cQTt6r2JDJFd",
        "colab_type": "code",
        "outputId": "3f684ec6-3269-45c6-cd33-0527b7430fc9",
        "colab": {
          "base_uri": "https://localhost:8080/",
          "height": 726
        }
      },
      "source": [
        "plt.close('all')\n",
        "\n",
        "fig, ax = plt.subplots(nrows=2, ncols=2, figsize=(15, 10), sharey=True)\n",
        "fig.suptitle('Distribution of Cognitive Functions', \n",
        "             fontsize=17, y=0.93, fontweight='bold')\n",
        "\n",
        "df['dominant'].value_counts().plot(kind='bar', ax=ax[0][0], color='tab:olive')\n",
        "df['auxiliary'].value_counts().plot(kind='bar', ax=ax[0][1], color='tab:gray')\n",
        "df['tertiary'].value_counts().plot(kind='bar', ax=ax[1][0], color='tab:blue')\n",
        "df['inferior'].value_counts().plot(kind='bar', ax=ax[1][1], color='tab:brown')\n",
        "\n",
        "ax[0][0].xaxis.set_tick_params(rotation=0)\n",
        "ax[0][1].xaxis.set_tick_params(rotation=0)\n",
        "ax[1][0].xaxis.set_tick_params(rotation=0)\n",
        "ax[1][1].xaxis.set_tick_params(rotation=0)\n",
        "\n",
        "fig.text(0.01, 0.5, 'Frequency', ha='center', va='center', rotation='vertical', fontsize=15)\n",
        "\n",
        "handles = []\n",
        "labels = []\n",
        "for a in ax:\n",
        "  for i in a:\n",
        "    h, l = i.get_legend_handles_labels()\n",
        "    handles.append(h[0])\n",
        "    labels.append(l[0])\n",
        "\n",
        "fig.legend(handles, labels, loc='upper right', fontsize=11)\n",
        "plt.subplots_adjust(left=0.07, bottom=0.05)\n",
        "fig.show()"
      ],
      "execution_count": 0,
      "outputs": [
        {
          "output_type": "display_data",
          "data": {
            "image/png": "[encoded data removed]",
            "text/plain": [
              "<Figure size 1080x720 with 4 Axes>"
            ]
          },
          "metadata": {
            "tags": [],
            "needs_background": "light"
          }
        }
      ]
    },
    {
      "cell_type": "code",
      "metadata": {
        "id": "rIsjQfNgUxiF",
        "colab_type": "code",
        "outputId": "1109ac15-5f0c-4a5e-d3e0-a96b2fc71514",
        "colab": {
          "base_uri": "https://localhost:8080/",
          "height": 85
        }
      },
      "source": [
        "print('Dominant Ni:', df[df['dominant'] == 'ni'].type.unique())\n",
        "print('Auxiliary Ne:', df[df['auxiliary'] == 'ne'].type.unique())\n",
        "print('Tertiary Si:', df[df['tertiary'] == 'si'].type.unique())\n",
        "print('Inferior Se:', df[df['inferior'] == 'se'].type.unique())"
      ],
      "execution_count": 0,
      "outputs": [
        {
          "output_type": "stream",
          "text": [
            "Dominant Ni: ['INTJ' 'INFJ']\n",
            "Auxiliary Ne: ['INFP' 'INTP']\n",
            "Tertiary Si: ['INFP' 'INTP']\n",
            "Inferior Se: ['INTJ' 'INFJ']\n"
          ],
          "name": "stdout"
        }
      ]
    },
    {
      "cell_type": "code",
      "metadata": {
        "id": "6CCw0jNlbFFF",
        "colab_type": "code",
        "colab": {}
      },
      "source": [
        "df = df.drop(columns='dominant\tauxiliary\ttertiary\tinferior'.split(), axis=1)"
      ],
      "execution_count": 0,
      "outputs": []
    },
    {
      "cell_type": "markdown",
      "metadata": {
        "id": "ex_Jz_WNO1BB",
        "colab_type": "text"
      },
      "source": [
        "Class imbalance is still present at this level of granularity. I will leave this for now and stick with the 4 personality aspects."
      ]
    },
    {
      "cell_type": "markdown",
      "metadata": {
        "id": "6e9mNzz6KJLn",
        "colab_type": "text"
      },
      "source": [
        "## 3.2 Data Preprocessing \n",
        "\n",
        "Before I proceed on the Analysis part, I will perform basic data cleanup first on our feature set. Basically, I will remove/replace some string that I do not need in my analysis. Later I will do further data preprocessing as the need arises."
      ]
    },
    {
      "cell_type": "code",
      "metadata": {
        "id": "Mt0BIj9sN1Dq",
        "colab_type": "code",
        "colab": {}
      },
      "source": [
        "def rep(text):\n",
        "    grp = text.group(0)\n",
        "    if len(grp) > 1:\n",
        "        return grp[0:1] # can change the value here on repetition\n",
        "\n",
        "def unique_char(rep, sentence):\n",
        "    convert = re.sub(r'(\\w)\\1+', rep, sentence) \n",
        "    return convert\n",
        "    \n",
        "def get_unique_char(string):\n",
        "  return unique_char(rep, string)\n",
        "\n",
        "def remove_alias(string):\n",
        "    return re.sub('\\*', ' ', string).strip()\n",
        "\n",
        "def remove_html_tags(string):\n",
        "    return re.sub('<.+?>', ' ', string).strip()\n",
        "\n",
        "def decontract_string(string):\n",
        "    # https://stackoverflow.com/a/47091490/4084039\n",
        "    # specific\n",
        "    phrase = re.sub(r\"won't\", \"will not\", string)\n",
        "    phrase = re.sub(r\"can\\'t\", \"can not\", phrase)\n",
        "    phrase = re.sub(r\"thx\", \" thanks\", phrase)\n",
        "    phrase = re.sub(r\"thnx\", \" thanks\", phrase)\n",
        "    return phrase.strip()\n",
        "  \n",
        "def remove_multi_whitespace(string):\n",
        "  return re.sub(r'\\s+', ' ', string).strip()\n",
        "\n",
        "def replace_emoji(samp):\n",
        "    samp = samp.lower()\n",
        "    samp = samp.replace(r':)', '[smile-emoji]')\n",
        "    samp = samp.replace(r'◠‿◠✿', '[smile-emoji]')\n",
        "    samp = samp.replace(r':p', '[tongue-out-emoji]')\n",
        "    samp = samp.replace(r':d', '[big-smile-emoji]')\n",
        "    samp = samp.replace(r':(', '[sad-emoji]')\n",
        "    samp = samp.replace(r'^_^', '[smile-emoji]')\n",
        "    return samp.strip()\n",
        "\n",
        "def replace_url(string):\n",
        "  return re.sub('http[s]?://(?:[a-zA-Z]|[0-9]|[$-_@.&+]|[!*\\(\\),]|(?:%[0-9a-fA-F][0-9a-fA-F]))+', '[url]', string)\n",
        "\n",
        "def remove_special_char(string):\n",
        "  return re.sub('[^a-zA-Z0-9\\n]', ' ', string)\n",
        "\n",
        "def remove_stopwords(string):\n",
        "  return ' '.join([i for i in string.split() if i.lower() not in stopwords])\n",
        "\n",
        "def replace_quot(string):\n",
        "  return string.replace('&quot;', ' ')\n",
        "\n",
        "def preprocess_before_feature_engineering(string):\n",
        "  string = remove_html_tags(string)\n",
        "  string = decontract_string(string)\n",
        "  string = remove_multi_whitespace(string)\n",
        "  return string\n",
        "\n",
        "def preprocess_after_feature_engineering(string):\n",
        "  string = string.lower()\n",
        "  string = replace_emoji(string)\n",
        "  string = replace_url(string)\n",
        "  string = remove_alias(string)\n",
        "  string = replace_quot(string)\n",
        "  string = remove_special_char(string)\n",
        "  string = remove_stopwords(string)\n",
        "  return string"
      ],
      "execution_count": 0,
      "outputs": []
    },
    {
      "cell_type": "code",
      "metadata": {
        "id": "tpWIYYq5KnHC",
        "colab_type": "code",
        "colab": {}
      },
      "source": [
        "from tqdm import tqdm\n",
        "tqdm.pandas()\n",
        "df['comment'] = df['comment'].progress_apply(preprocess_before_feature_engineering)\n",
        "df = df[df['comment'].str.len() > 1]"
      ],
      "execution_count": 0,
      "outputs": []
    },
    {
      "cell_type": "markdown",
      "metadata": {
        "id": "-QDfzULuV-Aa",
        "colab_type": "text"
      },
      "source": [
        "<b>DataFrame after preprocessing</b>"
      ]
    },
    {
      "cell_type": "code",
      "metadata": {
        "id": "qHTDxLvBUnHQ",
        "colab_type": "code",
        "outputId": "47f2db3f-df4f-4611-827a-a839f8de5443",
        "colab": {
          "base_uri": "https://localhost:8080/",
          "height": 204
        }
      },
      "source": [
        "df.head()"
      ],
      "execution_count": 202,
      "outputs": [
        {
          "output_type": "execute_result",
          "data": {
            "text/html": [
              "<div>\n",
              "<style scoped>\n",
              "    .dataframe tbody tr th:only-of-type {\n",
              "        vertical-align: middle;\n",
              "    }\n",
              "\n",
              "    .dataframe tbody tr th {\n",
              "        vertical-align: top;\n",
              "    }\n",
              "\n",
              "    .dataframe thead th {\n",
              "        text-align: right;\n",
              "    }\n",
              "</style>\n",
              "<table border=\"1\" class=\"dataframe\">\n",
              "  <thead>\n",
              "    <tr style=\"text-align: right;\">\n",
              "      <th></th>\n",
              "      <th>type</th>\n",
              "      <th>comment</th>\n",
              "      <th>I-E</th>\n",
              "      <th>N-S</th>\n",
              "      <th>T-F</th>\n",
              "      <th>J-P</th>\n",
              "    </tr>\n",
              "  </thead>\n",
              "  <tbody>\n",
              "    <tr>\n",
              "      <th>0</th>\n",
              "      <td>ESFP</td>\n",
              "      <td>The secretive guy wrote: There's a thread just...</td>\n",
              "      <td>0</td>\n",
              "      <td>0</td>\n",
              "      <td>0</td>\n",
              "      <td>0</td>\n",
              "    </tr>\n",
              "    <tr>\n",
              "      <th>1</th>\n",
              "      <td>INFP</td>\n",
              "      <td>I wanna write a little story; because reading ...</td>\n",
              "      <td>1</td>\n",
              "      <td>1</td>\n",
              "      <td>0</td>\n",
              "      <td>0</td>\n",
              "    </tr>\n",
              "    <tr>\n",
              "      <th>2</th>\n",
              "      <td>INTP</td>\n",
              "      <td>caly, goddess of love wrote: my friend is gonn...</td>\n",
              "      <td>1</td>\n",
              "      <td>1</td>\n",
              "      <td>1</td>\n",
              "      <td>0</td>\n",
              "    </tr>\n",
              "    <tr>\n",
              "      <th>3</th>\n",
              "      <td>INFP</td>\n",
              "      <td>I would focus on myself, and continue to be fr...</td>\n",
              "      <td>1</td>\n",
              "      <td>1</td>\n",
              "      <td>0</td>\n",
              "      <td>0</td>\n",
              "    </tr>\n",
              "    <tr>\n",
              "      <th>4</th>\n",
              "      <td>INTJ</td>\n",
              "      <td>There are an equal number of pros and cons, to...</td>\n",
              "      <td>1</td>\n",
              "      <td>1</td>\n",
              "      <td>1</td>\n",
              "      <td>1</td>\n",
              "    </tr>\n",
              "  </tbody>\n",
              "</table>\n",
              "</div>"
            ],
            "text/plain": [
              "   type                                            comment  I-E  N-S  T-F  J-P\n",
              "0  ESFP  The secretive guy wrote: There's a thread just...    0    0    0    0\n",
              "1  INFP  I wanna write a little story; because reading ...    1    1    0    0\n",
              "2  INTP  caly, goddess of love wrote: my friend is gonn...    1    1    1    0\n",
              "3  INFP  I would focus on myself, and continue to be fr...    1    1    0    0\n",
              "4  INTJ  There are an equal number of pros and cons, to...    1    1    1    1"
            ]
          },
          "metadata": {
            "tags": []
          },
          "execution_count": 202
        }
      ]
    },
    {
      "cell_type": "code",
      "metadata": {
        "id": "vteDuPuFQvLF",
        "colab_type": "code",
        "outputId": "dcb9aaff-53fc-4727-c961-9e5d13e1662a",
        "colab": {
          "base_uri": "https://localhost:8080/",
          "height": 122
        }
      },
      "source": [
        "print('PREPROCESSED TEXT #1:', df['comment'].sample(1).iloc[0])\n",
        "print()\n",
        "print('PREPROCESSED TEXT #2:', df['comment'].sample(1).iloc[0])\n",
        "print()\n",
        "print('PREPROCESSED TEXT #3:', df['comment'].sample(1).iloc[0])"
      ],
      "execution_count": 158,
      "outputs": [
        {
          "output_type": "stream",
          "text": [
            "PREPROCESSED TEXT #1: I feel exactly the same way. It's definitely an inconvenient preference to have at times, but I think it's worth it. Being part of a relaxed, hilarious and generally judgement-free group of friends has been an experience that I wouldn't take back (even if it gets a little complex sometimes). It's super great to know that there's someone else out there in a similar situation. I haven't let gender or the opinions of outsiders get in the way of making good friends as of yet, and I hope you manage to do the same :)\n",
            "\n",
            "PREPROCESSED TEXT #2: So I married really young to an ESFJ. At 21 to my one and only real boyfriend ever. I recently found out that I am in a relationship of benefit according to socionics and it fits my marriage description well. I am the beneficiary and I don't like it because I feel like my husband doesn't really understand me for who I am inside. He doesn't like the same things I like to talk about and it feels like he undervalues me. Although he tells me he is very happy and would not change a thing and feels very lucky to have me. He is a great husband in so many ways. He does a lot of the things I don't like to do like taking care of all the paperwork and maintenance items in life which is a nice perk for an ENFP. He also wants me to be happy and is extremely generous with me monetarily etc. I am really longing for someone that is more physically affectionate though. As well as someone that gets me more and can appreciate my goofy side and my intuitiveness. My mental image for our relationship is that I am a balloon filled with helium and he walks around holding my string. He does ground me and I wonder what would happen if we weren't together. I don't know if I always like being grounded although I can see the benefit. We've been together 13 years and married almost 10 of those. I love him but I can not stop feeling this way. Any other ENFP's feeling bored, restless or unfulfilled in their marriages? Im afraid it might be part of being an idealist.|||Don't let fear stand in your way. If you are fearful to do something you truly want to do then you MUST do it. Soon the thing you feared will seem like nothing and you grow and realize your potential much faster.|||I don't think of myself as easily offended but I think I can attribute that to the family I was raised in. Also I typically think that what people say about me or anyone has more to do with them than with me generally speaking.\n",
            "\n",
            "PREPROCESSED TEXT #3: Maybe she just felt it was awkward, or was too embarrassed to reveal her true thoughts, but I hugged an ISFJ once, and asked her about it later. She said she didn't really like hugs.|||So I've noticed that my ISFJ friend tends to get stressed a lot, which is understandable from their usually packed schedule. They usually try to do way too much at once, and it ends up overwhelming them. It's not fun dealing with stressed people, so how do you guys usually handle stress, and what usually helps relieve some of that stress? I wanna try and help them relax more.. :)|||Yup, testing time.. plus all the school work, work, and other things she's involved in doesn't make it much better.. <_< It sounds like there's not much I can do, other than be patient. Haha.|||Thanks, that sounds spot on! I need to think of something to do for her...|||You know, that's funny because that's exactly how I feel whenever I'm trying to \"debate\" some important issue with my ISFJ friend... It's like no matter what I say, it will not change her mind and she'll find some way to avert the issue and make sure her point is right.|||This post is so much win.|||There's already another older thread in the ENFJ forum, but I guess 'cause there aren't as many ENFJ's around, it doesn't get much love :( I was wondering what you guys thought of an ISFJ/ENFJ compatibility. More specifically, how does an ENFJ male go about woo-ing an ISFJ female? The stuff I've read seem to agree that I need to be patient and take it slow. Arrgghh, that is going to be so difficult for me at this point. Also, she's super busy all the time with her schedule.. with work, school, random other things she does without me . My ENFJ desire to socialize with her and take her out to places is getting killed by her schedule! Any advice would be much appreciated.|||Well I'm a 2 type... I'm not sure about her, though. Probably a 6ish, maybe. And thanks at least for trying. XD|||Puns and wordplay for sure. As HandiAce has already shown us.. :D|||100% agree with you there. Especially the \"very mild cultural trolling.\" Me and my ISFJ friend always joke about sexism and racism things (since I'm asian, and she's a female...), but it's always light-hearted, never serious (which is redundant, I know, since they're jokes )|||My ISFJ friend does this ALL the time. They remember the randomest things.. and can not recall anything else. Like a random scene from a movie which they don't even remember the title to.\n"
          ],
          "name": "stdout"
        }
      ]
    },
    {
      "cell_type": "markdown",
      "metadata": {
        "id": "U2as779jRHDM",
        "colab_type": "text"
      },
      "source": [
        "As you can see, there are remaining special characters like dots, parenthesis, quotes, etc. This is okay for now, we will deal with those characters later."
      ]
    },
    {
      "cell_type": "markdown",
      "metadata": {
        "id": "7EVJUPoe7ooj",
        "colab_type": "text"
      },
      "source": [
        "## 3.3 Feature Analysis and Design"
      ]
    },
    {
      "cell_type": "markdown",
      "metadata": {
        "id": "MK-K2rzSLwSW",
        "colab_type": "text"
      },
      "source": [
        "### 3.3.1 Feature Design"
      ]
    },
    {
      "cell_type": "code",
      "metadata": {
        "id": "dHTy3bGZ5kbA",
        "colab_type": "code",
        "colab": {}
      },
      "source": [
        "def count_all_upper(string):\n",
        "  total_ls = []\n",
        "  for word in string.split():\n",
        "    total_ls.append(int(bool(re.match(r'[A-Z]+$', word))))\n",
        "  return sum(total_ls)\n",
        "\n",
        "def count_with_upper(text):\n",
        "    line = re.findall(r'\\b[A-Z]\\w+', text)\n",
        "    return len(line)\n",
        "\n",
        "def count_punct(text):\n",
        "    line = re.findall(r'[!\"\\$%&\\'()*+,\\-.\\/:;=#@?\\[\\\\\\]^_`{|}~]*', text)\n",
        "    string=\"\".join(line)\n",
        "    return len((string))\n",
        "\n",
        "def count_emoji(string):\n",
        "  return len([i for i in string.split() if i in emojis.keys()])\n",
        "\n",
        "def count_word_aliasing(string):\n",
        "  return len(re.findall('\\*(.+?)\\*', string))\n",
        "\n",
        "def count_word_quoting(string):\n",
        "  string = string.replace('&quot;', '\"')\n",
        "  quotes = len(re.findall('\\\"(.+?)\\\"', string))\n",
        "  return quotes\n",
        "\n",
        "def count_post(string):\n",
        "  return len(string.split('|||'))\n",
        "\n",
        "def count_word(string):\n",
        "  return len(string.replace('|||', ' ').split())\n",
        "\n",
        "def count_character(string):\n",
        "  return len(string.replace('|||', ' '))\n",
        "\n",
        "def count_numbers(string):\n",
        "    line = re.findall(r'[0-9]+', string)\n",
        "    return len(line)"
      ],
      "execution_count": 0,
      "outputs": []
    },
    {
      "cell_type": "code",
      "metadata": {
        "id": "0R7xWeHjefwg",
        "colab_type": "code",
        "colab": {}
      },
      "source": [
        "df['post_count'] = df['comment'].apply(count_post)\n",
        "df['word_count'] = df['comment'].apply(count_word)\n",
        "df['character_count'] = df['comment'].apply(count_character)\n",
        "df['title_case_count'] = df['comment'].apply(count_with_upper)\n",
        "df['caps_count'] = df['comment'].apply(count_all_upper)\n",
        "df['punct_count'] = df['comment'].apply(count_punct)\n",
        "df['emoji_count'] = df['comment'].apply(count_emoji)\n",
        "df['alias_count'] = df['comment'].apply(count_word_aliasing)\n",
        "df['quoted_words_count'] = df['comment'].apply(count_word_quoting)\n",
        "df['digit_count'] = df['comment'].apply(count_numbers)\n",
        "\n",
        "df['words_per_post'] = df['word_count'] / df['post_count']\n",
        "df['characters_per_post'] = df['character_count'] / df['post_count']\n",
        "df['title_case_per_post'] = df['title_case_count'] / df['post_count']\n",
        "df['caps_per_post'] = df['caps_count'] / df['post_count']\n",
        "df['puncts_per_post'] = df['punct_count'] / df['post_count']\n",
        "df['emoji_per_post'] = df['emoji_count'] / df['post_count']\n",
        "df['alias_per_post'] = df['alias_count'] / df['post_count']\n",
        "df['quoted_words_per_post'] = df['quoted_words_count'] / df['post_count']\n",
        "df['digit_count_per_post'] = df['digit_count'] / df['post_count']"
      ],
      "execution_count": 0,
      "outputs": []
    },
    {
      "cell_type": "markdown",
      "metadata": {
        "id": "UdhDOrH1q5RQ",
        "colab_type": "text"
      },
      "source": [
        "<b> Our Data after adding features </b>"
      ]
    },
    {
      "cell_type": "code",
      "metadata": {
        "id": "P3zRkWrwpLUr",
        "colab_type": "code",
        "outputId": "7be68aed-c66e-464c-8e00-ccc1c641e1c7",
        "colab": {
          "base_uri": "https://localhost:8080/",
          "height": 751
        }
      },
      "source": [
        "df.head()"
      ],
      "execution_count": 206,
      "outputs": [
        {
          "output_type": "execute_result",
          "data": {
            "text/html": [
              "<div>\n",
              "<style scoped>\n",
              "    .dataframe tbody tr th:only-of-type {\n",
              "        vertical-align: middle;\n",
              "    }\n",
              "\n",
              "    .dataframe tbody tr th {\n",
              "        vertical-align: top;\n",
              "    }\n",
              "\n",
              "    .dataframe thead th {\n",
              "        text-align: right;\n",
              "    }\n",
              "</style>\n",
              "<table border=\"1\" class=\"dataframe\">\n",
              "  <thead>\n",
              "    <tr style=\"text-align: right;\">\n",
              "      <th></th>\n",
              "      <th>type</th>\n",
              "      <th>comment</th>\n",
              "      <th>I-E</th>\n",
              "      <th>N-S</th>\n",
              "      <th>T-F</th>\n",
              "      <th>J-P</th>\n",
              "      <th>post_count</th>\n",
              "      <th>word_count</th>\n",
              "      <th>character_count</th>\n",
              "      <th>title_case_count</th>\n",
              "      <th>caps_count</th>\n",
              "      <th>punct_count</th>\n",
              "      <th>emoji_count</th>\n",
              "      <th>alias_count</th>\n",
              "      <th>quoted_words_count</th>\n",
              "      <th>digit_count</th>\n",
              "      <th>words_per_post</th>\n",
              "      <th>characters_per_post</th>\n",
              "      <th>title_case_per_post</th>\n",
              "      <th>caps_per_post</th>\n",
              "      <th>puncts_per_post</th>\n",
              "      <th>emoji_per_post</th>\n",
              "      <th>alias_per_post</th>\n",
              "      <th>quoted_words_per_post</th>\n",
              "      <th>digit_count_per_post</th>\n",
              "    </tr>\n",
              "  </thead>\n",
              "  <tbody>\n",
              "    <tr>\n",
              "      <th>0</th>\n",
              "      <td>ESFP</td>\n",
              "      <td>The secretive guy wrote: There's a thread just...</td>\n",
              "      <td>0</td>\n",
              "      <td>0</td>\n",
              "      <td>0</td>\n",
              "      <td>0</td>\n",
              "      <td>1</td>\n",
              "      <td>21</td>\n",
              "      <td>122</td>\n",
              "      <td>6</td>\n",
              "      <td>0</td>\n",
              "      <td>5</td>\n",
              "      <td>0</td>\n",
              "      <td>0</td>\n",
              "      <td>0</td>\n",
              "      <td>0</td>\n",
              "      <td>21.000000</td>\n",
              "      <td>122.000000</td>\n",
              "      <td>6.000000</td>\n",
              "      <td>0.000000</td>\n",
              "      <td>5.000000</td>\n",
              "      <td>0.0</td>\n",
              "      <td>0.0</td>\n",
              "      <td>0.000000</td>\n",
              "      <td>0.000000</td>\n",
              "    </tr>\n",
              "    <tr>\n",
              "      <th>1</th>\n",
              "      <td>INFP</td>\n",
              "      <td>I wanna write a little story; because reading ...</td>\n",
              "      <td>1</td>\n",
              "      <td>1</td>\n",
              "      <td>0</td>\n",
              "      <td>0</td>\n",
              "      <td>2</td>\n",
              "      <td>475</td>\n",
              "      <td>2625</td>\n",
              "      <td>49</td>\n",
              "      <td>9</td>\n",
              "      <td>92</td>\n",
              "      <td>0</td>\n",
              "      <td>0</td>\n",
              "      <td>2</td>\n",
              "      <td>1</td>\n",
              "      <td>237.500000</td>\n",
              "      <td>1312.500000</td>\n",
              "      <td>24.500000</td>\n",
              "      <td>4.500000</td>\n",
              "      <td>46.000000</td>\n",
              "      <td>0.0</td>\n",
              "      <td>0.0</td>\n",
              "      <td>1.000000</td>\n",
              "      <td>0.500000</td>\n",
              "    </tr>\n",
              "    <tr>\n",
              "      <th>2</th>\n",
              "      <td>INTP</td>\n",
              "      <td>caly, goddess of love wrote: my friend is gonn...</td>\n",
              "      <td>1</td>\n",
              "      <td>1</td>\n",
              "      <td>1</td>\n",
              "      <td>0</td>\n",
              "      <td>1</td>\n",
              "      <td>18</td>\n",
              "      <td>100</td>\n",
              "      <td>4</td>\n",
              "      <td>0</td>\n",
              "      <td>8</td>\n",
              "      <td>0</td>\n",
              "      <td>0</td>\n",
              "      <td>0</td>\n",
              "      <td>0</td>\n",
              "      <td>18.000000</td>\n",
              "      <td>100.000000</td>\n",
              "      <td>4.000000</td>\n",
              "      <td>0.000000</td>\n",
              "      <td>8.000000</td>\n",
              "      <td>0.0</td>\n",
              "      <td>0.0</td>\n",
              "      <td>0.000000</td>\n",
              "      <td>0.000000</td>\n",
              "    </tr>\n",
              "    <tr>\n",
              "      <th>3</th>\n",
              "      <td>INFP</td>\n",
              "      <td>I would focus on myself, and continue to be fr...</td>\n",
              "      <td>1</td>\n",
              "      <td>1</td>\n",
              "      <td>0</td>\n",
              "      <td>0</td>\n",
              "      <td>22</td>\n",
              "      <td>1678</td>\n",
              "      <td>9030</td>\n",
              "      <td>93</td>\n",
              "      <td>48</td>\n",
              "      <td>256</td>\n",
              "      <td>0</td>\n",
              "      <td>0</td>\n",
              "      <td>2</td>\n",
              "      <td>35</td>\n",
              "      <td>76.272727</td>\n",
              "      <td>410.454545</td>\n",
              "      <td>4.227273</td>\n",
              "      <td>2.181818</td>\n",
              "      <td>11.636364</td>\n",
              "      <td>0.0</td>\n",
              "      <td>0.0</td>\n",
              "      <td>0.090909</td>\n",
              "      <td>1.590909</td>\n",
              "    </tr>\n",
              "    <tr>\n",
              "      <th>4</th>\n",
              "      <td>INTJ</td>\n",
              "      <td>There are an equal number of pros and cons, to...</td>\n",
              "      <td>1</td>\n",
              "      <td>1</td>\n",
              "      <td>1</td>\n",
              "      <td>1</td>\n",
              "      <td>5</td>\n",
              "      <td>409</td>\n",
              "      <td>2507</td>\n",
              "      <td>43</td>\n",
              "      <td>5</td>\n",
              "      <td>79</td>\n",
              "      <td>0</td>\n",
              "      <td>0</td>\n",
              "      <td>0</td>\n",
              "      <td>1</td>\n",
              "      <td>81.800000</td>\n",
              "      <td>501.400000</td>\n",
              "      <td>8.600000</td>\n",
              "      <td>1.000000</td>\n",
              "      <td>15.800000</td>\n",
              "      <td>0.0</td>\n",
              "      <td>0.0</td>\n",
              "      <td>0.000000</td>\n",
              "      <td>0.200000</td>\n",
              "    </tr>\n",
              "  </tbody>\n",
              "</table>\n",
              "</div>"
            ],
            "text/plain": [
              "   type  ... digit_count_per_post\n",
              "0  ESFP  ...             0.000000\n",
              "1  INFP  ...             0.500000\n",
              "2  INTP  ...             0.000000\n",
              "3  INFP  ...             1.590909\n",
              "4  INTJ  ...             0.200000\n",
              "\n",
              "[5 rows x 25 columns]"
            ]
          },
          "metadata": {
            "tags": []
          },
          "execution_count": 206
        }
      ]
    },
    {
      "cell_type": "code",
      "metadata": {
        "id": "zT70Iki50fJP",
        "colab_type": "code",
        "outputId": "d26bb74a-2a3e-4c55-a9ac-450159e0cc4e",
        "colab": {
          "base_uri": "https://localhost:8080/",
          "height": 317
        }
      },
      "source": [
        "df.drop('I-E N-S T-F J-P'.split(), axis=1).describe()"
      ],
      "execution_count": 0,
      "outputs": [
        {
          "output_type": "execute_result",
          "data": {
            "text/html": [
              "<div>\n",
              "<style scoped>\n",
              "    .dataframe tbody tr th:only-of-type {\n",
              "        vertical-align: middle;\n",
              "    }\n",
              "\n",
              "    .dataframe tbody tr th {\n",
              "        vertical-align: top;\n",
              "    }\n",
              "\n",
              "    .dataframe thead th {\n",
              "        text-align: right;\n",
              "    }\n",
              "</style>\n",
              "<table border=\"1\" class=\"dataframe\">\n",
              "  <thead>\n",
              "    <tr style=\"text-align: right;\">\n",
              "      <th></th>\n",
              "      <th>post_count</th>\n",
              "      <th>word_count</th>\n",
              "      <th>character_count</th>\n",
              "      <th>title_case_count</th>\n",
              "      <th>caps_count</th>\n",
              "      <th>punct_count</th>\n",
              "      <th>emoji_count</th>\n",
              "      <th>alias_count</th>\n",
              "      <th>quoted_words_count</th>\n",
              "      <th>words_per_post</th>\n",
              "      <th>characters_per_post</th>\n",
              "      <th>title_case_per_post</th>\n",
              "      <th>caps_per_post</th>\n",
              "      <th>puncts_per_post</th>\n",
              "      <th>emoji_per_post</th>\n",
              "      <th>alias_per_post</th>\n",
              "      <th>quoted_words_per_post</th>\n",
              "    </tr>\n",
              "  </thead>\n",
              "  <tbody>\n",
              "    <tr>\n",
              "      <th>count</th>\n",
              "      <td>39040.000000</td>\n",
              "      <td>3.904000e+04</td>\n",
              "      <td>3.904000e+04</td>\n",
              "      <td>39040.000000</td>\n",
              "      <td>39040.00000</td>\n",
              "      <td>39040.000000</td>\n",
              "      <td>39040.000000</td>\n",
              "      <td>39040.000000</td>\n",
              "      <td>39040.000000</td>\n",
              "      <td>39040.000000</td>\n",
              "      <td>39040.000000</td>\n",
              "      <td>39040.000000</td>\n",
              "      <td>39040.000000</td>\n",
              "      <td>39040.000000</td>\n",
              "      <td>39040.000000</td>\n",
              "      <td>39040.000000</td>\n",
              "      <td>39040.000000</td>\n",
              "    </tr>\n",
              "    <tr>\n",
              "      <th>mean</th>\n",
              "      <td>41.991983</td>\n",
              "      <td>4.110013e+03</td>\n",
              "      <td>2.211100e+04</td>\n",
              "      <td>454.710476</td>\n",
              "      <td>159.28750</td>\n",
              "      <td>1026.266803</td>\n",
              "      <td>0.000564</td>\n",
              "      <td>5.652818</td>\n",
              "      <td>36.393212</td>\n",
              "      <td>97.458727</td>\n",
              "      <td>510.177459</td>\n",
              "      <td>7.407179</td>\n",
              "      <td>4.666847</td>\n",
              "      <td>17.080150</td>\n",
              "      <td>0.000053</td>\n",
              "      <td>0.038125</td>\n",
              "      <td>0.348501</td>\n",
              "    </tr>\n",
              "    <tr>\n",
              "      <th>std</th>\n",
              "      <td>341.936052</td>\n",
              "      <td>3.950901e+04</td>\n",
              "      <td>2.193216e+05</td>\n",
              "      <td>5871.930476</td>\n",
              "      <td>1271.80568</td>\n",
              "      <td>12366.376283</td>\n",
              "      <td>0.026775</td>\n",
              "      <td>87.678182</td>\n",
              "      <td>675.971250</td>\n",
              "      <td>118.179593</td>\n",
              "      <td>619.345112</td>\n",
              "      <td>8.980005</td>\n",
              "      <td>6.421117</td>\n",
              "      <td>19.018762</td>\n",
              "      <td>0.004510</td>\n",
              "      <td>0.340885</td>\n",
              "      <td>0.905734</td>\n",
              "    </tr>\n",
              "    <tr>\n",
              "      <th>min</th>\n",
              "      <td>1.000000</td>\n",
              "      <td>1.000000e+00</td>\n",
              "      <td>2.000000e+00</td>\n",
              "      <td>0.000000</td>\n",
              "      <td>0.00000</td>\n",
              "      <td>0.000000</td>\n",
              "      <td>0.000000</td>\n",
              "      <td>0.000000</td>\n",
              "      <td>0.000000</td>\n",
              "      <td>1.000000</td>\n",
              "      <td>2.000000</td>\n",
              "      <td>0.000000</td>\n",
              "      <td>0.000000</td>\n",
              "      <td>0.000000</td>\n",
              "      <td>0.000000</td>\n",
              "      <td>0.000000</td>\n",
              "      <td>0.000000</td>\n",
              "    </tr>\n",
              "    <tr>\n",
              "      <th>25%</th>\n",
              "      <td>1.000000</td>\n",
              "      <td>6.100000e+01</td>\n",
              "      <td>3.180000e+02</td>\n",
              "      <td>5.000000</td>\n",
              "      <td>2.00000</td>\n",
              "      <td>11.000000</td>\n",
              "      <td>0.000000</td>\n",
              "      <td>0.000000</td>\n",
              "      <td>0.000000</td>\n",
              "      <td>32.500000</td>\n",
              "      <td>169.494565</td>\n",
              "      <td>2.600000</td>\n",
              "      <td>1.000000</td>\n",
              "      <td>6.767371</td>\n",
              "      <td>0.000000</td>\n",
              "      <td>0.000000</td>\n",
              "      <td>0.000000</td>\n",
              "    </tr>\n",
              "    <tr>\n",
              "      <th>50%</th>\n",
              "      <td>3.000000</td>\n",
              "      <td>2.460000e+02</td>\n",
              "      <td>1.286500e+03</td>\n",
              "      <td>18.000000</td>\n",
              "      <td>11.00000</td>\n",
              "      <td>46.000000</td>\n",
              "      <td>0.000000</td>\n",
              "      <td>0.000000</td>\n",
              "      <td>0.000000</td>\n",
              "      <td>66.302174</td>\n",
              "      <td>346.808854</td>\n",
              "      <td>5.000000</td>\n",
              "      <td>3.000000</td>\n",
              "      <td>12.750000</td>\n",
              "      <td>0.000000</td>\n",
              "      <td>0.000000</td>\n",
              "      <td>0.000000</td>\n",
              "    </tr>\n",
              "    <tr>\n",
              "      <th>75%</th>\n",
              "      <td>11.000000</td>\n",
              "      <td>1.076000e+03</td>\n",
              "      <td>5.608250e+03</td>\n",
              "      <td>81.000000</td>\n",
              "      <td>50.00000</td>\n",
              "      <td>204.000000</td>\n",
              "      <td>0.000000</td>\n",
              "      <td>0.000000</td>\n",
              "      <td>3.000000</td>\n",
              "      <td>121.000000</td>\n",
              "      <td>633.187626</td>\n",
              "      <td>9.000000</td>\n",
              "      <td>6.000000</td>\n",
              "      <td>21.250000</td>\n",
              "      <td>0.000000</td>\n",
              "      <td>0.000000</td>\n",
              "      <td>0.391304</td>\n",
              "    </tr>\n",
              "    <tr>\n",
              "      <th>max</th>\n",
              "      <td>19096.000000</td>\n",
              "      <td>2.718403e+06</td>\n",
              "      <td>1.517363e+07</td>\n",
              "      <td>417010.000000</td>\n",
              "      <td>94243.00000</td>\n",
              "      <td>933406.000000</td>\n",
              "      <td>2.000000</td>\n",
              "      <td>5216.000000</td>\n",
              "      <td>48750.000000</td>\n",
              "      <td>3075.000000</td>\n",
              "      <td>15982.000000</td>\n",
              "      <td>233.000000</td>\n",
              "      <td>152.000000</td>\n",
              "      <td>610.000000</td>\n",
              "      <td>0.500000</td>\n",
              "      <td>39.500000</td>\n",
              "      <td>71.500000</td>\n",
              "    </tr>\n",
              "  </tbody>\n",
              "</table>\n",
              "</div>"
            ],
            "text/plain": [
              "         post_count    word_count  ...  alias_per_post  quoted_words_per_post\n",
              "count  39040.000000  3.904000e+04  ...    39040.000000           39040.000000\n",
              "mean      41.991983  4.110013e+03  ...        0.038125               0.348501\n",
              "std      341.936052  3.950901e+04  ...        0.340885               0.905734\n",
              "min        1.000000  1.000000e+00  ...        0.000000               0.000000\n",
              "25%        1.000000  6.100000e+01  ...        0.000000               0.000000\n",
              "50%        3.000000  2.460000e+02  ...        0.000000               0.000000\n",
              "75%       11.000000  1.076000e+03  ...        0.000000               0.391304\n",
              "max    19096.000000  2.718403e+06  ...       39.500000              71.500000\n",
              "\n",
              "[8 rows x 17 columns]"
            ]
          },
          "metadata": {
            "tags": []
          },
          "execution_count": 284
        }
      ]
    },
    {
      "cell_type": "code",
      "metadata": {
        "id": "XwlLjl88b2Ha",
        "colab_type": "code",
        "colab": {}
      },
      "source": [
        "df.to_csv(OUTPUT_DIR + 'df_with_meta_features.csv', index=False)"
      ],
      "execution_count": 0,
      "outputs": []
    },
    {
      "cell_type": "markdown",
      "metadata": {
        "id": "KoJ8lM9c7ook",
        "colab_type": "text"
      },
      "source": [
        "### 3.3.2 Univariate Analysis"
      ]
    },
    {
      "cell_type": "code",
      "metadata": {
        "id": "UnlGj1g5qZ03",
        "colab_type": "code",
        "colab": {}
      },
      "source": [
        "sns.reset_orig()"
      ],
      "execution_count": 0,
      "outputs": []
    },
    {
      "cell_type": "code",
      "metadata": {
        "id": "in33wy24rXDm",
        "colab_type": "code",
        "colab": {}
      },
      "source": [
        "def plot_distribution(title, xlabel, ylabel, feature, kind='dist', log=False):\n",
        "  tmp_df = df.copy()\n",
        "  fig, ax = plt.subplots(nrows=2, ncols=2, figsize=(20, 12), sharey=True)\n",
        "  fig.suptitle(title, fontsize=15, y=0.93)\n",
        "  \n",
        "  if log:\n",
        "    tmp_df[feature] = np.log10(tmp_df[feature])\n",
        "\n",
        "  if kind == 'dist':\n",
        "    # I-E\n",
        "    sns.distplot(tmp_df.loc[tmp_df['I-E']==1, feature], ax=ax[0][0], label='Introvert')\n",
        "    sns.distplot(tmp_df.loc[tmp_df['I-E']==0, feature], ax=ax[0][0], label='Extravert' )\n",
        "    ax[0][0].legend(loc=\"upper right\")\n",
        "\n",
        "    # N-S\n",
        "    sns.distplot(tmp_df.loc[tmp_df['N-S']==1, feature], ax=ax[0][1], label='Intuitive')\n",
        "    sns.distplot(tmp_df.loc[tmp_df['N-S']==0, feature], ax=ax[0][1], label='Sensor' )\n",
        "    ax[0][1].legend(loc=\"upper right\")\n",
        "\n",
        "    # T-F\n",
        "    sns.distplot(tmp_df.loc[tmp_df['T-F']==1, feature], ax=ax[1][0], label='Thinker')\n",
        "    sns.distplot(tmp_df.loc[tmp_df['T-F']==0, feature], ax=ax[1][0], label='Feeler' )\n",
        "    ax[1][0].legend(loc=\"upper right\")\n",
        "\n",
        "    # J-P\n",
        "    sns.distplot(tmp_df.loc[tmp_df['J-P']==1, feature], ax=ax[1][1], label='Judging')\n",
        "    sns.distplot(tmp_df.loc[tmp_df['J-P']==0, feature], ax=ax[1][1], label='Perceiving' )\n",
        "    ax[1][1].legend(loc=\"upper right\")\n",
        "\n",
        "  elif kind == 'violin':\n",
        "    # I-E\n",
        "    sns.violinplot(tmp_df.loc[tmp_df['I-E']==1, feature], ax=ax[0][0], label='Introvert')\n",
        "    sns.violinplot(tmp_df.loc[tmp_df['I-E']==0, feature], ax=ax[0][0], label='Extravert' )\n",
        "    ax[0][0].legend(loc=\"upper right\")\n",
        "\n",
        "    # N-S\n",
        "    sns.violinplot(tmp_df.loc[tmp_df['N-S']==1, feature], ax=ax[0][1], label='Intuitive')\n",
        "    sns.violinplot(tmp_df.loc[tmp_df['N-S']==0, feature], ax=ax[0][1], label='Sensor' )\n",
        "    ax[0][1].legend(loc=\"upper right\")\n",
        "\n",
        "    # T-F\n",
        "    sns.violinplot(tmp_df.loc[tmp_df['T-F']==1, feature], ax=ax[1][0], label='Thinker')\n",
        "    sns.violinplot(tmp_df.loc[tmp_df['T-F']==0, feature], ax=ax[1][0], label='Feeler' )\n",
        "    ax[1][0].legend(loc=\"upper right\")\n",
        "\n",
        "    # J-P\n",
        "    sns.violinplot(tmp_df.loc[tmp_df['J-P']==1, feature], ax=ax[1][1], label='Judging')\n",
        "    sns.violinplot(tmp_df.loc[tmp_df['J-P']==0, feature], ax=ax[1][1], label='Perceiving' )\n",
        "    ax[1][1].legend(loc=\"upper right\")\n",
        "\n",
        "  else:\n",
        "    print('Invalid Argument for \"kind\", use dist or violin to continue.')\n",
        "\n",
        "  for i in range(ax.shape[0]):\n",
        "    for j in range(ax.shape[1]):\n",
        "      ax[i][j].set_xlabel('')\n",
        "\n",
        "  fig.text(0.47, 0.01, xlabel, ha='center', va='center', fontsize=12)\n",
        "  fig.text(0.01, 0.5, ylabel, ha='center', va='center', rotation='vertical', fontsize=12)\n",
        "  plt.subplots_adjust(left=0.05, bottom=0.05)\n",
        "  \n",
        "  tmp_df = None\n",
        "  del tmp_df\n",
        "  \n",
        "  plt.show()"
      ],
      "execution_count": 0,
      "outputs": []
    },
    {
      "cell_type": "markdown",
      "metadata": {
        "id": "5Wc90hhAyfYI",
        "colab_type": "text"
      },
      "source": [
        "<b> Total Post per user <b>"
      ]
    },
    {
      "cell_type": "code",
      "metadata": {
        "id": "7q3oOhrUyM7C",
        "colab_type": "code",
        "outputId": "aca260a1-f5db-49ff-cb1c-7127c18c69b9",
        "colab": {
          "base_uri": "https://localhost:8080/",
          "height": 703
        }
      },
      "source": [
        "plot_distribution(title='Distribution of Total Post for each Personality Aspect',\n",
        "                  xlabel='Total Number of Post',\n",
        "                  ylabel='Log base 10 Frequency',\n",
        "                  feature='post_count',\n",
        "                  log=True)"
      ],
      "execution_count": 0,
      "outputs": [
        {
          "output_type": "display_data",
          "data": {
            "image/png": "[encoded data removed]",
            "text/plain": [
              "<Figure size 1440x864 with 4 Axes>"
            ]
          },
          "metadata": {
            "tags": [],
            "needs_background": "light"
          }
        }
      ]
    },
    {
      "cell_type": "markdown",
      "metadata": {
        "id": "ds-86gCw78Zx",
        "colab_type": "text"
      },
      "source": [
        "<b> Number of Words per User <b>"
      ]
    },
    {
      "cell_type": "code",
      "metadata": {
        "id": "EgQuWc5F8TPg",
        "colab_type": "code",
        "outputId": "82df9f5d-b2f3-4b32-fed9-95b5e9f09183",
        "colab": {
          "base_uri": "https://localhost:8080/",
          "height": 703
        }
      },
      "source": [
        "plot_distribution(title='Distribution of Number of words for each Personality Aspect',\n",
        "                  xlabel='Total Number of Words',\n",
        "                  ylabel='Log base 10 Frequency',\n",
        "                  feature='word_count',\n",
        "                  log=True)"
      ],
      "execution_count": 0,
      "outputs": [
        {
          "output_type": "display_data",
          "data": {
            "image/png": "[encoded data removed]",
            "text/plain": [
              "<Figure size 1440x864 with 4 Axes>"
            ]
          },
          "metadata": {
            "tags": [],
            "needs_background": "light"
          }
        }
      ]
    },
    {
      "cell_type": "markdown",
      "metadata": {
        "id": "HQ7esZGZ5Q3H",
        "colab_type": "text"
      },
      "source": [
        "<b>Number of Capitalized Words per Post<b>"
      ]
    },
    {
      "cell_type": "code",
      "metadata": {
        "id": "WZS1uLLE7snz",
        "colab_type": "code",
        "outputId": "b69838b0-6160-4366-cd8f-51c3661fd952",
        "colab": {
          "base_uri": "https://localhost:8080/",
          "height": 703
        }
      },
      "source": [
        "plot_distribution(title='Distribution of Number of words for each Personality Aspect',\n",
        "                  xlabel='Total Number of Words',\n",
        "                  ylabel='Log base 10 Frequency',\n",
        "                  feature='words_per_post',\n",
        "                  log=True)"
      ],
      "execution_count": 0,
      "outputs": [
        {
          "output_type": "display_data",
          "data": {
            "image/png": "[encoded data removed]",
            "text/plain": [
              "<Figure size 1440x864 with 4 Axes>"
            ]
          },
          "metadata": {
            "tags": [],
            "needs_background": "light"
          }
        }
      ]
    },
    {
      "cell_type": "markdown",
      "metadata": {
        "id": "CH_gcwL7KJe7",
        "colab_type": "text"
      },
      "source": [
        "<b> Number of Characters Per Post <b>"
      ]
    },
    {
      "cell_type": "code",
      "metadata": {
        "id": "3qoPX3Hs05tA",
        "colab_type": "code",
        "outputId": "f57abd9a-3232-4309-dfbe-17b828c35d58",
        "colab": {
          "base_uri": "https://localhost:8080/",
          "height": 703
        }
      },
      "source": [
        "plot_distribution(title='Distribution of Number of words for each Personality Aspect',\n",
        "                  xlabel='Total Number of Words',\n",
        "                  ylabel='Log base 10 Frequency',\n",
        "                  feature='characters_per_post',\n",
        "                  log=True)"
      ],
      "execution_count": 0,
      "outputs": [
        {
          "output_type": "display_data",
          "data": {
            "image/png": "[encoded data removed]",
            "text/plain": [
              "<Figure size 1440x864 with 4 Axes>"
            ]
          },
          "metadata": {
            "tags": [],
            "needs_background": "light"
          }
        }
      ]
    },
    {
      "cell_type": "markdown",
      "metadata": {
        "id": "S3iRd3h8B7y0",
        "colab_type": "text"
      },
      "source": [
        "### Data Preprocessing"
      ]
    },
    {
      "cell_type": "code",
      "metadata": {
        "id": "5Rze5141dGbq",
        "colab_type": "code",
        "colab": {}
      },
      "source": [
        "# df = pd.read_csv(OUTPUT_DIR + 'df_with_meta_features.csv')"
      ],
      "execution_count": 0,
      "outputs": []
    },
    {
      "cell_type": "code",
      "metadata": {
        "id": "p8tMo6Gddhdn",
        "colab_type": "code",
        "colab": {}
      },
      "source": [
        "from tqdm import tqdm\n",
        "tqdm.pandas()\n",
        "df['comment'] = df['comment'].progress_apply(preprocess_after_feature_engineering)\n",
        "df = df[df['comment'].str.len() > 1]\n",
        "# df.to_csv(OUTPUT_DIR + 'df_with_meta_features.csv', index=False)"
      ],
      "execution_count": 0,
      "outputs": []
    },
    {
      "cell_type": "code",
      "metadata": {
        "id": "H3iTfFskYBNn",
        "colab_type": "code",
        "colab": {}
      },
      "source": [
        "import nltk\n",
        "from nltk.tokenize import word_tokenize\n",
        "from nltk.stem import SnowballStemmer\n",
        "from collections import Counter\n",
        "\n",
        "# nltk.download('punkt')\n",
        "# nltk.download('wordnet')\n",
        "# nltk.download('averaged_perceptron_tagger')\n",
        "\n",
        "lemma = nltk.wordnet.WordNetLemmatizer()\n",
        "ps = PorterStemmer()\n",
        "\n",
        "def get_pos(string):\n",
        "  ls = word_tokenize(string)\n",
        "  \n",
        "  return pd.Series(list(dict(nltk.pos_tag(ls)).values())).value_counts()\n",
        "\n",
        "def get_stem(string):\n",
        "  ls = word_tokenize(string)\n",
        "  ls = list(map(lambda x: lemma.lemmatize(x), ls))\n",
        "  return ' '.join(ls)"
      ],
      "execution_count": 0,
      "outputs": []
    },
    {
      "cell_type": "code",
      "metadata": {
        "id": "EzM9wps7kSBL",
        "colab_type": "code",
        "colab": {}
      },
      "source": [
        "# tqdm.pandas()\n",
        "# df['comment'] = df['comment'].progress_apply(get_stem)\n",
        "# df.to_csv(OUTPUT_DIR + 'df_with_meta_features.csv', index=False)"
      ],
      "execution_count": 0,
      "outputs": []
    },
    {
      "cell_type": "code",
      "metadata": {
        "id": "Lq8efCEAj_ib",
        "colab_type": "code",
        "colab": {}
      },
      "source": [
        "tqdm.pandas()\n",
        "pos_features = df['comment'].progress_apply(get_pos)"
      ],
      "execution_count": 0,
      "outputs": []
    },
    {
      "cell_type": "code",
      "metadata": {
        "id": "nF7G-XgWJ4ik",
        "colab_type": "code",
        "colab": {}
      },
      "source": [
        "pos_features = pos_features.fillna(0)"
      ],
      "execution_count": 0,
      "outputs": []
    },
    {
      "cell_type": "code",
      "metadata": {
        "id": "6C52aUJOf0GH",
        "colab_type": "code",
        "colab": {}
      },
      "source": [
        "pos_features = pos_features.drop(['type', 'comment'], axis=1)"
      ],
      "execution_count": 0,
      "outputs": []
    },
    {
      "cell_type": "code",
      "metadata": {
        "id": "HP48qfcGee2P",
        "colab_type": "code",
        "colab": {
          "base_uri": "https://localhost:8080/",
          "height": 34
        },
        "outputId": "6f6556b8-2fcf-4662-c471-ca74bdf1cd4b"
      },
      "source": [
        "df.shape"
      ],
      "execution_count": 230,
      "outputs": [
        {
          "output_type": "execute_result",
          "data": {
            "text/plain": [
              "(38976, 25)"
            ]
          },
          "metadata": {
            "tags": []
          },
          "execution_count": 230
        }
      ]
    },
    {
      "cell_type": "code",
      "metadata": {
        "id": "mlRi7rkdegbn",
        "colab_type": "code",
        "colab": {
          "base_uri": "https://localhost:8080/",
          "height": 34
        },
        "outputId": "64d6a73f-894d-4c9c-8a13-c531d8151241"
      },
      "source": [
        "pos_features.shape"
      ],
      "execution_count": 267,
      "outputs": [
        {
          "output_type": "execute_result",
          "data": {
            "text/plain": [
              "(38976, 38)"
            ]
          },
          "metadata": {
            "tags": []
          },
          "execution_count": 267
        }
      ]
    },
    {
      "cell_type": "code",
      "metadata": {
        "id": "K8Aa9yyheSiA",
        "colab_type": "code",
        "colab": {}
      },
      "source": [
        "new_df = pd.concat([df, pos_features], axis=1) "
      ],
      "execution_count": 0,
      "outputs": []
    },
    {
      "cell_type": "code",
      "metadata": {
        "id": "jpMkYUW5eqpA",
        "colab_type": "code",
        "colab": {
          "base_uri": "https://localhost:8080/",
          "height": 34
        },
        "outputId": "9b567b81-8c45-4b81-8722-038f08a4aa78"
      },
      "source": [
        "new_df.shape"
      ],
      "execution_count": 270,
      "outputs": [
        {
          "output_type": "execute_result",
          "data": {
            "text/plain": [
              "(38976, 63)"
            ]
          },
          "metadata": {
            "tags": []
          },
          "execution_count": 270
        }
      ]
    },
    {
      "cell_type": "code",
      "metadata": {
        "id": "zG9QS7lugm-n",
        "colab_type": "code",
        "colab": {}
      },
      "source": [
        "new_df.to_csv(OUTPUT_DIR + 'df_with_meta_and_pos_features.csv', index=False)"
      ],
      "execution_count": 0,
      "outputs": []
    },
    {
      "cell_type": "markdown",
      "metadata": {
        "id": "c5wB7Z2tr1YK",
        "colab_type": "text"
      },
      "source": [
        "### 3.4 Train and Test Set Splitting"
      ]
    },
    {
      "cell_type": "code",
      "metadata": {
        "id": "waa_TdbPsLCZ",
        "colab_type": "code",
        "colab": {}
      },
      "source": [
        "X_train, X_test, y_train, y_test = train_test_split(df['comment'], df[['I-E', 'N-S', 'T-F', 'J-P']], test_size=0.3, random_state=100)\n",
        "\n",
        "X_train_I, X_test_I, y_train_I, y_test_I = train_test_split(df.loc[df['I-E']==1, 'comment'], df.loc[df['I-E']==1, 'I-E'], test_size=0.3, random_state=100)\n",
        "X_train_E, X_test_E, y_train_E, y_test_E = train_test_split(df.loc[df['I-E']==0, 'comment'], df.loc[df['I-E']==0, 'I-E'], test_size=0.3, random_state=100)\n",
        "\n",
        "X_train_T, X_test_T, y_train_T, y_test_T = train_test_split(df.loc[df['T-F']==1, 'comment'], df.loc[df['T-F']==1, 'T-F'], test_size=0.3, random_state=100)\n",
        "X_train_F, X_test_F, y_train_F, y_test_F = train_test_split(df.loc[df['T-F']==0, 'comment'], df.loc[df['T-F']==0, 'T-F'], test_size=0.3, random_state=100)"
      ],
      "execution_count": 0,
      "outputs": []
    },
    {
      "cell_type": "code",
      "metadata": {
        "id": "uShKemFg42Ul",
        "colab_type": "code",
        "outputId": "6542e4f2-144d-4906-dda8-2e2d8f9f55a5",
        "colab": {
          "base_uri": "https://localhost:8080/",
          "height": 85
        }
      },
      "source": [
        "print('X_train Shape:', X_train.shape)\n",
        "print('X_test Shape:', X_test.shape)\n",
        "print('y_train Shape:', y_train.shape)\n",
        "print('y_test Shape:', y_test.shape)"
      ],
      "execution_count": 0,
      "outputs": [
        {
          "output_type": "stream",
          "text": [
            "X_train Shape: (27280,)\n",
            "X_test Shape: (11692,)\n",
            "y_train Shape: (27280, 4)\n",
            "y_test Shape: (11692, 4)\n"
          ],
          "name": "stdout"
        }
      ]
    },
    {
      "cell_type": "markdown",
      "metadata": {
        "id": "3hAhBI2Q7ook",
        "colab_type": "text"
      },
      "source": [
        "### 3.2.1 Feature Extraction"
      ]
    },
    {
      "cell_type": "markdown",
      "metadata": {
        "id": "fGH2S7-5ERIZ",
        "colab_type": "text"
      },
      "source": [
        "In this section, I will answer the following questions by performing text analysis:\n",
        "\n",
        "1.) How are word frequencies distributed?\n",
        "\n",
        "2.) How many unique words are present in the dataset?\n",
        "\n",
        "3.) What are the top words used? In general and Personality type wise.\n",
        "\n",
        "4.) Is the text feature stable across train, test and CV datasets?"
      ]
    },
    {
      "cell_type": "code",
      "metadata": {
        "id": "6YM5rxMG3gZU",
        "colab_type": "code",
        "colab": {}
      },
      "source": [
        "from collections import Counter, defaultdict\n",
        "\n",
        "def extract_dictionary_paddle(cls_text):\n",
        "    dictionary = defaultdict(int)\n",
        "    for word in row.split():\n",
        "        dictionary[word] +=1\n",
        "    return dictionary"
      ],
      "execution_count": 0,
      "outputs": []
    },
    {
      "cell_type": "code",
      "metadata": {
        "id": "xcQZ4IDO3nHs",
        "colab_type": "code",
        "colab": {}
      },
      "source": [
        "# building a CountVectorizer with all the words that occured minimum 5 times in train data\n",
        "def vectorize_words(data):\n",
        "  text_vectorizer = CountVectorizer(min_df=5, max_df=20000, decode_error='replace')\n",
        "  train_text_feature_onehotCoding = text_vectorizer.fit_transform(data)\n",
        "  train_text_features= text_vectorizer.get_feature_names()\n",
        "  train_text_fea_counts = train_text_feature_onehotCoding.sum(axis=0).A1\n",
        "  text_fea_dict = dict(zip(list(train_text_features),train_text_fea_counts))\n",
        "  return text_fea_dict"
      ],
      "execution_count": 0,
      "outputs": []
    },
    {
      "cell_type": "code",
      "metadata": {
        "id": "XIpEPlD1BE8e",
        "colab_type": "code",
        "colab": {}
      },
      "source": [
        "text_fea_dict = vectorize_words(X_train)\n",
        "sorted_text_fea_dict = dict(sorted(text_fea_dict.items(), key=lambda x: x[1] , reverse=True))\n",
        "sorted_text_occur = np.array(list(sorted_text_fea_dict.values()))"
      ],
      "execution_count": 0,
      "outputs": []
    },
    {
      "cell_type": "code",
      "metadata": {
        "id": "UVZQJETh7oo7",
        "colab_type": "code",
        "outputId": "478f8277-727c-4bd9-cb7e-ad96f28675d0",
        "colab": {
          "base_uri": "https://localhost:8080/",
          "height": 34
        }
      },
      "source": [
        "print(\"Total number of unique words in train data :\", len(sorted_text_fea_dict))"
      ],
      "execution_count": 0,
      "outputs": [
        {
          "output_type": "stream",
          "text": [
            "Total number of unique words in train data : 65821\n"
          ],
          "name": "stdout"
        }
      ]
    },
    {
      "cell_type": "code",
      "metadata": {
        "id": "Q1lpAYY67oo_",
        "colab_type": "code",
        "colab": {}
      },
      "source": [
        "temp = pd.DataFrame(pd.Series(index=list(text_fea_dict.keys()), data=list(text_fea_dict.values())).sort_values(ascending=False).head(25)).reset_index()\n",
        "temp.columns = ['word', 'freq']"
      ],
      "execution_count": 0,
      "outputs": []
    },
    {
      "cell_type": "code",
      "metadata": {
        "id": "fDSScwEV7opB",
        "colab_type": "code",
        "outputId": "659b3c35-4ad3-4b76-f48c-d33dd3385cbe",
        "colab": {
          "base_uri": "https://localhost:8080/",
          "height": 565
        }
      },
      "source": [
        "temp.style.background_gradient(cmap='Blues')"
      ],
      "execution_count": 0,
      "outputs": [
        {
          "output_type": "execute_result",
          "data": {
            "text/html": [
              "<style  type=\"text/css\" >\n",
              "    #T_794d24a4_a41c_11ea_9f39_0242ac1c0002row0_col1 {\n",
              "            background-color:  #08306b;\n",
              "            color:  #f1f1f1;\n",
              "        }    #T_794d24a4_a41c_11ea_9f39_0242ac1c0002row1_col1 {\n",
              "            background-color:  #0c56a0;\n",
              "            color:  #f1f1f1;\n",
              "        }    #T_794d24a4_a41c_11ea_9f39_0242ac1c0002row2_col1 {\n",
              "            background-color:  #7ab6d9;\n",
              "            color:  #000000;\n",
              "        }    #T_794d24a4_a41c_11ea_9f39_0242ac1c0002row3_col1 {\n",
              "            background-color:  #bed8ec;\n",
              "            color:  #000000;\n",
              "        }    #T_794d24a4_a41c_11ea_9f39_0242ac1c0002row4_col1 {\n",
              "            background-color:  #bed8ec;\n",
              "            color:  #000000;\n",
              "        }    #T_794d24a4_a41c_11ea_9f39_0242ac1c0002row5_col1 {\n",
              "            background-color:  #c9ddf0;\n",
              "            color:  #000000;\n",
              "        }    #T_794d24a4_a41c_11ea_9f39_0242ac1c0002row6_col1 {\n",
              "            background-color:  #ccdff1;\n",
              "            color:  #000000;\n",
              "        }    #T_794d24a4_a41c_11ea_9f39_0242ac1c0002row7_col1 {\n",
              "            background-color:  #d3e3f3;\n",
              "            color:  #000000;\n",
              "        }    #T_794d24a4_a41c_11ea_9f39_0242ac1c0002row8_col1 {\n",
              "            background-color:  #d3e4f3;\n",
              "            color:  #000000;\n",
              "        }    #T_794d24a4_a41c_11ea_9f39_0242ac1c0002row9_col1 {\n",
              "            background-color:  #dce9f6;\n",
              "            color:  #000000;\n",
              "        }    #T_794d24a4_a41c_11ea_9f39_0242ac1c0002row10_col1 {\n",
              "            background-color:  #dfecf7;\n",
              "            color:  #000000;\n",
              "        }    #T_794d24a4_a41c_11ea_9f39_0242ac1c0002row11_col1 {\n",
              "            background-color:  #e1edf8;\n",
              "            color:  #000000;\n",
              "        }    #T_794d24a4_a41c_11ea_9f39_0242ac1c0002row12_col1 {\n",
              "            background-color:  #e4eff9;\n",
              "            color:  #000000;\n",
              "        }    #T_794d24a4_a41c_11ea_9f39_0242ac1c0002row13_col1 {\n",
              "            background-color:  #e7f1fa;\n",
              "            color:  #000000;\n",
              "        }    #T_794d24a4_a41c_11ea_9f39_0242ac1c0002row14_col1 {\n",
              "            background-color:  #f1f7fd;\n",
              "            color:  #000000;\n",
              "        }    #T_794d24a4_a41c_11ea_9f39_0242ac1c0002row15_col1 {\n",
              "            background-color:  #f2f8fd;\n",
              "            color:  #000000;\n",
              "        }    #T_794d24a4_a41c_11ea_9f39_0242ac1c0002row16_col1 {\n",
              "            background-color:  #f2f8fd;\n",
              "            color:  #000000;\n",
              "        }    #T_794d24a4_a41c_11ea_9f39_0242ac1c0002row17_col1 {\n",
              "            background-color:  #f3f8fe;\n",
              "            color:  #000000;\n",
              "        }    #T_794d24a4_a41c_11ea_9f39_0242ac1c0002row18_col1 {\n",
              "            background-color:  #f4f9fe;\n",
              "            color:  #000000;\n",
              "        }    #T_794d24a4_a41c_11ea_9f39_0242ac1c0002row19_col1 {\n",
              "            background-color:  #f5f9fe;\n",
              "            color:  #000000;\n",
              "        }    #T_794d24a4_a41c_11ea_9f39_0242ac1c0002row20_col1 {\n",
              "            background-color:  #f5fafe;\n",
              "            color:  #000000;\n",
              "        }    #T_794d24a4_a41c_11ea_9f39_0242ac1c0002row21_col1 {\n",
              "            background-color:  #f5fafe;\n",
              "            color:  #000000;\n",
              "        }    #T_794d24a4_a41c_11ea_9f39_0242ac1c0002row22_col1 {\n",
              "            background-color:  #f6faff;\n",
              "            color:  #000000;\n",
              "        }    #T_794d24a4_a41c_11ea_9f39_0242ac1c0002row23_col1 {\n",
              "            background-color:  #f7fbff;\n",
              "            color:  #000000;\n",
              "        }    #T_794d24a4_a41c_11ea_9f39_0242ac1c0002row24_col1 {\n",
              "            background-color:  #f7fbff;\n",
              "            color:  #000000;\n",
              "        }</style><table id=\"T_794d24a4_a41c_11ea_9f39_0242ac1c0002\" ><thead>    <tr>        <th class=\"blank level0\" ></th>        <th class=\"col_heading level0 col0\" >word</th>        <th class=\"col_heading level0 col1\" >freq</th>    </tr></thead><tbody>\n",
              "                <tr>\n",
              "                        <th id=\"T_794d24a4_a41c_11ea_9f39_0242ac1c0002level0_row0\" class=\"row_heading level0 row0\" >0</th>\n",
              "                        <td id=\"T_794d24a4_a41c_11ea_9f39_0242ac1c0002row0_col0\" class=\"data row0 col0\" >wrote</td>\n",
              "                        <td id=\"T_794d24a4_a41c_11ea_9f39_0242ac1c0002row0_col1\" class=\"data row0 col1\" >904206</td>\n",
              "            </tr>\n",
              "            <tr>\n",
              "                        <th id=\"T_794d24a4_a41c_11ea_9f39_0242ac1c0002level0_row1\" class=\"row_heading level0 row1\" >1</th>\n",
              "                        <td id=\"T_794d24a4_a41c_11ea_9f39_0242ac1c0002row1_col0\" class=\"data row1 col0\" >not</td>\n",
              "                        <td id=\"T_794d24a4_a41c_11ea_9f39_0242ac1c0002row1_col1\" class=\"data row1 col1\" >796232</td>\n",
              "            </tr>\n",
              "            <tr>\n",
              "                        <th id=\"T_794d24a4_a41c_11ea_9f39_0242ac1c0002level0_row2\" class=\"row_heading level0 row2\" >2</th>\n",
              "                        <td id=\"T_794d24a4_a41c_11ea_9f39_0242ac1c0002row2_col0\" class=\"data row2 col0\" >like</td>\n",
              "                        <td id=\"T_794d24a4_a41c_11ea_9f39_0242ac1c0002row2_col1\" class=\"data row2 col1\" >510122</td>\n",
              "            </tr>\n",
              "            <tr>\n",
              "                        <th id=\"T_794d24a4_a41c_11ea_9f39_0242ac1c0002level0_row3\" class=\"row_heading level0 row3\" >3</th>\n",
              "                        <td id=\"T_794d24a4_a41c_11ea_9f39_0242ac1c0002row3_col0\" class=\"data row3 col0\" >people</td>\n",
              "                        <td id=\"T_794d24a4_a41c_11ea_9f39_0242ac1c0002row3_col1\" class=\"data row3 col1\" >373346</td>\n",
              "            </tr>\n",
              "            <tr>\n",
              "                        <th id=\"T_794d24a4_a41c_11ea_9f39_0242ac1c0002level0_row4\" class=\"row_heading level0 row4\" >4</th>\n",
              "                        <td id=\"T_794d24a4_a41c_11ea_9f39_0242ac1c0002row4_col0\" class=\"data row4 col0\" >al</td>\n",
              "                        <td id=\"T_794d24a4_a41c_11ea_9f39_0242ac1c0002row4_col1\" class=\"data row4 col1\" >372952</td>\n",
              "            </tr>\n",
              "            <tr>\n",
              "                        <th id=\"T_794d24a4_a41c_11ea_9f39_0242ac1c0002level0_row5\" class=\"row_heading level0 row5\" >5</th>\n",
              "                        <td id=\"T_794d24a4_a41c_11ea_9f39_0242ac1c0002row5_col0\" class=\"data row5 col0\" >would</td>\n",
              "                        <td id=\"T_794d24a4_a41c_11ea_9f39_0242ac1c0002row5_col1\" class=\"data row5 col1\" >342582</td>\n",
              "            </tr>\n",
              "            <tr>\n",
              "                        <th id=\"T_794d24a4_a41c_11ea_9f39_0242ac1c0002level0_row6\" class=\"row_heading level0 row6\" >6</th>\n",
              "                        <td id=\"T_794d24a4_a41c_11ea_9f39_0242ac1c0002row6_col0\" class=\"data row6 col0\" >one</td>\n",
              "                        <td id=\"T_794d24a4_a41c_11ea_9f39_0242ac1c0002row6_col1\" class=\"data row6 col1\" >332387</td>\n",
              "            </tr>\n",
              "            <tr>\n",
              "                        <th id=\"T_794d24a4_a41c_11ea_9f39_0242ac1c0002level0_row7\" class=\"row_heading level0 row7\" >7</th>\n",
              "                        <td id=\"T_794d24a4_a41c_11ea_9f39_0242ac1c0002row7_col0\" class=\"data row7 col0\" >think</td>\n",
              "                        <td id=\"T_794d24a4_a41c_11ea_9f39_0242ac1c0002row7_col1\" class=\"data row7 col1\" >306067</td>\n",
              "            </tr>\n",
              "            <tr>\n",
              "                        <th id=\"T_794d24a4_a41c_11ea_9f39_0242ac1c0002level0_row8\" class=\"row_heading level0 row8\" >8</th>\n",
              "                        <td id=\"T_794d24a4_a41c_11ea_9f39_0242ac1c0002row8_col0\" class=\"data row8 col0\" >know</td>\n",
              "                        <td id=\"T_794d24a4_a41c_11ea_9f39_0242ac1c0002row8_col1\" class=\"data row8 col1\" >304777</td>\n",
              "            </tr>\n",
              "            <tr>\n",
              "                        <th id=\"T_794d24a4_a41c_11ea_9f39_0242ac1c0002level0_row9\" class=\"row_heading level0 row9\" >9</th>\n",
              "                        <td id=\"T_794d24a4_a41c_11ea_9f39_0242ac1c0002row9_col0\" class=\"data row9 col0\" >get</td>\n",
              "                        <td id=\"T_794d24a4_a41c_11ea_9f39_0242ac1c0002row9_col1\" class=\"data row9 col1\" >272251</td>\n",
              "            </tr>\n",
              "            <tr>\n",
              "                        <th id=\"T_794d24a4_a41c_11ea_9f39_0242ac1c0002level0_row10\" class=\"row_heading level0 row10\" >10</th>\n",
              "                        <td id=\"T_794d24a4_a41c_11ea_9f39_0242ac1c0002row10_col0\" class=\"data row10 col0\" >god</td>\n",
              "                        <td id=\"T_794d24a4_a41c_11ea_9f39_0242ac1c0002row10_col1\" class=\"data row10 col1\" >258049</td>\n",
              "            </tr>\n",
              "            <tr>\n",
              "                        <th id=\"T_794d24a4_a41c_11ea_9f39_0242ac1c0002level0_row11\" class=\"row_heading level0 row11\" >11</th>\n",
              "                        <td id=\"T_794d24a4_a41c_11ea_9f39_0242ac1c0002row11_col0\" class=\"data row11 col0\" >wil</td>\n",
              "                        <td id=\"T_794d24a4_a41c_11ea_9f39_0242ac1c0002row11_col1\" class=\"data row11 col1\" >252041</td>\n",
              "            </tr>\n",
              "            <tr>\n",
              "                        <th id=\"T_794d24a4_a41c_11ea_9f39_0242ac1c0002level0_row12\" class=\"row_heading level0 row12\" >12</th>\n",
              "                        <td id=\"T_794d24a4_a41c_11ea_9f39_0242ac1c0002row12_col0\" class=\"data row12 col0\" >time</td>\n",
              "                        <td id=\"T_794d24a4_a41c_11ea_9f39_0242ac1c0002row12_col1\" class=\"data row12 col1\" >240801</td>\n",
              "            </tr>\n",
              "            <tr>\n",
              "                        <th id=\"T_794d24a4_a41c_11ea_9f39_0242ac1c0002level0_row13\" class=\"row_heading level0 row13\" >13</th>\n",
              "                        <td id=\"T_794d24a4_a41c_11ea_9f39_0242ac1c0002row13_col0\" class=\"data row13 col0\" >realy</td>\n",
              "                        <td id=\"T_794d24a4_a41c_11ea_9f39_0242ac1c0002row13_col1\" class=\"data row13 col1\" >229837</td>\n",
              "            </tr>\n",
              "            <tr>\n",
              "                        <th id=\"T_794d24a4_a41c_11ea_9f39_0242ac1c0002level0_row14\" class=\"row_heading level0 row14\" >14</th>\n",
              "                        <td id=\"T_794d24a4_a41c_11ea_9f39_0242ac1c0002row14_col0\" class=\"data row14 col0\" >said</td>\n",
              "                        <td id=\"T_794d24a4_a41c_11ea_9f39_0242ac1c0002row14_col1\" class=\"data row14 col1\" >195220</td>\n",
              "            </tr>\n",
              "            <tr>\n",
              "                        <th id=\"T_794d24a4_a41c_11ea_9f39_0242ac1c0002level0_row15\" class=\"row_heading level0 row15\" >15</th>\n",
              "                        <td id=\"T_794d24a4_a41c_11ea_9f39_0242ac1c0002row15_col0\" class=\"data row15 col0\" >wel</td>\n",
              "                        <td id=\"T_794d24a4_a41c_11ea_9f39_0242ac1c0002row15_col1\" class=\"data row15 col1\" >189629</td>\n",
              "            </tr>\n",
              "            <tr>\n",
              "                        <th id=\"T_794d24a4_a41c_11ea_9f39_0242ac1c0002level0_row16\" class=\"row_heading level0 row16\" >16</th>\n",
              "                        <td id=\"T_794d24a4_a41c_11ea_9f39_0242ac1c0002row16_col0\" class=\"data row16 col0\" >something</td>\n",
              "                        <td id=\"T_794d24a4_a41c_11ea_9f39_0242ac1c0002row16_col1\" class=\"data row16 col1\" >189565</td>\n",
              "            </tr>\n",
              "            <tr>\n",
              "                        <th id=\"T_794d24a4_a41c_11ea_9f39_0242ac1c0002level0_row17\" class=\"row_heading level0 row17\" >17</th>\n",
              "                        <td id=\"T_794d24a4_a41c_11ea_9f39_0242ac1c0002row17_col0\" class=\"data row17 col0\" >want</td>\n",
              "                        <td id=\"T_794d24a4_a41c_11ea_9f39_0242ac1c0002row17_col1\" class=\"data row17 col1\" >186316</td>\n",
              "            </tr>\n",
              "            <tr>\n",
              "                        <th id=\"T_794d24a4_a41c_11ea_9f39_0242ac1c0002level0_row18\" class=\"row_heading level0 row18\" >18</th>\n",
              "                        <td id=\"T_794d24a4_a41c_11ea_9f39_0242ac1c0002row18_col0\" class=\"data row18 col0\" >could</td>\n",
              "                        <td id=\"T_794d24a4_a41c_11ea_9f39_0242ac1c0002row18_col1\" class=\"data row18 col1\" >183559</td>\n",
              "            </tr>\n",
              "            <tr>\n",
              "                        <th id=\"T_794d24a4_a41c_11ea_9f39_0242ac1c0002level0_row19\" class=\"row_heading level0 row19\" >19</th>\n",
              "                        <td id=\"T_794d24a4_a41c_11ea_9f39_0242ac1c0002row19_col0\" class=\"data row19 col0\" >way</td>\n",
              "                        <td id=\"T_794d24a4_a41c_11ea_9f39_0242ac1c0002row19_col1\" class=\"data row19 col1\" >179414</td>\n",
              "            </tr>\n",
              "            <tr>\n",
              "                        <th id=\"T_794d24a4_a41c_11ea_9f39_0242ac1c0002level0_row20\" class=\"row_heading level0 row20\" >20</th>\n",
              "                        <td id=\"T_794d24a4_a41c_11ea_9f39_0242ac1c0002row20_col0\" class=\"data row20 col0\" >things</td>\n",
              "                        <td id=\"T_794d24a4_a41c_11ea_9f39_0242ac1c0002row20_col1\" class=\"data row20 col1\" >177116</td>\n",
              "            </tr>\n",
              "            <tr>\n",
              "                        <th id=\"T_794d24a4_a41c_11ea_9f39_0242ac1c0002level0_row21\" class=\"row_heading level0 row21\" >21</th>\n",
              "                        <td id=\"T_794d24a4_a41c_11ea_9f39_0242ac1c0002row21_col0\" class=\"data row21 col0\" >even</td>\n",
              "                        <td id=\"T_794d24a4_a41c_11ea_9f39_0242ac1c0002row21_col1\" class=\"data row21 col1\" >177062</td>\n",
              "            </tr>\n",
              "            <tr>\n",
              "                        <th id=\"T_794d24a4_a41c_11ea_9f39_0242ac1c0002level0_row22\" class=\"row_heading level0 row22\" >22</th>\n",
              "                        <td id=\"T_794d24a4_a41c_11ea_9f39_0242ac1c0002row22_col0\" class=\"data row22 col0\" >se</td>\n",
              "                        <td id=\"T_794d24a4_a41c_11ea_9f39_0242ac1c0002row22_col1\" class=\"data row22 col1\" >175485</td>\n",
              "            </tr>\n",
              "            <tr>\n",
              "                        <th id=\"T_794d24a4_a41c_11ea_9f39_0242ac1c0002level0_row23\" class=\"row_heading level0 row23\" >23</th>\n",
              "                        <td id=\"T_794d24a4_a41c_11ea_9f39_0242ac1c0002row23_col0\" class=\"data row23 col0\" >much</td>\n",
              "                        <td id=\"T_794d24a4_a41c_11ea_9f39_0242ac1c0002row23_col1\" class=\"data row23 col1\" >170248</td>\n",
              "            </tr>\n",
              "            <tr>\n",
              "                        <th id=\"T_794d24a4_a41c_11ea_9f39_0242ac1c0002level0_row24\" class=\"row_heading level0 row24\" >24</th>\n",
              "                        <td id=\"T_794d24a4_a41c_11ea_9f39_0242ac1c0002row24_col0\" class=\"data row24 col0\" >back</td>\n",
              "                        <td id=\"T_794d24a4_a41c_11ea_9f39_0242ac1c0002row24_col1\" class=\"data row24 col1\" >170073</td>\n",
              "            </tr>\n",
              "    </tbody></table>"
            ],
            "text/plain": [
              "<pandas.io.formats.style.Styler at 0x7f2339270ef0>"
            ]
          },
          "metadata": {
            "tags": []
          },
          "execution_count": 25
        }
      ]
    },
    {
      "cell_type": "code",
      "metadata": {
        "id": "tHareLP39sAh",
        "colab_type": "code",
        "outputId": "86c7fd7e-f49e-49a6-be5d-a035ffa94518",
        "colab": {
          "base_uri": "https://localhost:8080/",
          "height": 717
        }
      },
      "source": [
        "fig = px.bar(temp, x=\"freq\", y=\"word\", title='Commmon Words in Text', orientation='h', \n",
        "             width=700, height=700, color='word')\n",
        "fig.show()"
      ],
      "execution_count": 0,
      "outputs": [
        {
          "output_type": "display_data",
          "data": {
            "text/html": [
              "<html>\n",
              "<head><meta charset=\"utf-8\" /></head>\n",
              "<body>\n",
              "    <div>\n",
              "            <script src=\"https://cdnjs.cloudflare.com/ajax/libs/mathjax/2.7.5/MathJax.js?config=TeX-AMS-MML_SVG\"></script><script type=\"text/javascript\">if (window.MathJax) {MathJax.Hub.Config({SVG: {font: \"STIX-Web\"}});}</script>\n",
              "                <script type=\"text/javascript\">window.PlotlyConfig = {MathJaxConfig: 'local'};</script>\n",
              "        <script src=\"https://cdn.plot.ly/plotly-latest.min.js\"></script>    \n",
              "            <div id=\"92316f37-e4c4-4d0e-b838-89feaa1f867f\" class=\"plotly-graph-div\" style=\"height:700px; width:700px;\"></div>\n",
              "            <script type=\"text/javascript\">\n",
              "                \n",
              "                    window.PLOTLYENV=window.PLOTLYENV || {};\n",
              "                    \n",
              "                if (document.getElementById(\"92316f37-e4c4-4d0e-b838-89feaa1f867f\")) {\n",
              "                    Plotly.newPlot(\n",
              "                        '92316f37-e4c4-4d0e-b838-89feaa1f867f',\n",
              "                        [{\"alignmentgroup\": \"True\", \"hovertemplate\": \"word=%{y}<br>freq=%{x}<extra></extra>\", \"legendgroup\": \"wrote\", \"marker\": {\"color\": \"#636efa\"}, \"name\": \"wrote\", \"offsetgroup\": \"wrote\", \"orientation\": \"h\", \"showlegend\": true, \"textposition\": \"auto\", \"type\": \"bar\", \"x\": [904206], \"xaxis\": \"x\", \"y\": [\"wrote\"], \"yaxis\": \"y\"}, {\"alignmentgroup\": \"True\", \"hovertemplate\": \"word=%{y}<br>freq=%{x}<extra></extra>\", \"legendgroup\": \"not\", \"marker\": {\"color\": \"#EF553B\"}, \"name\": \"not\", \"offsetgroup\": \"not\", \"orientation\": \"h\", \"showlegend\": true, \"textposition\": \"auto\", \"type\": \"bar\", \"x\": [796232], \"xaxis\": \"x\", \"y\": [\"not\"], \"yaxis\": \"y\"}, {\"alignmentgroup\": \"True\", \"hovertemplate\": \"word=%{y}<br>freq=%{x}<extra></extra>\", \"legendgroup\": \"like\", \"marker\": {\"color\": \"#00cc96\"}, \"name\": \"like\", \"offsetgroup\": \"like\", \"orientation\": \"h\", \"showlegend\": true, \"textposition\": \"auto\", \"type\": \"bar\", \"x\": [510122], \"xaxis\": \"x\", \"y\": [\"like\"], \"yaxis\": \"y\"}, {\"alignmentgroup\": \"True\", \"hovertemplate\": \"word=%{y}<br>freq=%{x}<extra></extra>\", \"legendgroup\": \"people\", \"marker\": {\"color\": \"#ab63fa\"}, \"name\": \"people\", \"offsetgroup\": \"people\", \"orientation\": \"h\", \"showlegend\": true, \"textposition\": \"auto\", \"type\": \"bar\", \"x\": [373346], \"xaxis\": \"x\", \"y\": [\"people\"], \"yaxis\": \"y\"}, {\"alignmentgroup\": \"True\", \"hovertemplate\": \"word=%{y}<br>freq=%{x}<extra></extra>\", \"legendgroup\": \"al\", \"marker\": {\"color\": \"#FFA15A\"}, \"name\": \"al\", \"offsetgroup\": \"al\", \"orientation\": \"h\", \"showlegend\": true, \"textposition\": \"auto\", \"type\": \"bar\", \"x\": [372952], \"xaxis\": \"x\", \"y\": [\"al\"], \"yaxis\": \"y\"}, {\"alignmentgroup\": \"True\", \"hovertemplate\": \"word=%{y}<br>freq=%{x}<extra></extra>\", \"legendgroup\": \"would\", \"marker\": {\"color\": \"#19d3f3\"}, \"name\": \"would\", \"offsetgroup\": \"would\", \"orientation\": \"h\", \"showlegend\": true, \"textposition\": \"auto\", \"type\": \"bar\", \"x\": [342582], \"xaxis\": \"x\", \"y\": [\"would\"], \"yaxis\": \"y\"}, {\"alignmentgroup\": \"True\", \"hovertemplate\": \"word=%{y}<br>freq=%{x}<extra></extra>\", \"legendgroup\": \"one\", \"marker\": {\"color\": \"#FF6692\"}, \"name\": \"one\", \"offsetgroup\": \"one\", \"orientation\": \"h\", \"showlegend\": true, \"textposition\": \"auto\", \"type\": \"bar\", \"x\": [332387], \"xaxis\": \"x\", \"y\": [\"one\"], \"yaxis\": \"y\"}, {\"alignmentgroup\": \"True\", \"hovertemplate\": \"word=%{y}<br>freq=%{x}<extra></extra>\", \"legendgroup\": \"think\", \"marker\": {\"color\": \"#B6E880\"}, \"name\": \"think\", \"offsetgroup\": \"think\", \"orientation\": \"h\", \"showlegend\": true, \"textposition\": \"auto\", \"type\": \"bar\", \"x\": [306067], \"xaxis\": \"x\", \"y\": [\"think\"], \"yaxis\": \"y\"}, {\"alignmentgroup\": \"True\", \"hovertemplate\": \"word=%{y}<br>freq=%{x}<extra></extra>\", \"legendgroup\": \"know\", \"marker\": {\"color\": \"#FF97FF\"}, \"name\": \"know\", \"offsetgroup\": \"know\", \"orientation\": \"h\", \"showlegend\": true, \"textposition\": \"auto\", \"type\": \"bar\", \"x\": [304777], \"xaxis\": \"x\", \"y\": [\"know\"], \"yaxis\": \"y\"}, {\"alignmentgroup\": \"True\", \"hovertemplate\": \"word=%{y}<br>freq=%{x}<extra></extra>\", \"legendgroup\": \"get\", \"marker\": {\"color\": \"#FECB52\"}, \"name\": \"get\", \"offsetgroup\": \"get\", \"orientation\": \"h\", \"showlegend\": true, \"textposition\": \"auto\", \"type\": \"bar\", \"x\": [272251], \"xaxis\": \"x\", \"y\": [\"get\"], \"yaxis\": \"y\"}, {\"alignmentgroup\": \"True\", \"hovertemplate\": \"word=%{y}<br>freq=%{x}<extra></extra>\", \"legendgroup\": \"god\", \"marker\": {\"color\": \"#636efa\"}, \"name\": \"god\", \"offsetgroup\": \"god\", \"orientation\": \"h\", \"showlegend\": true, \"textposition\": \"auto\", \"type\": \"bar\", \"x\": [258049], \"xaxis\": \"x\", \"y\": [\"god\"], \"yaxis\": \"y\"}, {\"alignmentgroup\": \"True\", \"hovertemplate\": \"word=%{y}<br>freq=%{x}<extra></extra>\", \"legendgroup\": \"wil\", \"marker\": {\"color\": \"#EF553B\"}, \"name\": \"wil\", \"offsetgroup\": \"wil\", \"orientation\": \"h\", \"showlegend\": true, \"textposition\": \"auto\", \"type\": \"bar\", \"x\": [252041], \"xaxis\": \"x\", \"y\": [\"wil\"], \"yaxis\": \"y\"}, {\"alignmentgroup\": \"True\", \"hovertemplate\": \"word=%{y}<br>freq=%{x}<extra></extra>\", \"legendgroup\": \"time\", \"marker\": {\"color\": \"#00cc96\"}, \"name\": \"time\", \"offsetgroup\": \"time\", \"orientation\": \"h\", \"showlegend\": true, \"textposition\": \"auto\", \"type\": \"bar\", \"x\": [240801], \"xaxis\": \"x\", \"y\": [\"time\"], \"yaxis\": \"y\"}, {\"alignmentgroup\": \"True\", \"hovertemplate\": \"word=%{y}<br>freq=%{x}<extra></extra>\", \"legendgroup\": \"realy\", \"marker\": {\"color\": \"#ab63fa\"}, \"name\": \"realy\", \"offsetgroup\": \"realy\", \"orientation\": \"h\", \"showlegend\": true, \"textposition\": \"auto\", \"type\": \"bar\", \"x\": [229837], \"xaxis\": \"x\", \"y\": [\"realy\"], \"yaxis\": \"y\"}, {\"alignmentgroup\": \"True\", \"hovertemplate\": \"word=%{y}<br>freq=%{x}<extra></extra>\", \"legendgroup\": \"said\", \"marker\": {\"color\": \"#FFA15A\"}, \"name\": \"said\", \"offsetgroup\": \"said\", \"orientation\": \"h\", \"showlegend\": true, \"textposition\": \"auto\", \"type\": \"bar\", \"x\": [195220], \"xaxis\": \"x\", \"y\": [\"said\"], \"yaxis\": \"y\"}, {\"alignmentgroup\": \"True\", \"hovertemplate\": \"word=%{y}<br>freq=%{x}<extra></extra>\", \"legendgroup\": \"wel\", \"marker\": {\"color\": \"#19d3f3\"}, \"name\": \"wel\", \"offsetgroup\": \"wel\", \"orientation\": \"h\", \"showlegend\": true, \"textposition\": \"auto\", \"type\": \"bar\", \"x\": [189629], \"xaxis\": \"x\", \"y\": [\"wel\"], \"yaxis\": \"y\"}, {\"alignmentgroup\": \"True\", \"hovertemplate\": \"word=%{y}<br>freq=%{x}<extra></extra>\", \"legendgroup\": \"something\", \"marker\": {\"color\": \"#FF6692\"}, \"name\": \"something\", \"offsetgroup\": \"something\", \"orientation\": \"h\", \"showlegend\": true, \"textposition\": \"auto\", \"type\": \"bar\", \"x\": [189565], \"xaxis\": \"x\", \"y\": [\"something\"], \"yaxis\": \"y\"}, {\"alignmentgroup\": \"True\", \"hovertemplate\": \"word=%{y}<br>freq=%{x}<extra></extra>\", \"legendgroup\": \"want\", \"marker\": {\"color\": \"#B6E880\"}, \"name\": \"want\", \"offsetgroup\": \"want\", \"orientation\": \"h\", \"showlegend\": true, \"textposition\": \"auto\", \"type\": \"bar\", \"x\": [186316], \"xaxis\": \"x\", \"y\": [\"want\"], \"yaxis\": \"y\"}, {\"alignmentgroup\": \"True\", \"hovertemplate\": \"word=%{y}<br>freq=%{x}<extra></extra>\", \"legendgroup\": \"could\", \"marker\": {\"color\": \"#FF97FF\"}, \"name\": \"could\", \"offsetgroup\": \"could\", \"orientation\": \"h\", \"showlegend\": true, \"textposition\": \"auto\", \"type\": \"bar\", \"x\": [183559], \"xaxis\": \"x\", \"y\": [\"could\"], \"yaxis\": \"y\"}, {\"alignmentgroup\": \"True\", \"hovertemplate\": \"word=%{y}<br>freq=%{x}<extra></extra>\", \"legendgroup\": \"way\", \"marker\": {\"color\": \"#FECB52\"}, \"name\": \"way\", \"offsetgroup\": \"way\", \"orientation\": \"h\", \"showlegend\": true, \"textposition\": \"auto\", \"type\": \"bar\", \"x\": [179414], \"xaxis\": \"x\", \"y\": [\"way\"], \"yaxis\": \"y\"}, {\"alignmentgroup\": \"True\", \"hovertemplate\": \"word=%{y}<br>freq=%{x}<extra></extra>\", \"legendgroup\": \"things\", \"marker\": {\"color\": \"#636efa\"}, \"name\": \"things\", \"offsetgroup\": \"things\", \"orientation\": \"h\", \"showlegend\": true, \"textposition\": \"auto\", \"type\": \"bar\", \"x\": [177116], \"xaxis\": \"x\", \"y\": [\"things\"], \"yaxis\": \"y\"}, {\"alignmentgroup\": \"True\", \"hovertemplate\": \"word=%{y}<br>freq=%{x}<extra></extra>\", \"legendgroup\": \"even\", \"marker\": {\"color\": \"#EF553B\"}, \"name\": \"even\", \"offsetgroup\": \"even\", \"orientation\": \"h\", \"showlegend\": true, \"textposition\": \"auto\", \"type\": \"bar\", \"x\": [177062], \"xaxis\": \"x\", \"y\": [\"even\"], \"yaxis\": \"y\"}, {\"alignmentgroup\": \"True\", \"hovertemplate\": \"word=%{y}<br>freq=%{x}<extra></extra>\", \"legendgroup\": \"se\", \"marker\": {\"color\": \"#00cc96\"}, \"name\": \"se\", \"offsetgroup\": \"se\", \"orientation\": \"h\", \"showlegend\": true, \"textposition\": \"auto\", \"type\": \"bar\", \"x\": [175485], \"xaxis\": \"x\", \"y\": [\"se\"], \"yaxis\": \"y\"}, {\"alignmentgroup\": \"True\", \"hovertemplate\": \"word=%{y}<br>freq=%{x}<extra></extra>\", \"legendgroup\": \"much\", \"marker\": {\"color\": \"#ab63fa\"}, \"name\": \"much\", \"offsetgroup\": \"much\", \"orientation\": \"h\", \"showlegend\": true, \"textposition\": \"auto\", \"type\": \"bar\", \"x\": [170248], \"xaxis\": \"x\", \"y\": [\"much\"], \"yaxis\": \"y\"}, {\"alignmentgroup\": \"True\", \"hovertemplate\": \"word=%{y}<br>freq=%{x}<extra></extra>\", \"legendgroup\": \"back\", \"marker\": {\"color\": \"#FFA15A\"}, \"name\": \"back\", \"offsetgroup\": \"back\", \"orientation\": \"h\", \"showlegend\": true, \"textposition\": \"auto\", \"type\": \"bar\", \"x\": [170073], \"xaxis\": \"x\", \"y\": [\"back\"], \"yaxis\": \"y\"}],\n",
              "                        {\"barmode\": \"relative\", \"height\": 700, \"legend\": {\"title\": {\"text\": \"word\"}, \"tracegroupgap\": 0}, \"template\": {\"data\": {\"bar\": [{\"error_x\": {\"color\": \"#2a3f5f\"}, \"error_y\": {\"color\": \"#2a3f5f\"}, \"marker\": {\"line\": {\"color\": \"#E5ECF6\", \"width\": 0.5}}, \"type\": \"bar\"}], \"barpolar\": [{\"marker\": {\"line\": {\"color\": \"#E5ECF6\", \"width\": 0.5}}, \"type\": \"barpolar\"}], \"carpet\": [{\"aaxis\": {\"endlinecolor\": \"#2a3f5f\", \"gridcolor\": \"white\", \"linecolor\": \"white\", \"minorgridcolor\": \"white\", \"startlinecolor\": \"#2a3f5f\"}, \"baxis\": {\"endlinecolor\": \"#2a3f5f\", \"gridcolor\": \"white\", \"linecolor\": \"white\", \"minorgridcolor\": \"white\", \"startlinecolor\": \"#2a3f5f\"}, \"type\": \"carpet\"}], \"choropleth\": [{\"colorbar\": {\"outlinewidth\": 0, \"ticks\": \"\"}, \"type\": \"choropleth\"}], \"contour\": [{\"colorbar\": {\"outlinewidth\": 0, \"ticks\": \"\"}, \"colorscale\": [[0.0, \"#0d0887\"], [0.1111111111111111, \"#46039f\"], [0.2222222222222222, \"#7201a8\"], [0.3333333333333333, \"#9c179e\"], [0.4444444444444444, \"#bd3786\"], [0.5555555555555556, \"#d8576b\"], [0.6666666666666666, \"#ed7953\"], [0.7777777777777778, \"#fb9f3a\"], [0.8888888888888888, \"#fdca26\"], [1.0, \"#f0f921\"]], \"type\": \"contour\"}], \"contourcarpet\": [{\"colorbar\": {\"outlinewidth\": 0, \"ticks\": \"\"}, \"type\": \"contourcarpet\"}], \"heatmap\": [{\"colorbar\": {\"outlinewidth\": 0, \"ticks\": \"\"}, \"colorscale\": [[0.0, \"#0d0887\"], [0.1111111111111111, \"#46039f\"], [0.2222222222222222, \"#7201a8\"], [0.3333333333333333, \"#9c179e\"], [0.4444444444444444, \"#bd3786\"], [0.5555555555555556, \"#d8576b\"], [0.6666666666666666, \"#ed7953\"], [0.7777777777777778, \"#fb9f3a\"], [0.8888888888888888, \"#fdca26\"], [1.0, \"#f0f921\"]], \"type\": \"heatmap\"}], \"heatmapgl\": [{\"colorbar\": {\"outlinewidth\": 0, \"ticks\": \"\"}, \"colorscale\": [[0.0, \"#0d0887\"], [0.1111111111111111, \"#46039f\"], [0.2222222222222222, \"#7201a8\"], [0.3333333333333333, \"#9c179e\"], [0.4444444444444444, \"#bd3786\"], [0.5555555555555556, \"#d8576b\"], [0.6666666666666666, \"#ed7953\"], [0.7777777777777778, \"#fb9f3a\"], [0.8888888888888888, \"#fdca26\"], [1.0, \"#f0f921\"]], \"type\": \"heatmapgl\"}], \"histogram\": [{\"marker\": {\"colorbar\": {\"outlinewidth\": 0, \"ticks\": \"\"}}, \"type\": \"histogram\"}], \"histogram2d\": [{\"colorbar\": {\"outlinewidth\": 0, \"ticks\": \"\"}, \"colorscale\": [[0.0, \"#0d0887\"], [0.1111111111111111, \"#46039f\"], [0.2222222222222222, \"#7201a8\"], [0.3333333333333333, \"#9c179e\"], [0.4444444444444444, \"#bd3786\"], [0.5555555555555556, \"#d8576b\"], [0.6666666666666666, \"#ed7953\"], [0.7777777777777778, \"#fb9f3a\"], [0.8888888888888888, \"#fdca26\"], [1.0, \"#f0f921\"]], \"type\": \"histogram2d\"}], \"histogram2dcontour\": [{\"colorbar\": {\"outlinewidth\": 0, \"ticks\": \"\"}, \"colorscale\": [[0.0, \"#0d0887\"], [0.1111111111111111, \"#46039f\"], [0.2222222222222222, \"#7201a8\"], [0.3333333333333333, \"#9c179e\"], [0.4444444444444444, \"#bd3786\"], [0.5555555555555556, \"#d8576b\"], [0.6666666666666666, \"#ed7953\"], [0.7777777777777778, \"#fb9f3a\"], [0.8888888888888888, \"#fdca26\"], [1.0, \"#f0f921\"]], \"type\": \"histogram2dcontour\"}], \"mesh3d\": [{\"colorbar\": {\"outlinewidth\": 0, \"ticks\": \"\"}, \"type\": \"mesh3d\"}], \"parcoords\": [{\"line\": {\"colorbar\": {\"outlinewidth\": 0, \"ticks\": \"\"}}, \"type\": \"parcoords\"}], \"pie\": [{\"automargin\": true, \"type\": \"pie\"}], \"scatter\": [{\"marker\": {\"colorbar\": {\"outlinewidth\": 0, \"ticks\": \"\"}}, \"type\": \"scatter\"}], \"scatter3d\": [{\"line\": {\"colorbar\": {\"outlinewidth\": 0, \"ticks\": \"\"}}, \"marker\": {\"colorbar\": {\"outlinewidth\": 0, \"ticks\": \"\"}}, \"type\": \"scatter3d\"}], \"scattercarpet\": [{\"marker\": {\"colorbar\": {\"outlinewidth\": 0, \"ticks\": \"\"}}, \"type\": \"scattercarpet\"}], \"scattergeo\": [{\"marker\": {\"colorbar\": {\"outlinewidth\": 0, \"ticks\": \"\"}}, \"type\": \"scattergeo\"}], \"scattergl\": [{\"marker\": {\"colorbar\": {\"outlinewidth\": 0, \"ticks\": \"\"}}, \"type\": \"scattergl\"}], \"scattermapbox\": [{\"marker\": {\"colorbar\": {\"outlinewidth\": 0, \"ticks\": \"\"}}, \"type\": \"scattermapbox\"}], \"scatterpolar\": [{\"marker\": {\"colorbar\": {\"outlinewidth\": 0, \"ticks\": \"\"}}, \"type\": \"scatterpolar\"}], \"scatterpolargl\": [{\"marker\": {\"colorbar\": {\"outlinewidth\": 0, \"ticks\": \"\"}}, \"type\": \"scatterpolargl\"}], \"scatterternary\": [{\"marker\": {\"colorbar\": {\"outlinewidth\": 0, \"ticks\": \"\"}}, \"type\": \"scatterternary\"}], \"surface\": [{\"colorbar\": {\"outlinewidth\": 0, \"ticks\": \"\"}, \"colorscale\": [[0.0, \"#0d0887\"], [0.1111111111111111, \"#46039f\"], [0.2222222222222222, \"#7201a8\"], [0.3333333333333333, \"#9c179e\"], [0.4444444444444444, \"#bd3786\"], [0.5555555555555556, \"#d8576b\"], [0.6666666666666666, \"#ed7953\"], [0.7777777777777778, \"#fb9f3a\"], [0.8888888888888888, \"#fdca26\"], [1.0, \"#f0f921\"]], \"type\": \"surface\"}], \"table\": [{\"cells\": {\"fill\": {\"color\": \"#EBF0F8\"}, \"line\": {\"color\": \"white\"}}, \"header\": {\"fill\": {\"color\": \"#C8D4E3\"}, \"line\": {\"color\": \"white\"}}, \"type\": \"table\"}]}, \"layout\": {\"annotationdefaults\": {\"arrowcolor\": \"#2a3f5f\", \"arrowhead\": 0, \"arrowwidth\": 1}, \"coloraxis\": {\"colorbar\": {\"outlinewidth\": 0, \"ticks\": \"\"}}, \"colorscale\": {\"diverging\": [[0, \"#8e0152\"], [0.1, \"#c51b7d\"], [0.2, \"#de77ae\"], [0.3, \"#f1b6da\"], [0.4, \"#fde0ef\"], [0.5, \"#f7f7f7\"], [0.6, \"#e6f5d0\"], [0.7, \"#b8e186\"], [0.8, \"#7fbc41\"], [0.9, \"#4d9221\"], [1, \"#276419\"]], \"sequential\": [[0.0, \"#0d0887\"], [0.1111111111111111, \"#46039f\"], [0.2222222222222222, \"#7201a8\"], [0.3333333333333333, \"#9c179e\"], [0.4444444444444444, \"#bd3786\"], [0.5555555555555556, \"#d8576b\"], [0.6666666666666666, \"#ed7953\"], [0.7777777777777778, \"#fb9f3a\"], [0.8888888888888888, \"#fdca26\"], [1.0, \"#f0f921\"]], \"sequentialminus\": [[0.0, \"#0d0887\"], [0.1111111111111111, \"#46039f\"], [0.2222222222222222, \"#7201a8\"], [0.3333333333333333, \"#9c179e\"], [0.4444444444444444, \"#bd3786\"], [0.5555555555555556, \"#d8576b\"], [0.6666666666666666, \"#ed7953\"], [0.7777777777777778, \"#fb9f3a\"], [0.8888888888888888, \"#fdca26\"], [1.0, \"#f0f921\"]]}, \"colorway\": [\"#636efa\", \"#EF553B\", \"#00cc96\", \"#ab63fa\", \"#FFA15A\", \"#19d3f3\", \"#FF6692\", \"#B6E880\", \"#FF97FF\", \"#FECB52\"], \"font\": {\"color\": \"#2a3f5f\"}, \"geo\": {\"bgcolor\": \"white\", \"lakecolor\": \"white\", \"landcolor\": \"#E5ECF6\", \"showlakes\": true, \"showland\": true, \"subunitcolor\": \"white\"}, \"hoverlabel\": {\"align\": \"left\"}, \"hovermode\": \"closest\", \"mapbox\": {\"style\": \"light\"}, \"paper_bgcolor\": \"white\", \"plot_bgcolor\": \"#E5ECF6\", \"polar\": {\"angularaxis\": {\"gridcolor\": \"white\", \"linecolor\": \"white\", \"ticks\": \"\"}, \"bgcolor\": \"#E5ECF6\", \"radialaxis\": {\"gridcolor\": \"white\", \"linecolor\": \"white\", \"ticks\": \"\"}}, \"scene\": {\"xaxis\": {\"backgroundcolor\": \"#E5ECF6\", \"gridcolor\": \"white\", \"gridwidth\": 2, \"linecolor\": \"white\", \"showbackground\": true, \"ticks\": \"\", \"zerolinecolor\": \"white\"}, \"yaxis\": {\"backgroundcolor\": \"#E5ECF6\", \"gridcolor\": \"white\", \"gridwidth\": 2, \"linecolor\": \"white\", \"showbackground\": true, \"ticks\": \"\", \"zerolinecolor\": \"white\"}, \"zaxis\": {\"backgroundcolor\": \"#E5ECF6\", \"gridcolor\": \"white\", \"gridwidth\": 2, \"linecolor\": \"white\", \"showbackground\": true, \"ticks\": \"\", \"zerolinecolor\": \"white\"}}, \"shapedefaults\": {\"line\": {\"color\": \"#2a3f5f\"}}, \"ternary\": {\"aaxis\": {\"gridcolor\": \"white\", \"linecolor\": \"white\", \"ticks\": \"\"}, \"baxis\": {\"gridcolor\": \"white\", \"linecolor\": \"white\", \"ticks\": \"\"}, \"bgcolor\": \"#E5ECF6\", \"caxis\": {\"gridcolor\": \"white\", \"linecolor\": \"white\", \"ticks\": \"\"}}, \"title\": {\"x\": 0.05}, \"xaxis\": {\"automargin\": true, \"gridcolor\": \"white\", \"linecolor\": \"white\", \"ticks\": \"\", \"title\": {\"standoff\": 15}, \"zerolinecolor\": \"white\", \"zerolinewidth\": 2}, \"yaxis\": {\"automargin\": true, \"gridcolor\": \"white\", \"linecolor\": \"white\", \"ticks\": \"\", \"title\": {\"standoff\": 15}, \"zerolinecolor\": \"white\", \"zerolinewidth\": 2}}}, \"title\": {\"text\": \"Commmon Words in Text\"}, \"width\": 700, \"xaxis\": {\"anchor\": \"y\", \"domain\": [0.0, 1.0], \"title\": {\"text\": \"freq\"}}, \"yaxis\": {\"anchor\": \"x\", \"categoryarray\": [\"back\", \"much\", \"se\", \"even\", \"things\", \"way\", \"could\", \"want\", \"something\", \"wel\", \"said\", \"realy\", \"time\", \"wil\", \"god\", \"get\", \"know\", \"think\", \"one\", \"would\", \"al\", \"people\", \"like\", \"not\", \"wrote\"], \"categoryorder\": \"array\", \"domain\": [0.0, 1.0], \"title\": {\"text\": \"word\"}}},\n",
              "                        {\"responsive\": true}\n",
              "                    ).then(function(){\n",
              "                            \n",
              "var gd = document.getElementById('92316f37-e4c4-4d0e-b838-89feaa1f867f');\n",
              "var x = new MutationObserver(function (mutations, observer) {{\n",
              "        var display = window.getComputedStyle(gd).display;\n",
              "        if (!display || display === 'none') {{\n",
              "            console.log([gd, 'removed!']);\n",
              "            Plotly.purge(gd);\n",
              "            observer.disconnect();\n",
              "        }}\n",
              "}});\n",
              "\n",
              "// Listen for the removal of the full notebook cells\n",
              "var notebookContainer = gd.closest('#notebook-container');\n",
              "if (notebookContainer) {{\n",
              "    x.observe(notebookContainer, {childList: true});\n",
              "}}\n",
              "\n",
              "// Listen for the clearing of the current output cell\n",
              "var outputEl = gd.closest('.output');\n",
              "if (outputEl) {{\n",
              "    x.observe(outputEl, {childList: true});\n",
              "}}\n",
              "\n",
              "                        })\n",
              "                };\n",
              "                \n",
              "            </script>\n",
              "        </div>\n",
              "</body>\n",
              "</html>"
            ]
          },
          "metadata": {
            "tags": []
          }
        }
      ]
    },
    {
      "cell_type": "code",
      "metadata": {
        "id": "KcoMSabZ-ba1",
        "colab_type": "code",
        "outputId": "1e66862f-72d5-4a6b-8f60-14c8aaa257ac",
        "colab": {
          "base_uri": "https://localhost:8080/",
          "height": 542
        }
      },
      "source": [
        "fig = px.treemap(temp, values='freq', path=['word'], title='Tree of Most Common Words')\n",
        "fig.show()"
      ],
      "execution_count": 0,
      "outputs": [
        {
          "output_type": "display_data",
          "data": {
            "text/html": [
              "<html>\n",
              "<head><meta charset=\"utf-8\" /></head>\n",
              "<body>\n",
              "    <div>\n",
              "            <script src=\"https://cdnjs.cloudflare.com/ajax/libs/mathjax/2.7.5/MathJax.js?config=TeX-AMS-MML_SVG\"></script><script type=\"text/javascript\">if (window.MathJax) {MathJax.Hub.Config({SVG: {font: \"STIX-Web\"}});}</script>\n",
              "                <script type=\"text/javascript\">window.PlotlyConfig = {MathJaxConfig: 'local'};</script>\n",
              "        <script src=\"https://cdn.plot.ly/plotly-latest.min.js\"></script>    \n",
              "            <div id=\"703f5282-d443-458c-bed9-e7c9aa3cb5c5\" class=\"plotly-graph-div\" style=\"height:525px; width:100%;\"></div>\n",
              "            <script type=\"text/javascript\">\n",
              "                \n",
              "                    window.PLOTLYENV=window.PLOTLYENV || {};\n",
              "                    \n",
              "                if (document.getElementById(\"703f5282-d443-458c-bed9-e7c9aa3cb5c5\")) {\n",
              "                    Plotly.newPlot(\n",
              "                        '703f5282-d443-458c-bed9-e7c9aa3cb5c5',\n",
              "                        [{\"branchvalues\": \"total\", \"domain\": {\"x\": [0.0, 1.0], \"y\": [0.0, 1.0]}, \"hovertemplate\": \"labels=%{label}<br>freq=%{value}<br>parent=%{parent}<br>id=%{id}<extra></extra>\", \"ids\": [\"al\", \"back\", \"could\", \"even\", \"get\", \"god\", \"know\", \"like\", \"much\", \"not\", \"one\", \"people\", \"realy\", \"said\", \"se\", \"something\", \"things\", \"think\", \"time\", \"want\", \"way\", \"wel\", \"wil\", \"would\", \"wrote\"], \"labels\": [\"al\", \"back\", \"could\", \"even\", \"get\", \"god\", \"know\", \"like\", \"much\", \"not\", \"one\", \"people\", \"realy\", \"said\", \"se\", \"something\", \"things\", \"think\", \"time\", \"want\", \"way\", \"wel\", \"wil\", \"would\", \"wrote\"], \"name\": \"\", \"parents\": [\"\", \"\", \"\", \"\", \"\", \"\", \"\", \"\", \"\", \"\", \"\", \"\", \"\", \"\", \"\", \"\", \"\", \"\", \"\", \"\", \"\", \"\", \"\", \"\", \"\"], \"type\": \"treemap\", \"values\": [372952, 170073, 183559, 177062, 272251, 258049, 304777, 510122, 170248, 796232, 332387, 373346, 229837, 195220, 175485, 189565, 177116, 306067, 240801, 186316, 179414, 189629, 252041, 342582, 904206]}],\n",
              "                        {\"legend\": {\"tracegroupgap\": 0}, \"template\": {\"data\": {\"bar\": [{\"error_x\": {\"color\": \"#2a3f5f\"}, \"error_y\": {\"color\": \"#2a3f5f\"}, \"marker\": {\"line\": {\"color\": \"#E5ECF6\", \"width\": 0.5}}, \"type\": \"bar\"}], \"barpolar\": [{\"marker\": {\"line\": {\"color\": \"#E5ECF6\", \"width\": 0.5}}, \"type\": \"barpolar\"}], \"carpet\": [{\"aaxis\": {\"endlinecolor\": \"#2a3f5f\", \"gridcolor\": \"white\", \"linecolor\": \"white\", \"minorgridcolor\": \"white\", \"startlinecolor\": \"#2a3f5f\"}, \"baxis\": {\"endlinecolor\": \"#2a3f5f\", \"gridcolor\": \"white\", \"linecolor\": \"white\", \"minorgridcolor\": \"white\", \"startlinecolor\": \"#2a3f5f\"}, \"type\": \"carpet\"}], \"choropleth\": [{\"colorbar\": {\"outlinewidth\": 0, \"ticks\": \"\"}, \"type\": \"choropleth\"}], \"contour\": [{\"colorbar\": {\"outlinewidth\": 0, \"ticks\": \"\"}, \"colorscale\": [[0.0, \"#0d0887\"], [0.1111111111111111, \"#46039f\"], [0.2222222222222222, \"#7201a8\"], [0.3333333333333333, \"#9c179e\"], [0.4444444444444444, \"#bd3786\"], [0.5555555555555556, \"#d8576b\"], [0.6666666666666666, \"#ed7953\"], [0.7777777777777778, \"#fb9f3a\"], [0.8888888888888888, \"#fdca26\"], [1.0, \"#f0f921\"]], \"type\": \"contour\"}], \"contourcarpet\": [{\"colorbar\": {\"outlinewidth\": 0, \"ticks\": \"\"}, \"type\": \"contourcarpet\"}], \"heatmap\": [{\"colorbar\": {\"outlinewidth\": 0, \"ticks\": \"\"}, \"colorscale\": [[0.0, \"#0d0887\"], [0.1111111111111111, \"#46039f\"], [0.2222222222222222, \"#7201a8\"], [0.3333333333333333, \"#9c179e\"], [0.4444444444444444, \"#bd3786\"], [0.5555555555555556, \"#d8576b\"], [0.6666666666666666, \"#ed7953\"], [0.7777777777777778, \"#fb9f3a\"], [0.8888888888888888, \"#fdca26\"], [1.0, \"#f0f921\"]], \"type\": \"heatmap\"}], \"heatmapgl\": [{\"colorbar\": {\"outlinewidth\": 0, \"ticks\": \"\"}, \"colorscale\": [[0.0, \"#0d0887\"], [0.1111111111111111, \"#46039f\"], [0.2222222222222222, \"#7201a8\"], [0.3333333333333333, \"#9c179e\"], [0.4444444444444444, \"#bd3786\"], [0.5555555555555556, \"#d8576b\"], [0.6666666666666666, \"#ed7953\"], [0.7777777777777778, \"#fb9f3a\"], [0.8888888888888888, \"#fdca26\"], [1.0, \"#f0f921\"]], \"type\": \"heatmapgl\"}], \"histogram\": [{\"marker\": {\"colorbar\": {\"outlinewidth\": 0, \"ticks\": \"\"}}, \"type\": \"histogram\"}], \"histogram2d\": [{\"colorbar\": {\"outlinewidth\": 0, \"ticks\": \"\"}, \"colorscale\": [[0.0, \"#0d0887\"], [0.1111111111111111, \"#46039f\"], [0.2222222222222222, \"#7201a8\"], [0.3333333333333333, \"#9c179e\"], [0.4444444444444444, \"#bd3786\"], [0.5555555555555556, \"#d8576b\"], [0.6666666666666666, \"#ed7953\"], [0.7777777777777778, \"#fb9f3a\"], [0.8888888888888888, \"#fdca26\"], [1.0, \"#f0f921\"]], \"type\": \"histogram2d\"}], \"histogram2dcontour\": [{\"colorbar\": {\"outlinewidth\": 0, \"ticks\": \"\"}, \"colorscale\": [[0.0, \"#0d0887\"], [0.1111111111111111, \"#46039f\"], [0.2222222222222222, \"#7201a8\"], [0.3333333333333333, \"#9c179e\"], [0.4444444444444444, \"#bd3786\"], [0.5555555555555556, \"#d8576b\"], [0.6666666666666666, \"#ed7953\"], [0.7777777777777778, \"#fb9f3a\"], [0.8888888888888888, \"#fdca26\"], [1.0, \"#f0f921\"]], \"type\": \"histogram2dcontour\"}], \"mesh3d\": [{\"colorbar\": {\"outlinewidth\": 0, \"ticks\": \"\"}, \"type\": \"mesh3d\"}], \"parcoords\": [{\"line\": {\"colorbar\": {\"outlinewidth\": 0, \"ticks\": \"\"}}, \"type\": \"parcoords\"}], \"pie\": [{\"automargin\": true, \"type\": \"pie\"}], \"scatter\": [{\"marker\": {\"colorbar\": {\"outlinewidth\": 0, \"ticks\": \"\"}}, \"type\": \"scatter\"}], \"scatter3d\": [{\"line\": {\"colorbar\": {\"outlinewidth\": 0, \"ticks\": \"\"}}, \"marker\": {\"colorbar\": {\"outlinewidth\": 0, \"ticks\": \"\"}}, \"type\": \"scatter3d\"}], \"scattercarpet\": [{\"marker\": {\"colorbar\": {\"outlinewidth\": 0, \"ticks\": \"\"}}, \"type\": \"scattercarpet\"}], \"scattergeo\": [{\"marker\": {\"colorbar\": {\"outlinewidth\": 0, \"ticks\": \"\"}}, \"type\": \"scattergeo\"}], \"scattergl\": [{\"marker\": {\"colorbar\": {\"outlinewidth\": 0, \"ticks\": \"\"}}, \"type\": \"scattergl\"}], \"scattermapbox\": [{\"marker\": {\"colorbar\": {\"outlinewidth\": 0, \"ticks\": \"\"}}, \"type\": \"scattermapbox\"}], \"scatterpolar\": [{\"marker\": {\"colorbar\": {\"outlinewidth\": 0, \"ticks\": \"\"}}, \"type\": \"scatterpolar\"}], \"scatterpolargl\": [{\"marker\": {\"colorbar\": {\"outlinewidth\": 0, \"ticks\": \"\"}}, \"type\": \"scatterpolargl\"}], \"scatterternary\": [{\"marker\": {\"colorbar\": {\"outlinewidth\": 0, \"ticks\": \"\"}}, \"type\": \"scatterternary\"}], \"surface\": [{\"colorbar\": {\"outlinewidth\": 0, \"ticks\": \"\"}, \"colorscale\": [[0.0, \"#0d0887\"], [0.1111111111111111, \"#46039f\"], [0.2222222222222222, \"#7201a8\"], [0.3333333333333333, \"#9c179e\"], [0.4444444444444444, \"#bd3786\"], [0.5555555555555556, \"#d8576b\"], [0.6666666666666666, \"#ed7953\"], [0.7777777777777778, \"#fb9f3a\"], [0.8888888888888888, \"#fdca26\"], [1.0, \"#f0f921\"]], \"type\": \"surface\"}], \"table\": [{\"cells\": {\"fill\": {\"color\": \"#EBF0F8\"}, \"line\": {\"color\": \"white\"}}, \"header\": {\"fill\": {\"color\": \"#C8D4E3\"}, \"line\": {\"color\": \"white\"}}, \"type\": \"table\"}]}, \"layout\": {\"annotationdefaults\": {\"arrowcolor\": \"#2a3f5f\", \"arrowhead\": 0, \"arrowwidth\": 1}, \"coloraxis\": {\"colorbar\": {\"outlinewidth\": 0, \"ticks\": \"\"}}, \"colorscale\": {\"diverging\": [[0, \"#8e0152\"], [0.1, \"#c51b7d\"], [0.2, \"#de77ae\"], [0.3, \"#f1b6da\"], [0.4, \"#fde0ef\"], [0.5, \"#f7f7f7\"], [0.6, \"#e6f5d0\"], [0.7, \"#b8e186\"], [0.8, \"#7fbc41\"], [0.9, \"#4d9221\"], [1, \"#276419\"]], \"sequential\": [[0.0, \"#0d0887\"], [0.1111111111111111, \"#46039f\"], [0.2222222222222222, \"#7201a8\"], [0.3333333333333333, \"#9c179e\"], [0.4444444444444444, \"#bd3786\"], [0.5555555555555556, \"#d8576b\"], [0.6666666666666666, \"#ed7953\"], [0.7777777777777778, \"#fb9f3a\"], [0.8888888888888888, \"#fdca26\"], [1.0, \"#f0f921\"]], \"sequentialminus\": [[0.0, \"#0d0887\"], [0.1111111111111111, \"#46039f\"], [0.2222222222222222, \"#7201a8\"], [0.3333333333333333, \"#9c179e\"], [0.4444444444444444, \"#bd3786\"], [0.5555555555555556, \"#d8576b\"], [0.6666666666666666, \"#ed7953\"], [0.7777777777777778, \"#fb9f3a\"], [0.8888888888888888, \"#fdca26\"], [1.0, \"#f0f921\"]]}, \"colorway\": [\"#636efa\", \"#EF553B\", \"#00cc96\", \"#ab63fa\", \"#FFA15A\", \"#19d3f3\", \"#FF6692\", \"#B6E880\", \"#FF97FF\", \"#FECB52\"], \"font\": {\"color\": \"#2a3f5f\"}, \"geo\": {\"bgcolor\": \"white\", \"lakecolor\": \"white\", \"landcolor\": \"#E5ECF6\", \"showlakes\": true, \"showland\": true, \"subunitcolor\": \"white\"}, \"hoverlabel\": {\"align\": \"left\"}, \"hovermode\": \"closest\", \"mapbox\": {\"style\": \"light\"}, \"paper_bgcolor\": \"white\", \"plot_bgcolor\": \"#E5ECF6\", \"polar\": {\"angularaxis\": {\"gridcolor\": \"white\", \"linecolor\": \"white\", \"ticks\": \"\"}, \"bgcolor\": \"#E5ECF6\", \"radialaxis\": {\"gridcolor\": \"white\", \"linecolor\": \"white\", \"ticks\": \"\"}}, \"scene\": {\"xaxis\": {\"backgroundcolor\": \"#E5ECF6\", \"gridcolor\": \"white\", \"gridwidth\": 2, \"linecolor\": \"white\", \"showbackground\": true, \"ticks\": \"\", \"zerolinecolor\": \"white\"}, \"yaxis\": {\"backgroundcolor\": \"#E5ECF6\", \"gridcolor\": \"white\", \"gridwidth\": 2, \"linecolor\": \"white\", \"showbackground\": true, \"ticks\": \"\", \"zerolinecolor\": \"white\"}, \"zaxis\": {\"backgroundcolor\": \"#E5ECF6\", \"gridcolor\": \"white\", \"gridwidth\": 2, \"linecolor\": \"white\", \"showbackground\": true, \"ticks\": \"\", \"zerolinecolor\": \"white\"}}, \"shapedefaults\": {\"line\": {\"color\": \"#2a3f5f\"}}, \"ternary\": {\"aaxis\": {\"gridcolor\": \"white\", \"linecolor\": \"white\", \"ticks\": \"\"}, \"baxis\": {\"gridcolor\": \"white\", \"linecolor\": \"white\", \"ticks\": \"\"}, \"bgcolor\": \"#E5ECF6\", \"caxis\": {\"gridcolor\": \"white\", \"linecolor\": \"white\", \"ticks\": \"\"}}, \"title\": {\"x\": 0.05}, \"xaxis\": {\"automargin\": true, \"gridcolor\": \"white\", \"linecolor\": \"white\", \"ticks\": \"\", \"title\": {\"standoff\": 15}, \"zerolinecolor\": \"white\", \"zerolinewidth\": 2}, \"yaxis\": {\"automargin\": true, \"gridcolor\": \"white\", \"linecolor\": \"white\", \"ticks\": \"\", \"title\": {\"standoff\": 15}, \"zerolinecolor\": \"white\", \"zerolinewidth\": 2}}}, \"title\": {\"text\": \"Tree of Most Common Words\"}},\n",
              "                        {\"responsive\": true}\n",
              "                    ).then(function(){\n",
              "                            \n",
              "var gd = document.getElementById('703f5282-d443-458c-bed9-e7c9aa3cb5c5');\n",
              "var x = new MutationObserver(function (mutations, observer) {{\n",
              "        var display = window.getComputedStyle(gd).display;\n",
              "        if (!display || display === 'none') {{\n",
              "            console.log([gd, 'removed!']);\n",
              "            Plotly.purge(gd);\n",
              "            observer.disconnect();\n",
              "        }}\n",
              "}});\n",
              "\n",
              "// Listen for the removal of the full notebook cells\n",
              "var notebookContainer = gd.closest('#notebook-container');\n",
              "if (notebookContainer) {{\n",
              "    x.observe(notebookContainer, {childList: true});\n",
              "}}\n",
              "\n",
              "// Listen for the clearing of the current output cell\n",
              "var outputEl = gd.closest('.output');\n",
              "if (outputEl) {{\n",
              "    x.observe(outputEl, {childList: true});\n",
              "}}\n",
              "\n",
              "                        })\n",
              "                };\n",
              "                \n",
              "            </script>\n",
              "        </div>\n",
              "</body>\n",
              "</html>"
            ]
          },
          "metadata": {
            "tags": []
          }
        }
      ]
    },
    {
      "cell_type": "code",
      "metadata": {
        "id": "lcKbMjSO_Qw5",
        "colab_type": "code",
        "colab": {}
      },
      "source": [
        "text_fea_dict_introv = vectorize_words(X_train_I)\n",
        "sorted_text_fea_dict_introv = dict(sorted(text_fea_dict_introv.items(), key=lambda x: x[1] , reverse=True))\n",
        "sorted_text_occur_introv = np.array(list(sorted_text_fea_dict_introv.values()))"
      ],
      "execution_count": 0,
      "outputs": []
    },
    {
      "cell_type": "code",
      "metadata": {
        "id": "xVd861ADgSH9",
        "colab_type": "code",
        "outputId": "145e11d3-60b4-4f14-b789-78c45992227d",
        "colab": {
          "base_uri": "https://localhost:8080/",
          "height": 34
        }
      },
      "source": [
        "print(\"Total number of unique words used by introverts :\", len(sorted_text_fea_dict_introv))"
      ],
      "execution_count": 0,
      "outputs": [
        {
          "output_type": "stream",
          "text": [
            "Total number of unique words used by introverts : 56232\n"
          ],
          "name": "stdout"
        }
      ]
    },
    {
      "cell_type": "code",
      "metadata": {
        "id": "OhhThpmCgl3e",
        "colab_type": "code",
        "outputId": "5977cdbf-8acf-4697-ab53-942643ce1115",
        "colab": {
          "base_uri": "https://localhost:8080/",
          "height": 565
        }
      },
      "source": [
        "temp_introv = pd.DataFrame(pd.Series(index=list(text_fea_dict_introv.keys()), data=list(text_fea_dict_introv.values())).sort_values(ascending=False).head(25)).reset_index()\n",
        "temp_introv.columns = ['word', 'freq']\n",
        "temp_introv.style.background_gradient(cmap='Blues')"
      ],
      "execution_count": 0,
      "outputs": [
        {
          "output_type": "execute_result",
          "data": {
            "text/html": [
              "<style  type=\"text/css\" >\n",
              "    #T_cbed674e_a423_11ea_9f39_0242ac1c0002row0_col1 {\n",
              "            background-color:  #08306b;\n",
              "            color:  #f1f1f1;\n",
              "        }    #T_cbed674e_a423_11ea_9f39_0242ac1c0002row1_col1 {\n",
              "            background-color:  #2474b7;\n",
              "            color:  #f1f1f1;\n",
              "        }    #T_cbed674e_a423_11ea_9f39_0242ac1c0002row2_col1 {\n",
              "            background-color:  #9ac8e0;\n",
              "            color:  #000000;\n",
              "        }    #T_cbed674e_a423_11ea_9f39_0242ac1c0002row3_col1 {\n",
              "            background-color:  #caddf0;\n",
              "            color:  #000000;\n",
              "        }    #T_cbed674e_a423_11ea_9f39_0242ac1c0002row4_col1 {\n",
              "            background-color:  #ccdff1;\n",
              "            color:  #000000;\n",
              "        }    #T_cbed674e_a423_11ea_9f39_0242ac1c0002row5_col1 {\n",
              "            background-color:  #cde0f1;\n",
              "            color:  #000000;\n",
              "        }    #T_cbed674e_a423_11ea_9f39_0242ac1c0002row6_col1 {\n",
              "            background-color:  #d0e2f2;\n",
              "            color:  #000000;\n",
              "        }    #T_cbed674e_a423_11ea_9f39_0242ac1c0002row7_col1 {\n",
              "            background-color:  #d8e7f5;\n",
              "            color:  #000000;\n",
              "        }    #T_cbed674e_a423_11ea_9f39_0242ac1c0002row8_col1 {\n",
              "            background-color:  #d9e8f5;\n",
              "            color:  #000000;\n",
              "        }    #T_cbed674e_a423_11ea_9f39_0242ac1c0002row9_col1 {\n",
              "            background-color:  #dfecf7;\n",
              "            color:  #000000;\n",
              "        }    #T_cbed674e_a423_11ea_9f39_0242ac1c0002row10_col1 {\n",
              "            background-color:  #e3eef8;\n",
              "            color:  #000000;\n",
              "        }    #T_cbed674e_a423_11ea_9f39_0242ac1c0002row11_col1 {\n",
              "            background-color:  #e4eff9;\n",
              "            color:  #000000;\n",
              "        }    #T_cbed674e_a423_11ea_9f39_0242ac1c0002row12_col1 {\n",
              "            background-color:  #e8f1fa;\n",
              "            color:  #000000;\n",
              "        }    #T_cbed674e_a423_11ea_9f39_0242ac1c0002row13_col1 {\n",
              "            background-color:  #eaf2fb;\n",
              "            color:  #000000;\n",
              "        }    #T_cbed674e_a423_11ea_9f39_0242ac1c0002row14_col1 {\n",
              "            background-color:  #eaf3fb;\n",
              "            color:  #000000;\n",
              "        }    #T_cbed674e_a423_11ea_9f39_0242ac1c0002row15_col1 {\n",
              "            background-color:  #f2f7fd;\n",
              "            color:  #000000;\n",
              "        }    #T_cbed674e_a423_11ea_9f39_0242ac1c0002row16_col1 {\n",
              "            background-color:  #f2f7fd;\n",
              "            color:  #000000;\n",
              "        }    #T_cbed674e_a423_11ea_9f39_0242ac1c0002row17_col1 {\n",
              "            background-color:  #f2f8fd;\n",
              "            color:  #000000;\n",
              "        }    #T_cbed674e_a423_11ea_9f39_0242ac1c0002row18_col1 {\n",
              "            background-color:  #f2f8fd;\n",
              "            color:  #000000;\n",
              "        }    #T_cbed674e_a423_11ea_9f39_0242ac1c0002row19_col1 {\n",
              "            background-color:  #f3f8fe;\n",
              "            color:  #000000;\n",
              "        }    #T_cbed674e_a423_11ea_9f39_0242ac1c0002row20_col1 {\n",
              "            background-color:  #f5fafe;\n",
              "            color:  #000000;\n",
              "        }    #T_cbed674e_a423_11ea_9f39_0242ac1c0002row21_col1 {\n",
              "            background-color:  #f5fafe;\n",
              "            color:  #000000;\n",
              "        }    #T_cbed674e_a423_11ea_9f39_0242ac1c0002row22_col1 {\n",
              "            background-color:  #f5fafe;\n",
              "            color:  #000000;\n",
              "        }    #T_cbed674e_a423_11ea_9f39_0242ac1c0002row23_col1 {\n",
              "            background-color:  #f7fbff;\n",
              "            color:  #000000;\n",
              "        }    #T_cbed674e_a423_11ea_9f39_0242ac1c0002row24_col1 {\n",
              "            background-color:  #f7fbff;\n",
              "            color:  #000000;\n",
              "        }</style><table id=\"T_cbed674e_a423_11ea_9f39_0242ac1c0002\" ><thead>    <tr>        <th class=\"blank level0\" ></th>        <th class=\"col_heading level0 col0\" >word</th>        <th class=\"col_heading level0 col1\" >freq</th>    </tr></thead><tbody>\n",
              "                <tr>\n",
              "                        <th id=\"T_cbed674e_a423_11ea_9f39_0242ac1c0002level0_row0\" class=\"row_heading level0 row0\" >0</th>\n",
              "                        <td id=\"T_cbed674e_a423_11ea_9f39_0242ac1c0002row0_col0\" class=\"data row0 col0\" >wrote</td>\n",
              "                        <td id=\"T_cbed674e_a423_11ea_9f39_0242ac1c0002row0_col1\" class=\"data row0 col1\" >737829</td>\n",
              "            </tr>\n",
              "            <tr>\n",
              "                        <th id=\"T_cbed674e_a423_11ea_9f39_0242ac1c0002level0_row1\" class=\"row_heading level0 row1\" >1</th>\n",
              "                        <td id=\"T_cbed674e_a423_11ea_9f39_0242ac1c0002row1_col0\" class=\"data row1 col0\" >not</td>\n",
              "                        <td id=\"T_cbed674e_a423_11ea_9f39_0242ac1c0002row1_col1\" class=\"data row1 col1\" >575442</td>\n",
              "            </tr>\n",
              "            <tr>\n",
              "                        <th id=\"T_cbed674e_a423_11ea_9f39_0242ac1c0002level0_row2\" class=\"row_heading level0 row2\" >2</th>\n",
              "                        <td id=\"T_cbed674e_a423_11ea_9f39_0242ac1c0002row2_col0\" class=\"data row2 col0\" >like</td>\n",
              "                        <td id=\"T_cbed674e_a423_11ea_9f39_0242ac1c0002row2_col1\" class=\"data row2 col1\" >359881</td>\n",
              "            </tr>\n",
              "            <tr>\n",
              "                        <th id=\"T_cbed674e_a423_11ea_9f39_0242ac1c0002level0_row3\" class=\"row_heading level0 row3\" >3</th>\n",
              "                        <td id=\"T_cbed674e_a423_11ea_9f39_0242ac1c0002row3_col0\" class=\"data row3 col0\" >al</td>\n",
              "                        <td id=\"T_cbed674e_a423_11ea_9f39_0242ac1c0002row3_col1\" class=\"data row3 col1\" >265882</td>\n",
              "            </tr>\n",
              "            <tr>\n",
              "                        <th id=\"T_cbed674e_a423_11ea_9f39_0242ac1c0002level0_row4\" class=\"row_heading level0 row4\" >4</th>\n",
              "                        <td id=\"T_cbed674e_a423_11ea_9f39_0242ac1c0002row4_col0\" class=\"data row4 col0\" >people</td>\n",
              "                        <td id=\"T_cbed674e_a423_11ea_9f39_0242ac1c0002row4_col1\" class=\"data row4 col1\" >258160</td>\n",
              "            </tr>\n",
              "            <tr>\n",
              "                        <th id=\"T_cbed674e_a423_11ea_9f39_0242ac1c0002level0_row5\" class=\"row_heading level0 row5\" >5</th>\n",
              "                        <td id=\"T_cbed674e_a423_11ea_9f39_0242ac1c0002row5_col0\" class=\"data row5 col0\" >would</td>\n",
              "                        <td id=\"T_cbed674e_a423_11ea_9f39_0242ac1c0002row5_col1\" class=\"data row5 col1\" >253511</td>\n",
              "            </tr>\n",
              "            <tr>\n",
              "                        <th id=\"T_cbed674e_a423_11ea_9f39_0242ac1c0002level0_row6\" class=\"row_heading level0 row6\" >6</th>\n",
              "                        <td id=\"T_cbed674e_a423_11ea_9f39_0242ac1c0002row6_col0\" class=\"data row6 col0\" >one</td>\n",
              "                        <td id=\"T_cbed674e_a423_11ea_9f39_0242ac1c0002row6_col1\" class=\"data row6 col1\" >243966</td>\n",
              "            </tr>\n",
              "            <tr>\n",
              "                        <th id=\"T_cbed674e_a423_11ea_9f39_0242ac1c0002level0_row7\" class=\"row_heading level0 row7\" >7</th>\n",
              "                        <td id=\"T_cbed674e_a423_11ea_9f39_0242ac1c0002row7_col0\" class=\"data row7 col0\" >know</td>\n",
              "                        <td id=\"T_cbed674e_a423_11ea_9f39_0242ac1c0002row7_col1\" class=\"data row7 col1\" >219543</td>\n",
              "            </tr>\n",
              "            <tr>\n",
              "                        <th id=\"T_cbed674e_a423_11ea_9f39_0242ac1c0002level0_row8\" class=\"row_heading level0 row8\" >8</th>\n",
              "                        <td id=\"T_cbed674e_a423_11ea_9f39_0242ac1c0002row8_col0\" class=\"data row8 col0\" >think</td>\n",
              "                        <td id=\"T_cbed674e_a423_11ea_9f39_0242ac1c0002row8_col1\" class=\"data row8 col1\" >215494</td>\n",
              "            </tr>\n",
              "            <tr>\n",
              "                        <th id=\"T_cbed674e_a423_11ea_9f39_0242ac1c0002level0_row9\" class=\"row_heading level0 row9\" >9</th>\n",
              "                        <td id=\"T_cbed674e_a423_11ea_9f39_0242ac1c0002row9_col0\" class=\"data row9 col0\" >get</td>\n",
              "                        <td id=\"T_cbed674e_a423_11ea_9f39_0242ac1c0002row9_col1\" class=\"data row9 col1\" >195722</td>\n",
              "            </tr>\n",
              "            <tr>\n",
              "                        <th id=\"T_cbed674e_a423_11ea_9f39_0242ac1c0002level0_row10\" class=\"row_heading level0 row10\" >10</th>\n",
              "                        <td id=\"T_cbed674e_a423_11ea_9f39_0242ac1c0002row10_col0\" class=\"data row10 col0\" >god</td>\n",
              "                        <td id=\"T_cbed674e_a423_11ea_9f39_0242ac1c0002row10_col1\" class=\"data row10 col1\" >186622</td>\n",
              "            </tr>\n",
              "            <tr>\n",
              "                        <th id=\"T_cbed674e_a423_11ea_9f39_0242ac1c0002level0_row11\" class=\"row_heading level0 row11\" >11</th>\n",
              "                        <td id=\"T_cbed674e_a423_11ea_9f39_0242ac1c0002row11_col0\" class=\"data row11 col0\" >wil</td>\n",
              "                        <td id=\"T_cbed674e_a423_11ea_9f39_0242ac1c0002row11_col1\" class=\"data row11 col1\" >181133</td>\n",
              "            </tr>\n",
              "            <tr>\n",
              "                        <th id=\"T_cbed674e_a423_11ea_9f39_0242ac1c0002level0_row12\" class=\"row_heading level0 row12\" >12</th>\n",
              "                        <td id=\"T_cbed674e_a423_11ea_9f39_0242ac1c0002row12_col0\" class=\"data row12 col0\" >time</td>\n",
              "                        <td id=\"T_cbed674e_a423_11ea_9f39_0242ac1c0002row12_col1\" class=\"data row12 col1\" >171049</td>\n",
              "            </tr>\n",
              "            <tr>\n",
              "                        <th id=\"T_cbed674e_a423_11ea_9f39_0242ac1c0002level0_row13\" class=\"row_heading level0 row13\" >13</th>\n",
              "                        <td id=\"T_cbed674e_a423_11ea_9f39_0242ac1c0002row13_col0\" class=\"data row13 col0\" >said</td>\n",
              "                        <td id=\"T_cbed674e_a423_11ea_9f39_0242ac1c0002row13_col1\" class=\"data row13 col1\" >164564</td>\n",
              "            </tr>\n",
              "            <tr>\n",
              "                        <th id=\"T_cbed674e_a423_11ea_9f39_0242ac1c0002level0_row14\" class=\"row_heading level0 row14\" >14</th>\n",
              "                        <td id=\"T_cbed674e_a423_11ea_9f39_0242ac1c0002row14_col0\" class=\"data row14 col0\" >realy</td>\n",
              "                        <td id=\"T_cbed674e_a423_11ea_9f39_0242ac1c0002row14_col1\" class=\"data row14 col1\" >163973</td>\n",
              "            </tr>\n",
              "            <tr>\n",
              "                        <th id=\"T_cbed674e_a423_11ea_9f39_0242ac1c0002level0_row15\" class=\"row_heading level0 row15\" >15</th>\n",
              "                        <td id=\"T_cbed674e_a423_11ea_9f39_0242ac1c0002row15_col0\" class=\"data row15 col0\" >back</td>\n",
              "                        <td id=\"T_cbed674e_a423_11ea_9f39_0242ac1c0002row15_col1\" class=\"data row15 col1\" >141378</td>\n",
              "            </tr>\n",
              "            <tr>\n",
              "                        <th id=\"T_cbed674e_a423_11ea_9f39_0242ac1c0002level0_row16\" class=\"row_heading level0 row16\" >16</th>\n",
              "                        <td id=\"T_cbed674e_a423_11ea_9f39_0242ac1c0002row16_col0\" class=\"data row16 col0\" >something</td>\n",
              "                        <td id=\"T_cbed674e_a423_11ea_9f39_0242ac1c0002row16_col1\" class=\"data row16 col1\" >140594</td>\n",
              "            </tr>\n",
              "            <tr>\n",
              "                        <th id=\"T_cbed674e_a423_11ea_9f39_0242ac1c0002level0_row17\" class=\"row_heading level0 row17\" >17</th>\n",
              "                        <td id=\"T_cbed674e_a423_11ea_9f39_0242ac1c0002row17_col0\" class=\"data row17 col0\" >could</td>\n",
              "                        <td id=\"T_cbed674e_a423_11ea_9f39_0242ac1c0002row17_col1\" class=\"data row17 col1\" >139885</td>\n",
              "            </tr>\n",
              "            <tr>\n",
              "                        <th id=\"T_cbed674e_a423_11ea_9f39_0242ac1c0002level0_row18\" class=\"row_heading level0 row18\" >18</th>\n",
              "                        <td id=\"T_cbed674e_a423_11ea_9f39_0242ac1c0002row18_col0\" class=\"data row18 col0\" >wel</td>\n",
              "                        <td id=\"T_cbed674e_a423_11ea_9f39_0242ac1c0002row18_col1\" class=\"data row18 col1\" >139016</td>\n",
              "            </tr>\n",
              "            <tr>\n",
              "                        <th id=\"T_cbed674e_a423_11ea_9f39_0242ac1c0002level0_row19\" class=\"row_heading level0 row19\" >19</th>\n",
              "                        <td id=\"T_cbed674e_a423_11ea_9f39_0242ac1c0002row19_col0\" class=\"data row19 col0\" >want</td>\n",
              "                        <td id=\"T_cbed674e_a423_11ea_9f39_0242ac1c0002row19_col1\" class=\"data row19 col1\" >135690</td>\n",
              "            </tr>\n",
              "            <tr>\n",
              "                        <th id=\"T_cbed674e_a423_11ea_9f39_0242ac1c0002level0_row20\" class=\"row_heading level0 row20\" >20</th>\n",
              "                        <td id=\"T_cbed674e_a423_11ea_9f39_0242ac1c0002row20_col0\" class=\"data row20 col0\" >se</td>\n",
              "                        <td id=\"T_cbed674e_a423_11ea_9f39_0242ac1c0002row20_col1\" class=\"data row20 col1\" >129391</td>\n",
              "            </tr>\n",
              "            <tr>\n",
              "                        <th id=\"T_cbed674e_a423_11ea_9f39_0242ac1c0002level0_row21\" class=\"row_heading level0 row21\" >21</th>\n",
              "                        <td id=\"T_cbed674e_a423_11ea_9f39_0242ac1c0002row21_col0\" class=\"data row21 col0\" >way</td>\n",
              "                        <td id=\"T_cbed674e_a423_11ea_9f39_0242ac1c0002row21_col1\" class=\"data row21 col1\" >129293</td>\n",
              "            </tr>\n",
              "            <tr>\n",
              "                        <th id=\"T_cbed674e_a423_11ea_9f39_0242ac1c0002level0_row22\" class=\"row_heading level0 row22\" >22</th>\n",
              "                        <td id=\"T_cbed674e_a423_11ea_9f39_0242ac1c0002row22_col0\" class=\"data row22 col0\" >even</td>\n",
              "                        <td id=\"T_cbed674e_a423_11ea_9f39_0242ac1c0002row22_col1\" class=\"data row22 col1\" >128551</td>\n",
              "            </tr>\n",
              "            <tr>\n",
              "                        <th id=\"T_cbed674e_a423_11ea_9f39_0242ac1c0002level0_row23\" class=\"row_heading level0 row23\" >23</th>\n",
              "                        <td id=\"T_cbed674e_a423_11ea_9f39_0242ac1c0002row23_col0\" class=\"data row23 col0\" >things</td>\n",
              "                        <td id=\"T_cbed674e_a423_11ea_9f39_0242ac1c0002row23_col1\" class=\"data row23 col1\" >125021</td>\n",
              "            </tr>\n",
              "            <tr>\n",
              "                        <th id=\"T_cbed674e_a423_11ea_9f39_0242ac1c0002level0_row24\" class=\"row_heading level0 row24\" >24</th>\n",
              "                        <td id=\"T_cbed674e_a423_11ea_9f39_0242ac1c0002row24_col0\" class=\"data row24 col0\" >much</td>\n",
              "                        <td id=\"T_cbed674e_a423_11ea_9f39_0242ac1c0002row24_col1\" class=\"data row24 col1\" >123280</td>\n",
              "            </tr>\n",
              "    </tbody></table>"
            ],
            "text/plain": [
              "<pandas.io.formats.style.Styler at 0x7f2338fee470>"
            ]
          },
          "metadata": {
            "tags": []
          },
          "execution_count": 39
        }
      ]
    },
    {
      "cell_type": "code",
      "metadata": {
        "id": "4SYXC9Eyrr3F",
        "colab_type": "code",
        "colab": {}
      },
      "source": [
        "text_fea_dict_extrov = vectorize_words(X_train_E)\n",
        "sorted_text_fea_dict_extrov = dict(sorted(text_fea_dict_extrov.items(), key=lambda x: x[1] , reverse=True))\n",
        "sorted_text_occur_extrov = np.array(list(sorted_text_fea_dict_extrov.values()))"
      ],
      "execution_count": 0,
      "outputs": []
    },
    {
      "cell_type": "code",
      "metadata": {
        "id": "e9N6CWBCsKYD",
        "colab_type": "code",
        "outputId": "151c69b1-e771-4863-88e1-569239ce0256",
        "colab": {
          "base_uri": "https://localhost:8080/",
          "height": 34
        }
      },
      "source": [
        "print(\"Total number of unique words used by extraverts :\", len(sorted_text_occur_extrov))"
      ],
      "execution_count": 0,
      "outputs": [
        {
          "output_type": "stream",
          "text": [
            "Total number of unique words used by extraverts : 36831\n"
          ],
          "name": "stdout"
        }
      ]
    },
    {
      "cell_type": "code",
      "metadata": {
        "id": "_k_-duzssNUz",
        "colab_type": "code",
        "outputId": "46294a61-3c41-4254-adcd-2d3ab301ac9f",
        "colab": {
          "base_uri": "https://localhost:8080/",
          "height": 565
        }
      },
      "source": [
        "temp_extrov = pd.DataFrame(pd.Series(index=list(text_fea_dict_extrov.keys()), data=list(text_fea_dict_extrov.values())).sort_values(ascending=False).head(25)).reset_index()\n",
        "temp_extrov.columns = ['word', 'freq']\n",
        "temp_extrov.style.background_gradient(cmap='Blues')"
      ],
      "execution_count": 0,
      "outputs": [
        {
          "output_type": "execute_result",
          "data": {
            "text/html": [
              "<style  type=\"text/css\" >\n",
              "    #T_2d191f68_a424_11ea_9f39_0242ac1c0002row0_col1 {\n",
              "            background-color:  #08306b;\n",
              "            color:  #f1f1f1;\n",
              "        }    #T_2d191f68_a424_11ea_9f39_0242ac1c0002row1_col1 {\n",
              "            background-color:  #083776;\n",
              "            color:  #f1f1f1;\n",
              "        }    #T_2d191f68_a424_11ea_9f39_0242ac1c0002row2_col1 {\n",
              "            background-color:  #4695c8;\n",
              "            color:  #000000;\n",
              "        }    #T_2d191f68_a424_11ea_9f39_0242ac1c0002row3_col1 {\n",
              "            background-color:  #a3cce3;\n",
              "            color:  #000000;\n",
              "        }    #T_2d191f68_a424_11ea_9f39_0242ac1c0002row4_col1 {\n",
              "            background-color:  #aacfe5;\n",
              "            color:  #000000;\n",
              "        }    #T_2d191f68_a424_11ea_9f39_0242ac1c0002row5_col1 {\n",
              "            background-color:  #c4daee;\n",
              "            color:  #000000;\n",
              "        }    #T_2d191f68_a424_11ea_9f39_0242ac1c0002row6_col1 {\n",
              "            background-color:  #c6dbef;\n",
              "            color:  #000000;\n",
              "        }    #T_2d191f68_a424_11ea_9f39_0242ac1c0002row7_col1 {\n",
              "            background-color:  #c8dcf0;\n",
              "            color:  #000000;\n",
              "        }    #T_2d191f68_a424_11ea_9f39_0242ac1c0002row8_col1 {\n",
              "            background-color:  #cbdef1;\n",
              "            color:  #000000;\n",
              "        }    #T_2d191f68_a424_11ea_9f39_0242ac1c0002row9_col1 {\n",
              "            background-color:  #d0e2f2;\n",
              "            color:  #000000;\n",
              "        }    #T_2d191f68_a424_11ea_9f39_0242ac1c0002row10_col1 {\n",
              "            background-color:  #dae8f6;\n",
              "            color:  #000000;\n",
              "        }    #T_2d191f68_a424_11ea_9f39_0242ac1c0002row11_col1 {\n",
              "            background-color:  #deebf7;\n",
              "            color:  #000000;\n",
              "        }    #T_2d191f68_a424_11ea_9f39_0242ac1c0002row12_col1 {\n",
              "            background-color:  #dfebf7;\n",
              "            color:  #000000;\n",
              "        }    #T_2d191f68_a424_11ea_9f39_0242ac1c0002row13_col1 {\n",
              "            background-color:  #dfebf7;\n",
              "            color:  #000000;\n",
              "        }    #T_2d191f68_a424_11ea_9f39_0242ac1c0002row14_col1 {\n",
              "            background-color:  #eef5fc;\n",
              "            color:  #000000;\n",
              "        }    #T_2d191f68_a424_11ea_9f39_0242ac1c0002row15_col1 {\n",
              "            background-color:  #f2f7fd;\n",
              "            color:  #000000;\n",
              "        }    #T_2d191f68_a424_11ea_9f39_0242ac1c0002row16_col1 {\n",
              "            background-color:  #f2f7fd;\n",
              "            color:  #000000;\n",
              "        }    #T_2d191f68_a424_11ea_9f39_0242ac1c0002row17_col1 {\n",
              "            background-color:  #f2f8fd;\n",
              "            color:  #000000;\n",
              "        }    #T_2d191f68_a424_11ea_9f39_0242ac1c0002row18_col1 {\n",
              "            background-color:  #f3f8fe;\n",
              "            color:  #000000;\n",
              "        }    #T_2d191f68_a424_11ea_9f39_0242ac1c0002row19_col1 {\n",
              "            background-color:  #f4f9fe;\n",
              "            color:  #000000;\n",
              "        }    #T_2d191f68_a424_11ea_9f39_0242ac1c0002row20_col1 {\n",
              "            background-color:  #f5f9fe;\n",
              "            color:  #000000;\n",
              "        }    #T_2d191f68_a424_11ea_9f39_0242ac1c0002row21_col1 {\n",
              "            background-color:  #f5f9fe;\n",
              "            color:  #000000;\n",
              "        }    #T_2d191f68_a424_11ea_9f39_0242ac1c0002row22_col1 {\n",
              "            background-color:  #f5fafe;\n",
              "            color:  #000000;\n",
              "        }    #T_2d191f68_a424_11ea_9f39_0242ac1c0002row23_col1 {\n",
              "            background-color:  #f6faff;\n",
              "            color:  #000000;\n",
              "        }    #T_2d191f68_a424_11ea_9f39_0242ac1c0002row24_col1 {\n",
              "            background-color:  #f7fbff;\n",
              "            color:  #000000;\n",
              "        }</style><table id=\"T_2d191f68_a424_11ea_9f39_0242ac1c0002\" ><thead>    <tr>        <th class=\"blank level0\" ></th>        <th class=\"col_heading level0 col0\" >word</th>        <th class=\"col_heading level0 col1\" >freq</th>    </tr></thead><tbody>\n",
              "                <tr>\n",
              "                        <th id=\"T_2d191f68_a424_11ea_9f39_0242ac1c0002level0_row0\" class=\"row_heading level0 row0\" >0</th>\n",
              "                        <td id=\"T_2d191f68_a424_11ea_9f39_0242ac1c0002row0_col0\" class=\"data row0 col0\" >not</td>\n",
              "                        <td id=\"T_2d191f68_a424_11ea_9f39_0242ac1c0002row0_col1\" class=\"data row0 col1\" >201840</td>\n",
              "            </tr>\n",
              "            <tr>\n",
              "                        <th id=\"T_2d191f68_a424_11ea_9f39_0242ac1c0002level0_row1\" class=\"row_heading level0 row1\" >1</th>\n",
              "                        <td id=\"T_2d191f68_a424_11ea_9f39_0242ac1c0002row1_col0\" class=\"data row1 col0\" >wrote</td>\n",
              "                        <td id=\"T_2d191f68_a424_11ea_9f39_0242ac1c0002row1_col1\" class=\"data row1 col1\" >197493</td>\n",
              "            </tr>\n",
              "            <tr>\n",
              "                        <th id=\"T_2d191f68_a424_11ea_9f39_0242ac1c0002level0_row2\" class=\"row_heading level0 row2\" >2</th>\n",
              "                        <td id=\"T_2d191f68_a424_11ea_9f39_0242ac1c0002row2_col0\" class=\"data row2 col0\" >like</td>\n",
              "                        <td id=\"T_2d191f68_a424_11ea_9f39_0242ac1c0002row2_col1\" class=\"data row2 col1\" >140018</td>\n",
              "            </tr>\n",
              "            <tr>\n",
              "                        <th id=\"T_2d191f68_a424_11ea_9f39_0242ac1c0002level0_row3\" class=\"row_heading level0 row3\" >3</th>\n",
              "                        <td id=\"T_2d191f68_a424_11ea_9f39_0242ac1c0002row3_col0\" class=\"data row3 col0\" >people</td>\n",
              "                        <td id=\"T_2d191f68_a424_11ea_9f39_0242ac1c0002row3_col1\" class=\"data row3 col1\" >100473</td>\n",
              "            </tr>\n",
              "            <tr>\n",
              "                        <th id=\"T_2d191f68_a424_11ea_9f39_0242ac1c0002level0_row4\" class=\"row_heading level0 row4\" >4</th>\n",
              "                        <td id=\"T_2d191f68_a424_11ea_9f39_0242ac1c0002row4_col0\" class=\"data row4 col0\" >al</td>\n",
              "                        <td id=\"T_2d191f68_a424_11ea_9f39_0242ac1c0002row4_col1\" class=\"data row4 col1\" >96697</td>\n",
              "            </tr>\n",
              "            <tr>\n",
              "                        <th id=\"T_2d191f68_a424_11ea_9f39_0242ac1c0002level0_row5\" class=\"row_heading level0 row5\" >5</th>\n",
              "                        <td id=\"T_2d191f68_a424_11ea_9f39_0242ac1c0002row5_col0\" class=\"data row5 col0\" >would</td>\n",
              "                        <td id=\"T_2d191f68_a424_11ea_9f39_0242ac1c0002row5_col1\" class=\"data row5 col1\" >83989</td>\n",
              "            </tr>\n",
              "            <tr>\n",
              "                        <th id=\"T_2d191f68_a424_11ea_9f39_0242ac1c0002level0_row6\" class=\"row_heading level0 row6\" >6</th>\n",
              "                        <td id=\"T_2d191f68_a424_11ea_9f39_0242ac1c0002row6_col0\" class=\"data row6 col0\" >think</td>\n",
              "                        <td id=\"T_2d191f68_a424_11ea_9f39_0242ac1c0002row6_col1\" class=\"data row6 col1\" >83475</td>\n",
              "            </tr>\n",
              "            <tr>\n",
              "                        <th id=\"T_2d191f68_a424_11ea_9f39_0242ac1c0002level0_row7\" class=\"row_heading level0 row7\" >7</th>\n",
              "                        <td id=\"T_2d191f68_a424_11ea_9f39_0242ac1c0002row7_col0\" class=\"data row7 col0\" >one</td>\n",
              "                        <td id=\"T_2d191f68_a424_11ea_9f39_0242ac1c0002row7_col1\" class=\"data row7 col1\" >81359</td>\n",
              "            </tr>\n",
              "            <tr>\n",
              "                        <th id=\"T_2d191f68_a424_11ea_9f39_0242ac1c0002level0_row8\" class=\"row_heading level0 row8\" >8</th>\n",
              "                        <td id=\"T_2d191f68_a424_11ea_9f39_0242ac1c0002row8_col0\" class=\"data row8 col0\" >know</td>\n",
              "                        <td id=\"T_2d191f68_a424_11ea_9f39_0242ac1c0002row8_col1\" class=\"data row8 col1\" >79137</td>\n",
              "            </tr>\n",
              "            <tr>\n",
              "                        <th id=\"T_2d191f68_a424_11ea_9f39_0242ac1c0002level0_row9\" class=\"row_heading level0 row9\" >9</th>\n",
              "                        <td id=\"T_2d191f68_a424_11ea_9f39_0242ac1c0002row9_col0\" class=\"data row9 col0\" >get</td>\n",
              "                        <td id=\"T_2d191f68_a424_11ea_9f39_0242ac1c0002row9_col1\" class=\"data row9 col1\" >74522</td>\n",
              "            </tr>\n",
              "            <tr>\n",
              "                        <th id=\"T_2d191f68_a424_11ea_9f39_0242ac1c0002level0_row10\" class=\"row_heading level0 row10\" >10</th>\n",
              "                        <td id=\"T_2d191f68_a424_11ea_9f39_0242ac1c0002row10_col0\" class=\"data row10 col0\" >wil</td>\n",
              "                        <td id=\"T_2d191f68_a424_11ea_9f39_0242ac1c0002row10_col1\" class=\"data row10 col1\" >66204</td>\n",
              "            </tr>\n",
              "            <tr>\n",
              "                        <th id=\"T_2d191f68_a424_11ea_9f39_0242ac1c0002level0_row11\" class=\"row_heading level0 row11\" >11</th>\n",
              "                        <td id=\"T_2d191f68_a424_11ea_9f39_0242ac1c0002row11_col0\" class=\"data row11 col0\" >realy</td>\n",
              "                        <td id=\"T_2d191f68_a424_11ea_9f39_0242ac1c0002row11_col1\" class=\"data row11 col1\" >63499</td>\n",
              "            </tr>\n",
              "            <tr>\n",
              "                        <th id=\"T_2d191f68_a424_11ea_9f39_0242ac1c0002level0_row12\" class=\"row_heading level0 row12\" >12</th>\n",
              "                        <td id=\"T_2d191f68_a424_11ea_9f39_0242ac1c0002row12_col0\" class=\"data row12 col0\" >god</td>\n",
              "                        <td id=\"T_2d191f68_a424_11ea_9f39_0242ac1c0002row12_col1\" class=\"data row12 col1\" >63047</td>\n",
              "            </tr>\n",
              "            <tr>\n",
              "                        <th id=\"T_2d191f68_a424_11ea_9f39_0242ac1c0002level0_row13\" class=\"row_heading level0 row13\" >13</th>\n",
              "                        <td id=\"T_2d191f68_a424_11ea_9f39_0242ac1c0002row13_col0\" class=\"data row13 col0\" >time</td>\n",
              "                        <td id=\"T_2d191f68_a424_11ea_9f39_0242ac1c0002row13_col1\" class=\"data row13 col1\" >62432</td>\n",
              "            </tr>\n",
              "            <tr>\n",
              "                        <th id=\"T_2d191f68_a424_11ea_9f39_0242ac1c0002level0_row14\" class=\"row_heading level0 row14\" >14</th>\n",
              "                        <td id=\"T_2d191f68_a424_11ea_9f39_0242ac1c0002row14_col0\" class=\"data row14 col0\" >want</td>\n",
              "                        <td id=\"T_2d191f68_a424_11ea_9f39_0242ac1c0002row14_col1\" class=\"data row14 col1\" >50369</td>\n",
              "            </tr>\n",
              "            <tr>\n",
              "                        <th id=\"T_2d191f68_a424_11ea_9f39_0242ac1c0002level0_row15\" class=\"row_heading level0 row15\" >15</th>\n",
              "                        <td id=\"T_2d191f68_a424_11ea_9f39_0242ac1c0002row15_col0\" class=\"data row15 col0\" >things</td>\n",
              "                        <td id=\"T_2d191f68_a424_11ea_9f39_0242ac1c0002row15_col1\" class=\"data row15 col1\" >48140</td>\n",
              "            </tr>\n",
              "            <tr>\n",
              "                        <th id=\"T_2d191f68_a424_11ea_9f39_0242ac1c0002level0_row16\" class=\"row_heading level0 row16\" >16</th>\n",
              "                        <td id=\"T_2d191f68_a424_11ea_9f39_0242ac1c0002row16_col0\" class=\"data row16 col0\" >way</td>\n",
              "                        <td id=\"T_2d191f68_a424_11ea_9f39_0242ac1c0002row16_col1\" class=\"data row16 col1\" >47712</td>\n",
              "            </tr>\n",
              "            <tr>\n",
              "                        <th id=\"T_2d191f68_a424_11ea_9f39_0242ac1c0002level0_row17\" class=\"row_heading level0 row17\" >17</th>\n",
              "                        <td id=\"T_2d191f68_a424_11ea_9f39_0242ac1c0002row17_col0\" class=\"data row17 col0\" >something</td>\n",
              "                        <td id=\"T_2d191f68_a424_11ea_9f39_0242ac1c0002row17_col1\" class=\"data row17 col1\" >47346</td>\n",
              "            </tr>\n",
              "            <tr>\n",
              "                        <th id=\"T_2d191f68_a424_11ea_9f39_0242ac1c0002level0_row18\" class=\"row_heading level0 row18\" >18</th>\n",
              "                        <td id=\"T_2d191f68_a424_11ea_9f39_0242ac1c0002row18_col0\" class=\"data row18 col0\" >wel</td>\n",
              "                        <td id=\"T_2d191f68_a424_11ea_9f39_0242ac1c0002row18_col1\" class=\"data row18 col1\" >46726</td>\n",
              "            </tr>\n",
              "            <tr>\n",
              "                        <th id=\"T_2d191f68_a424_11ea_9f39_0242ac1c0002level0_row19\" class=\"row_heading level0 row19\" >19</th>\n",
              "                        <td id=\"T_2d191f68_a424_11ea_9f39_0242ac1c0002row19_col0\" class=\"data row19 col0\" >se</td>\n",
              "                        <td id=\"T_2d191f68_a424_11ea_9f39_0242ac1c0002row19_col1\" class=\"data row19 col1\" >46018</td>\n",
              "            </tr>\n",
              "            <tr>\n",
              "                        <th id=\"T_2d191f68_a424_11ea_9f39_0242ac1c0002level0_row20\" class=\"row_heading level0 row20\" >20</th>\n",
              "                        <td id=\"T_2d191f68_a424_11ea_9f39_0242ac1c0002row20_col0\" class=\"data row20 col0\" >fel</td>\n",
              "                        <td id=\"T_2d191f68_a424_11ea_9f39_0242ac1c0002row20_col1\" class=\"data row20 col1\" >45392</td>\n",
              "            </tr>\n",
              "            <tr>\n",
              "                        <th id=\"T_2d191f68_a424_11ea_9f39_0242ac1c0002level0_row21\" class=\"row_heading level0 row21\" >21</th>\n",
              "                        <td id=\"T_2d191f68_a424_11ea_9f39_0242ac1c0002row21_col0\" class=\"data row21 col0\" >even</td>\n",
              "                        <td id=\"T_2d191f68_a424_11ea_9f39_0242ac1c0002row21_col1\" class=\"data row21 col1\" >45361</td>\n",
              "            </tr>\n",
              "            <tr>\n",
              "                        <th id=\"T_2d191f68_a424_11ea_9f39_0242ac1c0002level0_row22\" class=\"row_heading level0 row22\" >22</th>\n",
              "                        <td id=\"T_2d191f68_a424_11ea_9f39_0242ac1c0002row22_col0\" class=\"data row22 col0\" >much</td>\n",
              "                        <td id=\"T_2d191f68_a424_11ea_9f39_0242ac1c0002row22_col1\" class=\"data row22 col1\" >44658</td>\n",
              "            </tr>\n",
              "            <tr>\n",
              "                        <th id=\"T_2d191f68_a424_11ea_9f39_0242ac1c0002level0_row23\" class=\"row_heading level0 row23\" >23</th>\n",
              "                        <td id=\"T_2d191f68_a424_11ea_9f39_0242ac1c0002row23_col0\" class=\"data row23 col0\" >also</td>\n",
              "                        <td id=\"T_2d191f68_a424_11ea_9f39_0242ac1c0002row23_col1\" class=\"data row23 col1\" >43901</td>\n",
              "            </tr>\n",
              "            <tr>\n",
              "                        <th id=\"T_2d191f68_a424_11ea_9f39_0242ac1c0002level0_row24\" class=\"row_heading level0 row24\" >24</th>\n",
              "                        <td id=\"T_2d191f68_a424_11ea_9f39_0242ac1c0002row24_col0\" class=\"data row24 col0\" >could</td>\n",
              "                        <td id=\"T_2d191f68_a424_11ea_9f39_0242ac1c0002row24_col1\" class=\"data row24 col1\" >43224</td>\n",
              "            </tr>\n",
              "    </tbody></table>"
            ],
            "text/plain": [
              "<pandas.io.formats.style.Styler at 0x7f23391f1470>"
            ]
          },
          "metadata": {
            "tags": []
          },
          "execution_count": 43
        }
      ]
    },
    {
      "cell_type": "code",
      "metadata": {
        "id": "k3-ClsAzsZcz",
        "colab_type": "code",
        "colab": {}
      },
      "source": [
        "text_fea_dict_think = vectorize_words(X_train_T)\n",
        "sorted_text_fea_dict_think = dict(sorted(text_fea_dict_think.items(), key=lambda x: x[1] , reverse=True))\n",
        "sorted_text_occur_think = np.array(list(sorted_text_fea_dict_think.values()))"
      ],
      "execution_count": 0,
      "outputs": []
    },
    {
      "cell_type": "code",
      "metadata": {
        "id": "DiFKS1UGspRC",
        "colab_type": "code",
        "outputId": "ecb30714-73b7-4ae6-f957-49400f5846ba",
        "colab": {
          "base_uri": "https://localhost:8080/",
          "height": 34
        }
      },
      "source": [
        "print(\"Total number of unique words used by thinkers :\", len(sorted_text_occur_think))"
      ],
      "execution_count": 0,
      "outputs": [
        {
          "output_type": "stream",
          "text": [
            "Total number of unique words used by thinkers : 47271\n"
          ],
          "name": "stdout"
        }
      ]
    },
    {
      "cell_type": "code",
      "metadata": {
        "id": "jV-paKvlsv-Y",
        "colab_type": "code",
        "outputId": "4ad2a6e8-975a-41c6-f198-acca3a906849",
        "colab": {
          "base_uri": "https://localhost:8080/",
          "height": 565
        }
      },
      "source": [
        "temp_think = pd.DataFrame(pd.Series(index=list(text_fea_dict_think.keys()), data=list(text_fea_dict_think.values())).sort_values(ascending=False).head(25)).reset_index()\n",
        "temp_think.columns = ['word', 'freq']\n",
        "temp_think.style.background_gradient(cmap='Blues')"
      ],
      "execution_count": 0,
      "outputs": [
        {
          "output_type": "execute_result",
          "data": {
            "text/html": [
              "<style  type=\"text/css\" >\n",
              "    #T_6dc49b14_a424_11ea_9f39_0242ac1c0002row0_col1 {\n",
              "            background-color:  #08306b;\n",
              "            color:  #f1f1f1;\n",
              "        }    #T_6dc49b14_a424_11ea_9f39_0242ac1c0002row1_col1 {\n",
              "            background-color:  #083471;\n",
              "            color:  #f1f1f1;\n",
              "        }    #T_6dc49b14_a424_11ea_9f39_0242ac1c0002row2_col1 {\n",
              "            background-color:  #6caed6;\n",
              "            color:  #000000;\n",
              "        }    #T_6dc49b14_a424_11ea_9f39_0242ac1c0002row3_col1 {\n",
              "            background-color:  #add0e6;\n",
              "            color:  #000000;\n",
              "        }    #T_6dc49b14_a424_11ea_9f39_0242ac1c0002row4_col1 {\n",
              "            background-color:  #b4d3e9;\n",
              "            color:  #000000;\n",
              "        }    #T_6dc49b14_a424_11ea_9f39_0242ac1c0002row5_col1 {\n",
              "            background-color:  #b7d4ea;\n",
              "            color:  #000000;\n",
              "        }    #T_6dc49b14_a424_11ea_9f39_0242ac1c0002row6_col1 {\n",
              "            background-color:  #c6dbef;\n",
              "            color:  #000000;\n",
              "        }    #T_6dc49b14_a424_11ea_9f39_0242ac1c0002row7_col1 {\n",
              "            background-color:  #cfe1f2;\n",
              "            color:  #000000;\n",
              "        }    #T_6dc49b14_a424_11ea_9f39_0242ac1c0002row8_col1 {\n",
              "            background-color:  #d1e2f3;\n",
              "            color:  #000000;\n",
              "        }    #T_6dc49b14_a424_11ea_9f39_0242ac1c0002row9_col1 {\n",
              "            background-color:  #d9e7f5;\n",
              "            color:  #000000;\n",
              "        }    #T_6dc49b14_a424_11ea_9f39_0242ac1c0002row10_col1 {\n",
              "            background-color:  #d9e7f5;\n",
              "            color:  #000000;\n",
              "        }    #T_6dc49b14_a424_11ea_9f39_0242ac1c0002row11_col1 {\n",
              "            background-color:  #dae8f6;\n",
              "            color:  #000000;\n",
              "        }    #T_6dc49b14_a424_11ea_9f39_0242ac1c0002row12_col1 {\n",
              "            background-color:  #e1edf8;\n",
              "            color:  #000000;\n",
              "        }    #T_6dc49b14_a424_11ea_9f39_0242ac1c0002row13_col1 {\n",
              "            background-color:  #e9f2fa;\n",
              "            color:  #000000;\n",
              "        }    #T_6dc49b14_a424_11ea_9f39_0242ac1c0002row14_col1 {\n",
              "            background-color:  #f0f6fd;\n",
              "            color:  #000000;\n",
              "        }    #T_6dc49b14_a424_11ea_9f39_0242ac1c0002row15_col1 {\n",
              "            background-color:  #f1f7fd;\n",
              "            color:  #000000;\n",
              "        }    #T_6dc49b14_a424_11ea_9f39_0242ac1c0002row16_col1 {\n",
              "            background-color:  #f2f7fd;\n",
              "            color:  #000000;\n",
              "        }    #T_6dc49b14_a424_11ea_9f39_0242ac1c0002row17_col1 {\n",
              "            background-color:  #f3f8fe;\n",
              "            color:  #000000;\n",
              "        }    #T_6dc49b14_a424_11ea_9f39_0242ac1c0002row18_col1 {\n",
              "            background-color:  #f4f9fe;\n",
              "            color:  #000000;\n",
              "        }    #T_6dc49b14_a424_11ea_9f39_0242ac1c0002row19_col1 {\n",
              "            background-color:  #f4f9fe;\n",
              "            color:  #000000;\n",
              "        }    #T_6dc49b14_a424_11ea_9f39_0242ac1c0002row20_col1 {\n",
              "            background-color:  #f5f9fe;\n",
              "            color:  #000000;\n",
              "        }    #T_6dc49b14_a424_11ea_9f39_0242ac1c0002row21_col1 {\n",
              "            background-color:  #f5f9fe;\n",
              "            color:  #000000;\n",
              "        }    #T_6dc49b14_a424_11ea_9f39_0242ac1c0002row22_col1 {\n",
              "            background-color:  #f5f9fe;\n",
              "            color:  #000000;\n",
              "        }    #T_6dc49b14_a424_11ea_9f39_0242ac1c0002row23_col1 {\n",
              "            background-color:  #f7fbff;\n",
              "            color:  #000000;\n",
              "        }    #T_6dc49b14_a424_11ea_9f39_0242ac1c0002row24_col1 {\n",
              "            background-color:  #f7fbff;\n",
              "            color:  #000000;\n",
              "        }</style><table id=\"T_6dc49b14_a424_11ea_9f39_0242ac1c0002\" ><thead>    <tr>        <th class=\"blank level0\" ></th>        <th class=\"col_heading level0 col0\" >word</th>        <th class=\"col_heading level0 col1\" >freq</th>    </tr></thead><tbody>\n",
              "                <tr>\n",
              "                        <th id=\"T_6dc49b14_a424_11ea_9f39_0242ac1c0002level0_row0\" class=\"row_heading level0 row0\" >0</th>\n",
              "                        <td id=\"T_6dc49b14_a424_11ea_9f39_0242ac1c0002row0_col0\" class=\"data row0 col0\" >not</td>\n",
              "                        <td id=\"T_6dc49b14_a424_11ea_9f39_0242ac1c0002row0_col1\" class=\"data row0 col1\" >372941</td>\n",
              "            </tr>\n",
              "            <tr>\n",
              "                        <th id=\"T_6dc49b14_a424_11ea_9f39_0242ac1c0002level0_row1\" class=\"row_heading level0 row1\" >1</th>\n",
              "                        <td id=\"T_6dc49b14_a424_11ea_9f39_0242ac1c0002row1_col0\" class=\"data row1 col0\" >wrote</td>\n",
              "                        <td id=\"T_6dc49b14_a424_11ea_9f39_0242ac1c0002row1_col1\" class=\"data row1 col1\" >367485</td>\n",
              "            </tr>\n",
              "            <tr>\n",
              "                        <th id=\"T_6dc49b14_a424_11ea_9f39_0242ac1c0002level0_row2\" class=\"row_heading level0 row2\" >2</th>\n",
              "                        <td id=\"T_6dc49b14_a424_11ea_9f39_0242ac1c0002row2_col0\" class=\"data row2 col0\" >like</td>\n",
              "                        <td id=\"T_6dc49b14_a424_11ea_9f39_0242ac1c0002row2_col1\" class=\"data row2 col1\" >222702</td>\n",
              "            </tr>\n",
              "            <tr>\n",
              "                        <th id=\"T_6dc49b14_a424_11ea_9f39_0242ac1c0002level0_row3\" class=\"row_heading level0 row3\" >3</th>\n",
              "                        <td id=\"T_6dc49b14_a424_11ea_9f39_0242ac1c0002row3_col0\" class=\"data row3 col0\" >people</td>\n",
              "                        <td id=\"T_6dc49b14_a424_11ea_9f39_0242ac1c0002row3_col1\" class=\"data row3 col1\" >173380</td>\n",
              "            </tr>\n",
              "            <tr>\n",
              "                        <th id=\"T_6dc49b14_a424_11ea_9f39_0242ac1c0002level0_row4\" class=\"row_heading level0 row4\" >4</th>\n",
              "                        <td id=\"T_6dc49b14_a424_11ea_9f39_0242ac1c0002row4_col0\" class=\"data row4 col0\" >al</td>\n",
              "                        <td id=\"T_6dc49b14_a424_11ea_9f39_0242ac1c0002row4_col1\" class=\"data row4 col1\" >166027</td>\n",
              "            </tr>\n",
              "            <tr>\n",
              "                        <th id=\"T_6dc49b14_a424_11ea_9f39_0242ac1c0002level0_row5\" class=\"row_heading level0 row5\" >5</th>\n",
              "                        <td id=\"T_6dc49b14_a424_11ea_9f39_0242ac1c0002row5_col0\" class=\"data row5 col0\" >would</td>\n",
              "                        <td id=\"T_6dc49b14_a424_11ea_9f39_0242ac1c0002row5_col1\" class=\"data row5 col1\" >163901</td>\n",
              "            </tr>\n",
              "            <tr>\n",
              "                        <th id=\"T_6dc49b14_a424_11ea_9f39_0242ac1c0002level0_row6\" class=\"row_heading level0 row6\" >6</th>\n",
              "                        <td id=\"T_6dc49b14_a424_11ea_9f39_0242ac1c0002row6_col0\" class=\"data row6 col0\" >one</td>\n",
              "                        <td id=\"T_6dc49b14_a424_11ea_9f39_0242ac1c0002row6_col1\" class=\"data row6 col1\" >150084</td>\n",
              "            </tr>\n",
              "            <tr>\n",
              "                        <th id=\"T_6dc49b14_a424_11ea_9f39_0242ac1c0002level0_row7\" class=\"row_heading level0 row7\" >7</th>\n",
              "                        <td id=\"T_6dc49b14_a424_11ea_9f39_0242ac1c0002row7_col0\" class=\"data row7 col0\" >think</td>\n",
              "                        <td id=\"T_6dc49b14_a424_11ea_9f39_0242ac1c0002row7_col1\" class=\"data row7 col1\" >135308</td>\n",
              "            </tr>\n",
              "            <tr>\n",
              "                        <th id=\"T_6dc49b14_a424_11ea_9f39_0242ac1c0002level0_row8\" class=\"row_heading level0 row8\" >8</th>\n",
              "                        <td id=\"T_6dc49b14_a424_11ea_9f39_0242ac1c0002row8_col0\" class=\"data row8 col0\" >know</td>\n",
              "                        <td id=\"T_6dc49b14_a424_11ea_9f39_0242ac1c0002row8_col1\" class=\"data row8 col1\" >132287</td>\n",
              "            </tr>\n",
              "            <tr>\n",
              "                        <th id=\"T_6dc49b14_a424_11ea_9f39_0242ac1c0002level0_row9\" class=\"row_heading level0 row9\" >9</th>\n",
              "                        <td id=\"T_6dc49b14_a424_11ea_9f39_0242ac1c0002row9_col0\" class=\"data row9 col0\" >get</td>\n",
              "                        <td id=\"T_6dc49b14_a424_11ea_9f39_0242ac1c0002row9_col1\" class=\"data row9 col1\" >120591</td>\n",
              "            </tr>\n",
              "            <tr>\n",
              "                        <th id=\"T_6dc49b14_a424_11ea_9f39_0242ac1c0002level0_row10\" class=\"row_heading level0 row10\" >10</th>\n",
              "                        <td id=\"T_6dc49b14_a424_11ea_9f39_0242ac1c0002row10_col0\" class=\"data row10 col0\" >god</td>\n",
              "                        <td id=\"T_6dc49b14_a424_11ea_9f39_0242ac1c0002row10_col1\" class=\"data row10 col1\" >120103</td>\n",
              "            </tr>\n",
              "            <tr>\n",
              "                        <th id=\"T_6dc49b14_a424_11ea_9f39_0242ac1c0002level0_row11\" class=\"row_heading level0 row11\" >11</th>\n",
              "                        <td id=\"T_6dc49b14_a424_11ea_9f39_0242ac1c0002row11_col0\" class=\"data row11 col0\" >wil</td>\n",
              "                        <td id=\"T_6dc49b14_a424_11ea_9f39_0242ac1c0002row11_col1\" class=\"data row11 col1\" >118535</td>\n",
              "            </tr>\n",
              "            <tr>\n",
              "                        <th id=\"T_6dc49b14_a424_11ea_9f39_0242ac1c0002level0_row12\" class=\"row_heading level0 row12\" >12</th>\n",
              "                        <td id=\"T_6dc49b14_a424_11ea_9f39_0242ac1c0002row12_col0\" class=\"data row12 col0\" >time</td>\n",
              "                        <td id=\"T_6dc49b14_a424_11ea_9f39_0242ac1c0002row12_col1\" class=\"data row12 col1\" >107944</td>\n",
              "            </tr>\n",
              "            <tr>\n",
              "                        <th id=\"T_6dc49b14_a424_11ea_9f39_0242ac1c0002level0_row13\" class=\"row_heading level0 row13\" >13</th>\n",
              "                        <td id=\"T_6dc49b14_a424_11ea_9f39_0242ac1c0002row13_col0\" class=\"data row13 col0\" >realy</td>\n",
              "                        <td id=\"T_6dc49b14_a424_11ea_9f39_0242ac1c0002row13_col1\" class=\"data row13 col1\" >95819</td>\n",
              "            </tr>\n",
              "            <tr>\n",
              "                        <th id=\"T_6dc49b14_a424_11ea_9f39_0242ac1c0002level0_row14\" class=\"row_heading level0 row14\" >14</th>\n",
              "                        <td id=\"T_6dc49b14_a424_11ea_9f39_0242ac1c0002row14_col0\" class=\"data row14 col0\" >something</td>\n",
              "                        <td id=\"T_6dc49b14_a424_11ea_9f39_0242ac1c0002row14_col1\" class=\"data row14 col1\" >85239</td>\n",
              "            </tr>\n",
              "            <tr>\n",
              "                        <th id=\"T_6dc49b14_a424_11ea_9f39_0242ac1c0002level0_row15\" class=\"row_heading level0 row15\" >15</th>\n",
              "                        <td id=\"T_6dc49b14_a424_11ea_9f39_0242ac1c0002row15_col0\" class=\"data row15 col0\" >wel</td>\n",
              "                        <td id=\"T_6dc49b14_a424_11ea_9f39_0242ac1c0002row15_col1\" class=\"data row15 col1\" >84605</td>\n",
              "            </tr>\n",
              "            <tr>\n",
              "                        <th id=\"T_6dc49b14_a424_11ea_9f39_0242ac1c0002level0_row16\" class=\"row_heading level0 row16\" >16</th>\n",
              "                        <td id=\"T_6dc49b14_a424_11ea_9f39_0242ac1c0002row16_col0\" class=\"data row16 col0\" >could</td>\n",
              "                        <td id=\"T_6dc49b14_a424_11ea_9f39_0242ac1c0002row16_col1\" class=\"data row16 col1\" >83664</td>\n",
              "            </tr>\n",
              "            <tr>\n",
              "                        <th id=\"T_6dc49b14_a424_11ea_9f39_0242ac1c0002level0_row17\" class=\"row_heading level0 row17\" >17</th>\n",
              "                        <td id=\"T_6dc49b14_a424_11ea_9f39_0242ac1c0002row17_col0\" class=\"data row17 col0\" >even</td>\n",
              "                        <td id=\"T_6dc49b14_a424_11ea_9f39_0242ac1c0002row17_col1\" class=\"data row17 col1\" >81349</td>\n",
              "            </tr>\n",
              "            <tr>\n",
              "                        <th id=\"T_6dc49b14_a424_11ea_9f39_0242ac1c0002level0_row18\" class=\"row_heading level0 row18\" >18</th>\n",
              "                        <td id=\"T_6dc49b14_a424_11ea_9f39_0242ac1c0002row18_col0\" class=\"data row18 col0\" >want</td>\n",
              "                        <td id=\"T_6dc49b14_a424_11ea_9f39_0242ac1c0002row18_col1\" class=\"data row18 col1\" >80225</td>\n",
              "            </tr>\n",
              "            <tr>\n",
              "                        <th id=\"T_6dc49b14_a424_11ea_9f39_0242ac1c0002level0_row19\" class=\"row_heading level0 row19\" >19</th>\n",
              "                        <td id=\"T_6dc49b14_a424_11ea_9f39_0242ac1c0002row19_col0\" class=\"data row19 col0\" >way</td>\n",
              "                        <td id=\"T_6dc49b14_a424_11ea_9f39_0242ac1c0002row19_col1\" class=\"data row19 col1\" >79603</td>\n",
              "            </tr>\n",
              "            <tr>\n",
              "                        <th id=\"T_6dc49b14_a424_11ea_9f39_0242ac1c0002level0_row20\" class=\"row_heading level0 row20\" >20</th>\n",
              "                        <td id=\"T_6dc49b14_a424_11ea_9f39_0242ac1c0002row20_col0\" class=\"data row20 col0\" >said</td>\n",
              "                        <td id=\"T_6dc49b14_a424_11ea_9f39_0242ac1c0002row20_col1\" class=\"data row20 col1\" >79095</td>\n",
              "            </tr>\n",
              "            <tr>\n",
              "                        <th id=\"T_6dc49b14_a424_11ea_9f39_0242ac1c0002level0_row21\" class=\"row_heading level0 row21\" >21</th>\n",
              "                        <td id=\"T_6dc49b14_a424_11ea_9f39_0242ac1c0002row21_col0\" class=\"data row21 col0\" >se</td>\n",
              "                        <td id=\"T_6dc49b14_a424_11ea_9f39_0242ac1c0002row21_col1\" class=\"data row21 col1\" >78971</td>\n",
              "            </tr>\n",
              "            <tr>\n",
              "                        <th id=\"T_6dc49b14_a424_11ea_9f39_0242ac1c0002level0_row22\" class=\"row_heading level0 row22\" >22</th>\n",
              "                        <td id=\"T_6dc49b14_a424_11ea_9f39_0242ac1c0002row22_col0\" class=\"data row22 col0\" >things</td>\n",
              "                        <td id=\"T_6dc49b14_a424_11ea_9f39_0242ac1c0002row22_col1\" class=\"data row22 col1\" >78759</td>\n",
              "            </tr>\n",
              "            <tr>\n",
              "                        <th id=\"T_6dc49b14_a424_11ea_9f39_0242ac1c0002level0_row23\" class=\"row_heading level0 row23\" >23</th>\n",
              "                        <td id=\"T_6dc49b14_a424_11ea_9f39_0242ac1c0002row23_col0\" class=\"data row23 col0\" >also</td>\n",
              "                        <td id=\"T_6dc49b14_a424_11ea_9f39_0242ac1c0002row23_col1\" class=\"data row23 col1\" >75662</td>\n",
              "            </tr>\n",
              "            <tr>\n",
              "                        <th id=\"T_6dc49b14_a424_11ea_9f39_0242ac1c0002level0_row24\" class=\"row_heading level0 row24\" >24</th>\n",
              "                        <td id=\"T_6dc49b14_a424_11ea_9f39_0242ac1c0002row24_col0\" class=\"data row24 col0\" >much</td>\n",
              "                        <td id=\"T_6dc49b14_a424_11ea_9f39_0242ac1c0002row24_col1\" class=\"data row24 col1\" >74628</td>\n",
              "            </tr>\n",
              "    </tbody></table>"
            ],
            "text/plain": [
              "<pandas.io.formats.style.Styler at 0x7f2338f86ba8>"
            ]
          },
          "metadata": {
            "tags": []
          },
          "execution_count": 46
        }
      ]
    },
    {
      "cell_type": "code",
      "metadata": {
        "id": "hRPSwNyYtAWB",
        "colab_type": "code",
        "colab": {}
      },
      "source": [
        "text_fea_dict_feel = vectorize_words(X_train_F)\n",
        "sorted_text_fea_dict_feel = dict(sorted(text_fea_dict_feel.items(), key=lambda x: x[1] , reverse=True))\n",
        "sorted_text_occur_feel = np.array(list(sorted_text_fea_dict_feel.values()))"
      ],
      "execution_count": 0,
      "outputs": []
    },
    {
      "cell_type": "code",
      "metadata": {
        "id": "eJ7X0KlwtE7b",
        "colab_type": "code",
        "outputId": "7e920700-47bb-43a6-a04f-517ed06111e7",
        "colab": {
          "base_uri": "https://localhost:8080/",
          "height": 34
        }
      },
      "source": [
        "print(\"Total number of unique words used by thinkers :\", len(sorted_text_occur_feel))"
      ],
      "execution_count": 0,
      "outputs": [
        {
          "output_type": "stream",
          "text": [
            "Total number of unique words used by thinkers : 47921\n"
          ],
          "name": "stdout"
        }
      ]
    },
    {
      "cell_type": "code",
      "metadata": {
        "id": "UG42PwfvtGwB",
        "colab_type": "code",
        "outputId": "e7e57c07-c42e-4068-8359-a02406ab81e4",
        "colab": {
          "base_uri": "https://localhost:8080/",
          "height": 565
        }
      },
      "source": [
        "temp_feel = pd.DataFrame(pd.Series(index=list(text_fea_dict_feel.keys()), data=list(text_fea_dict_feel.values())).sort_values(ascending=False).head(25)).reset_index()\n",
        "temp_feel.columns = ['word', 'freq']\n",
        "temp_feel.style.background_gradient(cmap='Blues')"
      ],
      "execution_count": 0,
      "outputs": [
        {
          "output_type": "execute_result",
          "data": {
            "text/html": [
              "<style  type=\"text/css\" >\n",
              "    #T_a9e43b04_a424_11ea_9f39_0242ac1c0002row0_col1 {\n",
              "            background-color:  #08306b;\n",
              "            color:  #f1f1f1;\n",
              "        }    #T_a9e43b04_a424_11ea_9f39_0242ac1c0002row1_col1 {\n",
              "            background-color:  #3181bd;\n",
              "            color:  #000000;\n",
              "        }    #T_a9e43b04_a424_11ea_9f39_0242ac1c0002row2_col1 {\n",
              "            background-color:  #8cc0dd;\n",
              "            color:  #000000;\n",
              "        }    #T_a9e43b04_a424_11ea_9f39_0242ac1c0002row3_col1 {\n",
              "            background-color:  #c9ddf0;\n",
              "            color:  #000000;\n",
              "        }    #T_a9e43b04_a424_11ea_9f39_0242ac1c0002row4_col1 {\n",
              "            background-color:  #cfe1f2;\n",
              "            color:  #000000;\n",
              "        }    #T_a9e43b04_a424_11ea_9f39_0242ac1c0002row5_col1 {\n",
              "            background-color:  #d3e4f3;\n",
              "            color:  #000000;\n",
              "        }    #T_a9e43b04_a424_11ea_9f39_0242ac1c0002row6_col1 {\n",
              "            background-color:  #d5e5f4;\n",
              "            color:  #000000;\n",
              "        }    #T_a9e43b04_a424_11ea_9f39_0242ac1c0002row7_col1 {\n",
              "            background-color:  #d6e6f4;\n",
              "            color:  #000000;\n",
              "        }    #T_a9e43b04_a424_11ea_9f39_0242ac1c0002row8_col1 {\n",
              "            background-color:  #d9e7f5;\n",
              "            color:  #000000;\n",
              "        }    #T_a9e43b04_a424_11ea_9f39_0242ac1c0002row9_col1 {\n",
              "            background-color:  #dfebf7;\n",
              "            color:  #000000;\n",
              "        }    #T_a9e43b04_a424_11ea_9f39_0242ac1c0002row10_col1 {\n",
              "            background-color:  #e7f0fa;\n",
              "            color:  #000000;\n",
              "        }    #T_a9e43b04_a424_11ea_9f39_0242ac1c0002row11_col1 {\n",
              "            background-color:  #e9f2fa;\n",
              "            color:  #000000;\n",
              "        }    #T_a9e43b04_a424_11ea_9f39_0242ac1c0002row12_col1 {\n",
              "            background-color:  #eaf2fb;\n",
              "            color:  #000000;\n",
              "        }    #T_a9e43b04_a424_11ea_9f39_0242ac1c0002row13_col1 {\n",
              "            background-color:  #eaf3fb;\n",
              "            color:  #000000;\n",
              "        }    #T_a9e43b04_a424_11ea_9f39_0242ac1c0002row14_col1 {\n",
              "            background-color:  #ecf4fb;\n",
              "            color:  #000000;\n",
              "        }    #T_a9e43b04_a424_11ea_9f39_0242ac1c0002row15_col1 {\n",
              "            background-color:  #f1f7fd;\n",
              "            color:  #000000;\n",
              "        }    #T_a9e43b04_a424_11ea_9f39_0242ac1c0002row16_col1 {\n",
              "            background-color:  #f3f8fe;\n",
              "            color:  #000000;\n",
              "        }    #T_a9e43b04_a424_11ea_9f39_0242ac1c0002row17_col1 {\n",
              "            background-color:  #f4f9fe;\n",
              "            color:  #000000;\n",
              "        }    #T_a9e43b04_a424_11ea_9f39_0242ac1c0002row18_col1 {\n",
              "            background-color:  #f4f9fe;\n",
              "            color:  #000000;\n",
              "        }    #T_a9e43b04_a424_11ea_9f39_0242ac1c0002row19_col1 {\n",
              "            background-color:  #f4f9fe;\n",
              "            color:  #000000;\n",
              "        }    #T_a9e43b04_a424_11ea_9f39_0242ac1c0002row20_col1 {\n",
              "            background-color:  #f5fafe;\n",
              "            color:  #000000;\n",
              "        }    #T_a9e43b04_a424_11ea_9f39_0242ac1c0002row21_col1 {\n",
              "            background-color:  #f6faff;\n",
              "            color:  #000000;\n",
              "        }    #T_a9e43b04_a424_11ea_9f39_0242ac1c0002row22_col1 {\n",
              "            background-color:  #f7fbff;\n",
              "            color:  #000000;\n",
              "        }    #T_a9e43b04_a424_11ea_9f39_0242ac1c0002row23_col1 {\n",
              "            background-color:  #f7fbff;\n",
              "            color:  #000000;\n",
              "        }    #T_a9e43b04_a424_11ea_9f39_0242ac1c0002row24_col1 {\n",
              "            background-color:  #f7fbff;\n",
              "            color:  #000000;\n",
              "        }</style><table id=\"T_a9e43b04_a424_11ea_9f39_0242ac1c0002\" ><thead>    <tr>        <th class=\"blank level0\" ></th>        <th class=\"col_heading level0 col0\" >word</th>        <th class=\"col_heading level0 col1\" >freq</th>    </tr></thead><tbody>\n",
              "                <tr>\n",
              "                        <th id=\"T_a9e43b04_a424_11ea_9f39_0242ac1c0002level0_row0\" class=\"row_heading level0 row0\" >0</th>\n",
              "                        <td id=\"T_a9e43b04_a424_11ea_9f39_0242ac1c0002row0_col0\" class=\"data row0 col0\" >wrote</td>\n",
              "                        <td id=\"T_a9e43b04_a424_11ea_9f39_0242ac1c0002row0_col1\" class=\"data row0 col1\" >540640</td>\n",
              "            </tr>\n",
              "            <tr>\n",
              "                        <th id=\"T_a9e43b04_a424_11ea_9f39_0242ac1c0002level0_row1\" class=\"row_heading level0 row1\" >1</th>\n",
              "                        <td id=\"T_a9e43b04_a424_11ea_9f39_0242ac1c0002row1_col0\" class=\"data row1 col0\" >not</td>\n",
              "                        <td id=\"T_a9e43b04_a424_11ea_9f39_0242ac1c0002row1_col1\" class=\"data row1 col1\" >401787</td>\n",
              "            </tr>\n",
              "            <tr>\n",
              "                        <th id=\"T_a9e43b04_a424_11ea_9f39_0242ac1c0002level0_row2\" class=\"row_heading level0 row2\" >2</th>\n",
              "                        <td id=\"T_a9e43b04_a424_11ea_9f39_0242ac1c0002row2_col0\" class=\"data row2 col0\" >like</td>\n",
              "                        <td id=\"T_a9e43b04_a424_11ea_9f39_0242ac1c0002row2_col1\" class=\"data row2 col1\" >281849</td>\n",
              "            </tr>\n",
              "            <tr>\n",
              "                        <th id=\"T_a9e43b04_a424_11ea_9f39_0242ac1c0002level0_row3\" class=\"row_heading level0 row3\" >3</th>\n",
              "                        <td id=\"T_a9e43b04_a424_11ea_9f39_0242ac1c0002row3_col0\" class=\"data row3 col0\" >al</td>\n",
              "                        <td id=\"T_a9e43b04_a424_11ea_9f39_0242ac1c0002row3_col1\" class=\"data row3 col1\" >199148</td>\n",
              "            </tr>\n",
              "            <tr>\n",
              "                        <th id=\"T_a9e43b04_a424_11ea_9f39_0242ac1c0002level0_row4\" class=\"row_heading level0 row4\" >4</th>\n",
              "                        <td id=\"T_a9e43b04_a424_11ea_9f39_0242ac1c0002row4_col0\" class=\"data row4 col0\" >people</td>\n",
              "                        <td id=\"T_a9e43b04_a424_11ea_9f39_0242ac1c0002row4_col1\" class=\"data row4 col1\" >186107</td>\n",
              "            </tr>\n",
              "            <tr>\n",
              "                        <th id=\"T_a9e43b04_a424_11ea_9f39_0242ac1c0002level0_row5\" class=\"row_heading level0 row5\" >5</th>\n",
              "                        <td id=\"T_a9e43b04_a424_11ea_9f39_0242ac1c0002row5_col0\" class=\"data row5 col0\" >one</td>\n",
              "                        <td id=\"T_a9e43b04_a424_11ea_9f39_0242ac1c0002row5_col1\" class=\"data row5 col1\" >175861</td>\n",
              "            </tr>\n",
              "            <tr>\n",
              "                        <th id=\"T_a9e43b04_a424_11ea_9f39_0242ac1c0002level0_row6\" class=\"row_heading level0 row6\" >6</th>\n",
              "                        <td id=\"T_a9e43b04_a424_11ea_9f39_0242ac1c0002row6_col0\" class=\"data row6 col0\" >would</td>\n",
              "                        <td id=\"T_a9e43b04_a424_11ea_9f39_0242ac1c0002row6_col1\" class=\"data row6 col1\" >172076</td>\n",
              "            </tr>\n",
              "            <tr>\n",
              "                        <th id=\"T_a9e43b04_a424_11ea_9f39_0242ac1c0002level0_row7\" class=\"row_heading level0 row7\" >7</th>\n",
              "                        <td id=\"T_a9e43b04_a424_11ea_9f39_0242ac1c0002row7_col0\" class=\"data row7 col0\" >know</td>\n",
              "                        <td id=\"T_a9e43b04_a424_11ea_9f39_0242ac1c0002row7_col1\" class=\"data row7 col1\" >168576</td>\n",
              "            </tr>\n",
              "            <tr>\n",
              "                        <th id=\"T_a9e43b04_a424_11ea_9f39_0242ac1c0002level0_row8\" class=\"row_heading level0 row8\" >8</th>\n",
              "                        <td id=\"T_a9e43b04_a424_11ea_9f39_0242ac1c0002row8_col0\" class=\"data row8 col0\" >think</td>\n",
              "                        <td id=\"T_a9e43b04_a424_11ea_9f39_0242ac1c0002row8_col1\" class=\"data row8 col1\" >162539</td>\n",
              "            </tr>\n",
              "            <tr>\n",
              "                        <th id=\"T_a9e43b04_a424_11ea_9f39_0242ac1c0002level0_row9\" class=\"row_heading level0 row9\" >9</th>\n",
              "                        <td id=\"T_a9e43b04_a424_11ea_9f39_0242ac1c0002row9_col0\" class=\"data row9 col0\" >get</td>\n",
              "                        <td id=\"T_a9e43b04_a424_11ea_9f39_0242ac1c0002row9_col1\" class=\"data row9 col1\" >148003</td>\n",
              "            </tr>\n",
              "            <tr>\n",
              "                        <th id=\"T_a9e43b04_a424_11ea_9f39_0242ac1c0002level0_row10\" class=\"row_heading level0 row10\" >10</th>\n",
              "                        <td id=\"T_a9e43b04_a424_11ea_9f39_0242ac1c0002row10_col0\" class=\"data row10 col0\" >realy</td>\n",
              "                        <td id=\"T_a9e43b04_a424_11ea_9f39_0242ac1c0002row10_col1\" class=\"data row10 col1\" >131940</td>\n",
              "            </tr>\n",
              "            <tr>\n",
              "                        <th id=\"T_a9e43b04_a424_11ea_9f39_0242ac1c0002level0_row11\" class=\"row_heading level0 row11\" >11</th>\n",
              "                        <td id=\"T_a9e43b04_a424_11ea_9f39_0242ac1c0002row11_col0\" class=\"data row11 col0\" >god</td>\n",
              "                        <td id=\"T_a9e43b04_a424_11ea_9f39_0242ac1c0002row11_col1\" class=\"data row11 col1\" >126548</td>\n",
              "            </tr>\n",
              "            <tr>\n",
              "                        <th id=\"T_a9e43b04_a424_11ea_9f39_0242ac1c0002level0_row12\" class=\"row_heading level0 row12\" >12</th>\n",
              "                        <td id=\"T_a9e43b04_a424_11ea_9f39_0242ac1c0002row12_col0\" class=\"data row12 col0\" >time</td>\n",
              "                        <td id=\"T_a9e43b04_a424_11ea_9f39_0242ac1c0002row12_col1\" class=\"data row12 col1\" >125078</td>\n",
              "            </tr>\n",
              "            <tr>\n",
              "                        <th id=\"T_a9e43b04_a424_11ea_9f39_0242ac1c0002level0_row13\" class=\"row_heading level0 row13\" >13</th>\n",
              "                        <td id=\"T_a9e43b04_a424_11ea_9f39_0242ac1c0002row13_col0\" class=\"data row13 col0\" >wil</td>\n",
              "                        <td id=\"T_a9e43b04_a424_11ea_9f39_0242ac1c0002row13_col1\" class=\"data row13 col1\" >123444</td>\n",
              "            </tr>\n",
              "            <tr>\n",
              "                        <th id=\"T_a9e43b04_a424_11ea_9f39_0242ac1c0002level0_row14\" class=\"row_heading level0 row14\" >14</th>\n",
              "                        <td id=\"T_a9e43b04_a424_11ea_9f39_0242ac1c0002row14_col0\" class=\"data row14 col0\" >said</td>\n",
              "                        <td id=\"T_a9e43b04_a424_11ea_9f39_0242ac1c0002row14_col1\" class=\"data row14 col1\" >119280</td>\n",
              "            </tr>\n",
              "            <tr>\n",
              "                        <th id=\"T_a9e43b04_a424_11ea_9f39_0242ac1c0002level0_row15\" class=\"row_heading level0 row15\" >15</th>\n",
              "                        <td id=\"T_a9e43b04_a424_11ea_9f39_0242ac1c0002row15_col0\" class=\"data row15 col0\" >back</td>\n",
              "                        <td id=\"T_a9e43b04_a424_11ea_9f39_0242ac1c0002row15_col1\" class=\"data row15 col1\" >107945</td>\n",
              "            </tr>\n",
              "            <tr>\n",
              "                        <th id=\"T_a9e43b04_a424_11ea_9f39_0242ac1c0002level0_row16\" class=\"row_heading level0 row16\" >16</th>\n",
              "                        <td id=\"T_a9e43b04_a424_11ea_9f39_0242ac1c0002row16_col0\" class=\"data row16 col0\" >want</td>\n",
              "                        <td id=\"T_a9e43b04_a424_11ea_9f39_0242ac1c0002row16_col1\" class=\"data row16 col1\" >103171</td>\n",
              "            </tr>\n",
              "            <tr>\n",
              "                        <th id=\"T_a9e43b04_a424_11ea_9f39_0242ac1c0002level0_row17\" class=\"row_heading level0 row17\" >17</th>\n",
              "                        <td id=\"T_a9e43b04_a424_11ea_9f39_0242ac1c0002row17_col0\" class=\"data row17 col0\" >could</td>\n",
              "                        <td id=\"T_a9e43b04_a424_11ea_9f39_0242ac1c0002row17_col1\" class=\"data row17 col1\" >101996</td>\n",
              "            </tr>\n",
              "            <tr>\n",
              "                        <th id=\"T_a9e43b04_a424_11ea_9f39_0242ac1c0002level0_row18\" class=\"row_heading level0 row18\" >18</th>\n",
              "                        <td id=\"T_a9e43b04_a424_11ea_9f39_0242ac1c0002row18_col0\" class=\"data row18 col0\" >wel</td>\n",
              "                        <td id=\"T_a9e43b04_a424_11ea_9f39_0242ac1c0002row18_col1\" class=\"data row18 col1\" >101996</td>\n",
              "            </tr>\n",
              "            <tr>\n",
              "                        <th id=\"T_a9e43b04_a424_11ea_9f39_0242ac1c0002level0_row19\" class=\"row_heading level0 row19\" >19</th>\n",
              "                        <td id=\"T_a9e43b04_a424_11ea_9f39_0242ac1c0002row19_col0\" class=\"data row19 col0\" >something</td>\n",
              "                        <td id=\"T_a9e43b04_a424_11ea_9f39_0242ac1c0002row19_col1\" class=\"data row19 col1\" >101777</td>\n",
              "            </tr>\n",
              "            <tr>\n",
              "                        <th id=\"T_a9e43b04_a424_11ea_9f39_0242ac1c0002level0_row20\" class=\"row_heading level0 row20\" >20</th>\n",
              "                        <td id=\"T_a9e43b04_a424_11ea_9f39_0242ac1c0002row20_col0\" class=\"data row20 col0\" >fel</td>\n",
              "                        <td id=\"T_a9e43b04_a424_11ea_9f39_0242ac1c0002row20_col1\" class=\"data row20 col1\" >97710</td>\n",
              "            </tr>\n",
              "            <tr>\n",
              "                        <th id=\"T_a9e43b04_a424_11ea_9f39_0242ac1c0002level0_row21\" class=\"row_heading level0 row21\" >21</th>\n",
              "                        <td id=\"T_a9e43b04_a424_11ea_9f39_0242ac1c0002row21_col0\" class=\"data row21 col0\" >way</td>\n",
              "                        <td id=\"T_a9e43b04_a424_11ea_9f39_0242ac1c0002row21_col1\" class=\"data row21 col1\" >95744</td>\n",
              "            </tr>\n",
              "            <tr>\n",
              "                        <th id=\"T_a9e43b04_a424_11ea_9f39_0242ac1c0002level0_row22\" class=\"row_heading level0 row22\" >22</th>\n",
              "                        <td id=\"T_a9e43b04_a424_11ea_9f39_0242ac1c0002row22_col0\" class=\"data row22 col0\" >se</td>\n",
              "                        <td id=\"T_a9e43b04_a424_11ea_9f39_0242ac1c0002row22_col1\" class=\"data row22 col1\" >95179</td>\n",
              "            </tr>\n",
              "            <tr>\n",
              "                        <th id=\"T_a9e43b04_a424_11ea_9f39_0242ac1c0002level0_row23\" class=\"row_heading level0 row23\" >23</th>\n",
              "                        <td id=\"T_a9e43b04_a424_11ea_9f39_0242ac1c0002row23_col0\" class=\"data row23 col0\" >much</td>\n",
              "                        <td id=\"T_a9e43b04_a424_11ea_9f39_0242ac1c0002row23_col1\" class=\"data row23 col1\" >94048</td>\n",
              "            </tr>\n",
              "            <tr>\n",
              "                        <th id=\"T_a9e43b04_a424_11ea_9f39_0242ac1c0002level0_row24\" class=\"row_heading level0 row24\" >24</th>\n",
              "                        <td id=\"T_a9e43b04_a424_11ea_9f39_0242ac1c0002row24_col0\" class=\"data row24 col0\" >things</td>\n",
              "                        <td id=\"T_a9e43b04_a424_11ea_9f39_0242ac1c0002row24_col1\" class=\"data row24 col1\" >93884</td>\n",
              "            </tr>\n",
              "    </tbody></table>"
            ],
            "text/plain": [
              "<pandas.io.formats.style.Styler at 0x7f2338c4e0b8>"
            ]
          },
          "metadata": {
            "tags": []
          },
          "execution_count": 49
        }
      ]
    },
    {
      "cell_type": "code",
      "metadata": {
        "id": "Z63Fo64nvMFP",
        "colab_type": "code",
        "outputId": "ced16cb2-bc05-4803-b5ed-dec7c550aaad",
        "colab": {
          "base_uri": "https://localhost:8080/",
          "height": 238
        }
      },
      "source": [
        "import nltk\n",
        "from nltk.tokenize import word_tokenize\n",
        "# nltk.download('punkt')\n",
        "# nltk.download('wordnet')\n",
        "# nltk.download('averaged_perceptron_tagger')\n",
        "lemma = nltk.wordnet.WordNetLemmatizer()\n",
        "from collections import Counter\n",
        "def get_pos(string):\n",
        "  ls = word_tokenize(string)\n",
        "  # nltk.pos_tag(word_tokenize(string))\n",
        "  ls = list(map(lambda x: lemma.lemmatize(x), ls))\n",
        "  return ls\n",
        "\n",
        "df['comment'].apply(get_pos)"
      ],
      "execution_count": 127,
      "outputs": [
        {
          "output_type": "stream",
          "text": [
            "[nltk_data] Downloading package wordnet to /root/nltk_data...\n",
            "[nltk_data]   Package wordnet is already up-to-date!\n"
          ],
          "name": "stdout"
        },
        {
          "output_type": "execute_result",
          "data": {
            "text/plain": [
              "0    [secretive, guy, wrote, thread, like, called, ...\n",
              "1    [wan, na, write, little, story, reading, story...\n",
              "2    [caly, goddess, love, wrote, friend, gon, na, ...\n",
              "3    [would, focus, continue, friendly, guy, true, ...\n",
              "4    [equal, number, pro, con, point, impasse, soci...\n",
              "5    [invisibility, hide, everytime, mom, force, so...\n",
              "6    [like, ncis, ncis, la, time, favorite, tv, sho...\n",
              "7    [anonymous, wrote, go, ask, beat, around, bush...\n",
              "8    [freedom, expression, includes, freedom, weari...\n",
              "9    [think, forced, would, kill, someone, ill, alr...\n",
              "Name: comment, dtype: object"
            ]
          },
          "metadata": {
            "tags": []
          },
          "execution_count": 127
        }
      ]
    },
    {
      "cell_type": "code",
      "metadata": {
        "id": "yqnqqrh5HIr3",
        "colab_type": "code",
        "outputId": "2c033c12-ed9f-405e-bcc4-3909b5fb0691",
        "colab": {
          "base_uri": "https://localhost:8080/",
          "height": 34
        }
      },
      "source": [
        "np.max(list({'cc': 76738,\n",
        " 'cd': 1650378,\n",
        " 'dt': 209457,\n",
        " 'ex': 426,\n",
        " 'fw': 120268,\n",
        " 'in': 1960089,\n",
        " 'jj': 14778027,\n",
        " 'jjr': 216411,\n",
        " 'jjs': 275596,\n",
        " 'md': 1027161,\n",
        " 'nn': 23006063,\n",
        " 'nnp': 100257,\n",
        " 'nnps': 376,\n",
        " 'nns': 7382105,\n",
        " 'pdt': 624,\n",
        " 'pos': 481,\n",
        " 'prp': 186276,\n",
        " 'rb': 6385568,\n",
        " 'rbr': 131876,\n",
        " 'rbs': 13142,\n",
        " 'rp': 110868,\n",
        " 'sym': 552,\n",
        " 'to': 3008,\n",
        " 'uh': 39121,\n",
        " 'vb': 2458951,\n",
        " 'vbd': 5033584,\n",
        " 'vbg': 3615040,\n",
        " 'vbn': 1833444,\n",
        " 'vbp': 4392643,\n",
        " 'vbz': 1343288,\n",
        " 'wdt': 51479,\n",
        " 'wp': 22417,\n",
        " 'wrb': 21129}.values()))"
      ],
      "execution_count": 0,
      "outputs": [
        {
          "output_type": "execute_result",
          "data": {
            "text/plain": [
              "23006063"
            ]
          },
          "metadata": {
            "tags": []
          },
          "execution_count": 79
        }
      ]
    }
  ]
}